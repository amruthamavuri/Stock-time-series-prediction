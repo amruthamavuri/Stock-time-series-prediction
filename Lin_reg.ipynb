{
  "nbformat": 4,
  "nbformat_minor": 0,
  "metadata": {
    "colab": {
      "provenance": []
    },
    "kernelspec": {
      "name": "python3",
      "display_name": "Python 3"
    },
    "language_info": {
      "name": "python"
    }
  },
  "cells": [
    {
      "cell_type": "code",
      "execution_count": null,
      "metadata": {
        "colab": {
          "base_uri": "https://localhost:8080/"
        },
        "id": "fnVBXf7wI73G",
        "outputId": "6557a655-4f99-48ff-b4d9-dabf8bc34c50"
      },
      "outputs": [
        {
          "output_type": "stream",
          "name": "stdout",
          "text": [
            "Looking in indexes: https://pypi.org/simple, https://us-python.pkg.dev/colab-wheels/public/simple/\n",
            "Collecting pmdarima\n",
            "  Downloading pmdarima-2.0.2-cp38-cp38-manylinux_2_17_x86_64.manylinux2014_x86_64.manylinux_2_28_x86_64.whl (1.9 MB)\n",
            "\u001b[2K     \u001b[90m━━━━━━━━━━━━━━━━━━━━━━━━━━━━━━━━━━━━━━━━\u001b[0m \u001b[32m1.9/1.9 MB\u001b[0m \u001b[31m30.1 MB/s\u001b[0m eta \u001b[36m0:00:00\u001b[0m\n",
            "\u001b[?25hRequirement already satisfied: pandas>=0.19 in /usr/local/lib/python3.8/dist-packages (from pmdarima) (1.3.5)\n",
            "Requirement already satisfied: Cython!=0.29.18,!=0.29.31,>=0.29 in /usr/local/lib/python3.8/dist-packages (from pmdarima) (0.29.33)\n",
            "Requirement already satisfied: urllib3 in /usr/local/lib/python3.8/dist-packages (from pmdarima) (1.24.3)\n",
            "Requirement already satisfied: setuptools!=50.0.0,>=38.6.0 in /usr/local/lib/python3.8/dist-packages (from pmdarima) (57.4.0)\n",
            "Requirement already satisfied: scikit-learn>=0.22 in /usr/local/lib/python3.8/dist-packages (from pmdarima) (1.0.2)\n",
            "Requirement already satisfied: joblib>=0.11 in /usr/local/lib/python3.8/dist-packages (from pmdarima) (1.2.0)\n",
            "Requirement already satisfied: numpy>=1.21.2 in /usr/local/lib/python3.8/dist-packages (from pmdarima) (1.21.6)\n",
            "Collecting statsmodels>=0.13.2\n",
            "  Downloading statsmodels-0.13.5-cp38-cp38-manylinux_2_17_x86_64.manylinux2014_x86_64.whl (9.9 MB)\n",
            "\u001b[2K     \u001b[90m━━━━━━━━━━━━━━━━━━━━━━━━━━━━━━━━━━━━━━━━\u001b[0m \u001b[32m9.9/9.9 MB\u001b[0m \u001b[31m122.4 MB/s\u001b[0m eta \u001b[36m0:00:00\u001b[0m\n",
            "\u001b[?25hRequirement already satisfied: scipy>=1.3.2 in /usr/local/lib/python3.8/dist-packages (from pmdarima) (1.7.3)\n",
            "Requirement already satisfied: pytz>=2017.3 in /usr/local/lib/python3.8/dist-packages (from pandas>=0.19->pmdarima) (2022.7)\n",
            "Requirement already satisfied: python-dateutil>=2.7.3 in /usr/local/lib/python3.8/dist-packages (from pandas>=0.19->pmdarima) (2.8.2)\n",
            "Requirement already satisfied: threadpoolctl>=2.0.0 in /usr/local/lib/python3.8/dist-packages (from scikit-learn>=0.22->pmdarima) (3.1.0)\n",
            "Requirement already satisfied: patsy>=0.5.2 in /usr/local/lib/python3.8/dist-packages (from statsmodels>=0.13.2->pmdarima) (0.5.3)\n",
            "Requirement already satisfied: packaging>=21.3 in /usr/local/lib/python3.8/dist-packages (from statsmodels>=0.13.2->pmdarima) (21.3)\n",
            "Requirement already satisfied: pyparsing!=3.0.5,>=2.0.2 in /usr/local/lib/python3.8/dist-packages (from packaging>=21.3->statsmodels>=0.13.2->pmdarima) (3.0.9)\n",
            "Requirement already satisfied: six in /usr/local/lib/python3.8/dist-packages (from patsy>=0.5.2->statsmodels>=0.13.2->pmdarima) (1.15.0)\n",
            "Installing collected packages: statsmodels, pmdarima\n",
            "  Attempting uninstall: statsmodels\n",
            "    Found existing installation: statsmodels 0.12.2\n",
            "    Uninstalling statsmodels-0.12.2:\n",
            "      Successfully uninstalled statsmodels-0.12.2\n",
            "Successfully installed pmdarima-2.0.2 statsmodels-0.13.5\n"
          ]
        }
      ],
      "source": [
        "!pip install pmdarima"
      ]
    },
    {
      "cell_type": "code",
      "source": [
        "import seaborn as sns\n",
        "import math\n",
        "import matplotlib\n",
        "import numpy as np\n",
        "import pandas as pd\n",
        "import time\n",
        "from sklearn import metrics\n",
        "from sklearn.metrics import r2_score\n",
        "from datetime import date, datetime, time\n",
        "from matplotlib import pyplot as plt\n",
        "from pmdarima.arima import auto_arima\n",
        "from statsmodels.tsa.stattools import adfuller\n",
        "from statsmodels.tsa.statespace.sarimax import SARIMAX\n",
        "np.warnings.filterwarnings('ignore')\n",
        "from sklearn import preprocessing\n",
        "from math import sqrt\n",
        "from sklearn.linear_model import LinearRegression\n"
      ],
      "metadata": {
        "id": "C7GzkSHwLDdw"
      },
      "execution_count": null,
      "outputs": []
    },
    {
      "cell_type": "code",
      "source": [
        "tata=pd.read_csv('TCS.csv')"
      ],
      "metadata": {
        "id": "YKe5KsioLSQd"
      },
      "execution_count": null,
      "outputs": []
    },
    {
      "cell_type": "code",
      "source": [
        "print(tata.head())"
      ],
      "metadata": {
        "colab": {
          "base_uri": "https://localhost:8080/"
        },
        "id": "YCOO2nW7LXos",
        "outputId": "3aac037e-4901-43e5-af88-2015f0da1b77"
      },
      "execution_count": null,
      "outputs": [
        {
          "output_type": "stream",
          "name": "stdout",
          "text": [
            "         Date Symbol Series  Prev Close    Open    High     Low    Last  \\\n",
            "0  2004-08-25    TCS     EQ      850.00  1198.7  1198.7  979.00  985.00   \n",
            "1  2004-08-26    TCS     EQ      987.95   992.0   997.0  975.30  976.85   \n",
            "2  2004-08-27    TCS     EQ      979.00   982.4   982.4  958.55  961.20   \n",
            "3  2004-08-30    TCS     EQ      962.65   969.9   990.0  965.00  986.40   \n",
            "4  2004-08-31    TCS     EQ      986.75   986.5   990.0  976.00  987.80   \n",
            "\n",
            "    Close     VWAP    Volume      Turnover  Trades  Deliverable Volume  \\\n",
            "0  987.95  1008.32  17116372  1.725876e+15     NaN             5206360   \n",
            "1  979.00   985.65   5055400  4.982865e+14     NaN             1294899   \n",
            "2  962.65   969.94   3830750  3.715586e+14     NaN              976527   \n",
            "3  986.75   982.65   3058151  3.005106e+14     NaN              701664   \n",
            "4  988.10   982.18   2649332  2.602133e+14     NaN              695234   \n",
            "\n",
            "   %Deliverble  \n",
            "0       0.3042  \n",
            "1       0.2561  \n",
            "2       0.2549  \n",
            "3       0.2294  \n",
            "4       0.2624  \n"
          ]
        }
      ]
    },
    {
      "cell_type": "code",
      "source": [
        "tata.tail()"
      ],
      "metadata": {
        "colab": {
          "base_uri": "https://localhost:8080/",
          "height": 354
        },
        "id": "n_9PGkBe6MO4",
        "outputId": "654cd228-eaf4-4b09-cf4d-6e91c20ff697"
      },
      "execution_count": null,
      "outputs": [
        {
          "output_type": "execute_result",
          "data": {
            "text/plain": [
              "            Date Symbol Series  Prev Close     Open     High      Low  \\\n",
              "4134  2021-04-26    TCS     EQ     3109.50  3102.05  3153.00  3088.05   \n",
              "4135  2021-04-27    TCS     EQ     3100.80  3106.00  3136.10  3103.00   \n",
              "4136  2021-04-28    TCS     EQ     3132.00  3149.95  3151.00  3112.00   \n",
              "4137  2021-04-29    TCS     EQ     3124.10  3145.60  3157.35  3105.50   \n",
              "4138  2021-04-30    TCS     EQ     3115.25  3099.00  3132.05  3020.00   \n",
              "\n",
              "         Last    Close     VWAP   Volume      Turnover    Trades  \\\n",
              "4134  3100.05  3100.80  3122.35  2490260  7.775465e+14   87012.0   \n",
              "4135  3132.75  3132.00  3122.18  1471417  4.594036e+14   97077.0   \n",
              "4136  3123.00  3124.10  3125.72  1639037  5.123176e+14   76017.0   \n",
              "4137  3114.45  3115.25  3130.83  1621395  5.076306e+14   98275.0   \n",
              "4138  3040.00  3035.65  3063.19  3072305  9.411057e+14  157829.0   \n",
              "\n",
              "      Deliverable Volume  %Deliverble  \n",
              "4134             1345353       0.5402  \n",
              "4135              849767       0.5775  \n",
              "4136              847762       0.5172  \n",
              "4137              837567       0.5166  \n",
              "4138             1942473       0.6323  "
            ],
            "text/html": [
              "\n",
              "  <div id=\"df-3c4c65e5-8ff6-4122-a41e-8482629f3ab0\">\n",
              "    <div class=\"colab-df-container\">\n",
              "      <div>\n",
              "<style scoped>\n",
              "    .dataframe tbody tr th:only-of-type {\n",
              "        vertical-align: middle;\n",
              "    }\n",
              "\n",
              "    .dataframe tbody tr th {\n",
              "        vertical-align: top;\n",
              "    }\n",
              "\n",
              "    .dataframe thead th {\n",
              "        text-align: right;\n",
              "    }\n",
              "</style>\n",
              "<table border=\"1\" class=\"dataframe\">\n",
              "  <thead>\n",
              "    <tr style=\"text-align: right;\">\n",
              "      <th></th>\n",
              "      <th>Date</th>\n",
              "      <th>Symbol</th>\n",
              "      <th>Series</th>\n",
              "      <th>Prev Close</th>\n",
              "      <th>Open</th>\n",
              "      <th>High</th>\n",
              "      <th>Low</th>\n",
              "      <th>Last</th>\n",
              "      <th>Close</th>\n",
              "      <th>VWAP</th>\n",
              "      <th>Volume</th>\n",
              "      <th>Turnover</th>\n",
              "      <th>Trades</th>\n",
              "      <th>Deliverable Volume</th>\n",
              "      <th>%Deliverble</th>\n",
              "    </tr>\n",
              "  </thead>\n",
              "  <tbody>\n",
              "    <tr>\n",
              "      <th>4134</th>\n",
              "      <td>2021-04-26</td>\n",
              "      <td>TCS</td>\n",
              "      <td>EQ</td>\n",
              "      <td>3109.50</td>\n",
              "      <td>3102.05</td>\n",
              "      <td>3153.00</td>\n",
              "      <td>3088.05</td>\n",
              "      <td>3100.05</td>\n",
              "      <td>3100.80</td>\n",
              "      <td>3122.35</td>\n",
              "      <td>2490260</td>\n",
              "      <td>7.775465e+14</td>\n",
              "      <td>87012.0</td>\n",
              "      <td>1345353</td>\n",
              "      <td>0.5402</td>\n",
              "    </tr>\n",
              "    <tr>\n",
              "      <th>4135</th>\n",
              "      <td>2021-04-27</td>\n",
              "      <td>TCS</td>\n",
              "      <td>EQ</td>\n",
              "      <td>3100.80</td>\n",
              "      <td>3106.00</td>\n",
              "      <td>3136.10</td>\n",
              "      <td>3103.00</td>\n",
              "      <td>3132.75</td>\n",
              "      <td>3132.00</td>\n",
              "      <td>3122.18</td>\n",
              "      <td>1471417</td>\n",
              "      <td>4.594036e+14</td>\n",
              "      <td>97077.0</td>\n",
              "      <td>849767</td>\n",
              "      <td>0.5775</td>\n",
              "    </tr>\n",
              "    <tr>\n",
              "      <th>4136</th>\n",
              "      <td>2021-04-28</td>\n",
              "      <td>TCS</td>\n",
              "      <td>EQ</td>\n",
              "      <td>3132.00</td>\n",
              "      <td>3149.95</td>\n",
              "      <td>3151.00</td>\n",
              "      <td>3112.00</td>\n",
              "      <td>3123.00</td>\n",
              "      <td>3124.10</td>\n",
              "      <td>3125.72</td>\n",
              "      <td>1639037</td>\n",
              "      <td>5.123176e+14</td>\n",
              "      <td>76017.0</td>\n",
              "      <td>847762</td>\n",
              "      <td>0.5172</td>\n",
              "    </tr>\n",
              "    <tr>\n",
              "      <th>4137</th>\n",
              "      <td>2021-04-29</td>\n",
              "      <td>TCS</td>\n",
              "      <td>EQ</td>\n",
              "      <td>3124.10</td>\n",
              "      <td>3145.60</td>\n",
              "      <td>3157.35</td>\n",
              "      <td>3105.50</td>\n",
              "      <td>3114.45</td>\n",
              "      <td>3115.25</td>\n",
              "      <td>3130.83</td>\n",
              "      <td>1621395</td>\n",
              "      <td>5.076306e+14</td>\n",
              "      <td>98275.0</td>\n",
              "      <td>837567</td>\n",
              "      <td>0.5166</td>\n",
              "    </tr>\n",
              "    <tr>\n",
              "      <th>4138</th>\n",
              "      <td>2021-04-30</td>\n",
              "      <td>TCS</td>\n",
              "      <td>EQ</td>\n",
              "      <td>3115.25</td>\n",
              "      <td>3099.00</td>\n",
              "      <td>3132.05</td>\n",
              "      <td>3020.00</td>\n",
              "      <td>3040.00</td>\n",
              "      <td>3035.65</td>\n",
              "      <td>3063.19</td>\n",
              "      <td>3072305</td>\n",
              "      <td>9.411057e+14</td>\n",
              "      <td>157829.0</td>\n",
              "      <td>1942473</td>\n",
              "      <td>0.6323</td>\n",
              "    </tr>\n",
              "  </tbody>\n",
              "</table>\n",
              "</div>\n",
              "      <button class=\"colab-df-convert\" onclick=\"convertToInteractive('df-3c4c65e5-8ff6-4122-a41e-8482629f3ab0')\"\n",
              "              title=\"Convert this dataframe to an interactive table.\"\n",
              "              style=\"display:none;\">\n",
              "        \n",
              "  <svg xmlns=\"http://www.w3.org/2000/svg\" height=\"24px\"viewBox=\"0 0 24 24\"\n",
              "       width=\"24px\">\n",
              "    <path d=\"M0 0h24v24H0V0z\" fill=\"none\"/>\n",
              "    <path d=\"M18.56 5.44l.94 2.06.94-2.06 2.06-.94-2.06-.94-.94-2.06-.94 2.06-2.06.94zm-11 1L8.5 8.5l.94-2.06 2.06-.94-2.06-.94L8.5 2.5l-.94 2.06-2.06.94zm10 10l.94 2.06.94-2.06 2.06-.94-2.06-.94-.94-2.06-.94 2.06-2.06.94z\"/><path d=\"M17.41 7.96l-1.37-1.37c-.4-.4-.92-.59-1.43-.59-.52 0-1.04.2-1.43.59L10.3 9.45l-7.72 7.72c-.78.78-.78 2.05 0 2.83L4 21.41c.39.39.9.59 1.41.59.51 0 1.02-.2 1.41-.59l7.78-7.78 2.81-2.81c.8-.78.8-2.07 0-2.86zM5.41 20L4 18.59l7.72-7.72 1.47 1.35L5.41 20z\"/>\n",
              "  </svg>\n",
              "      </button>\n",
              "      \n",
              "  <style>\n",
              "    .colab-df-container {\n",
              "      display:flex;\n",
              "      flex-wrap:wrap;\n",
              "      gap: 12px;\n",
              "    }\n",
              "\n",
              "    .colab-df-convert {\n",
              "      background-color: #E8F0FE;\n",
              "      border: none;\n",
              "      border-radius: 50%;\n",
              "      cursor: pointer;\n",
              "      display: none;\n",
              "      fill: #1967D2;\n",
              "      height: 32px;\n",
              "      padding: 0 0 0 0;\n",
              "      width: 32px;\n",
              "    }\n",
              "\n",
              "    .colab-df-convert:hover {\n",
              "      background-color: #E2EBFA;\n",
              "      box-shadow: 0px 1px 2px rgba(60, 64, 67, 0.3), 0px 1px 3px 1px rgba(60, 64, 67, 0.15);\n",
              "      fill: #174EA6;\n",
              "    }\n",
              "\n",
              "    [theme=dark] .colab-df-convert {\n",
              "      background-color: #3B4455;\n",
              "      fill: #D2E3FC;\n",
              "    }\n",
              "\n",
              "    [theme=dark] .colab-df-convert:hover {\n",
              "      background-color: #434B5C;\n",
              "      box-shadow: 0px 1px 3px 1px rgba(0, 0, 0, 0.15);\n",
              "      filter: drop-shadow(0px 1px 2px rgba(0, 0, 0, 0.3));\n",
              "      fill: #FFFFFF;\n",
              "    }\n",
              "  </style>\n",
              "\n",
              "      <script>\n",
              "        const buttonEl =\n",
              "          document.querySelector('#df-3c4c65e5-8ff6-4122-a41e-8482629f3ab0 button.colab-df-convert');\n",
              "        buttonEl.style.display =\n",
              "          google.colab.kernel.accessAllowed ? 'block' : 'none';\n",
              "\n",
              "        async function convertToInteractive(key) {\n",
              "          const element = document.querySelector('#df-3c4c65e5-8ff6-4122-a41e-8482629f3ab0');\n",
              "          const dataTable =\n",
              "            await google.colab.kernel.invokeFunction('convertToInteractive',\n",
              "                                                     [key], {});\n",
              "          if (!dataTable) return;\n",
              "\n",
              "          const docLinkHtml = 'Like what you see? Visit the ' +\n",
              "            '<a target=\"_blank\" href=https://colab.research.google.com/notebooks/data_table.ipynb>data table notebook</a>'\n",
              "            + ' to learn more about interactive tables.';\n",
              "          element.innerHTML = '';\n",
              "          dataTable['output_type'] = 'display_data';\n",
              "          await google.colab.output.renderOutput(dataTable, element);\n",
              "          const docLink = document.createElement('div');\n",
              "          docLink.innerHTML = docLinkHtml;\n",
              "          element.appendChild(docLink);\n",
              "        }\n",
              "      </script>\n",
              "    </div>\n",
              "  </div>\n",
              "  "
            ]
          },
          "metadata": {},
          "execution_count": 5
        }
      ]
    },
    {
      "cell_type": "code",
      "source": [
        "tata['company'] = 'Tata'\n",
        "tata.head()"
      ],
      "metadata": {
        "id": "E1zjlgjLLr5Z",
        "outputId": "c2342003-8d15-4358-8e71-c7c4a08bfbb8",
        "colab": {
          "base_uri": "https://localhost:8080/",
          "height": 354
        }
      },
      "execution_count": null,
      "outputs": [
        {
          "output_type": "execute_result",
          "data": {
            "text/plain": [
              "         Date Symbol Series  Prev Close    Open    High     Low    Last  \\\n",
              "0  2004-08-25    TCS     EQ      850.00  1198.7  1198.7  979.00  985.00   \n",
              "1  2004-08-26    TCS     EQ      987.95   992.0   997.0  975.30  976.85   \n",
              "2  2004-08-27    TCS     EQ      979.00   982.4   982.4  958.55  961.20   \n",
              "3  2004-08-30    TCS     EQ      962.65   969.9   990.0  965.00  986.40   \n",
              "4  2004-08-31    TCS     EQ      986.75   986.5   990.0  976.00  987.80   \n",
              "\n",
              "    Close     VWAP    Volume      Turnover  Trades  Deliverable Volume  \\\n",
              "0  987.95  1008.32  17116372  1.725876e+15     NaN             5206360   \n",
              "1  979.00   985.65   5055400  4.982865e+14     NaN             1294899   \n",
              "2  962.65   969.94   3830750  3.715586e+14     NaN              976527   \n",
              "3  986.75   982.65   3058151  3.005106e+14     NaN              701664   \n",
              "4  988.10   982.18   2649332  2.602133e+14     NaN              695234   \n",
              "\n",
              "   %Deliverble company  \n",
              "0       0.3042    Tata  \n",
              "1       0.2561    Tata  \n",
              "2       0.2549    Tata  \n",
              "3       0.2294    Tata  \n",
              "4       0.2624    Tata  "
            ],
            "text/html": [
              "\n",
              "  <div id=\"df-f37aec6a-746e-47ec-b89d-e76c57d110fb\">\n",
              "    <div class=\"colab-df-container\">\n",
              "      <div>\n",
              "<style scoped>\n",
              "    .dataframe tbody tr th:only-of-type {\n",
              "        vertical-align: middle;\n",
              "    }\n",
              "\n",
              "    .dataframe tbody tr th {\n",
              "        vertical-align: top;\n",
              "    }\n",
              "\n",
              "    .dataframe thead th {\n",
              "        text-align: right;\n",
              "    }\n",
              "</style>\n",
              "<table border=\"1\" class=\"dataframe\">\n",
              "  <thead>\n",
              "    <tr style=\"text-align: right;\">\n",
              "      <th></th>\n",
              "      <th>Date</th>\n",
              "      <th>Symbol</th>\n",
              "      <th>Series</th>\n",
              "      <th>Prev Close</th>\n",
              "      <th>Open</th>\n",
              "      <th>High</th>\n",
              "      <th>Low</th>\n",
              "      <th>Last</th>\n",
              "      <th>Close</th>\n",
              "      <th>VWAP</th>\n",
              "      <th>Volume</th>\n",
              "      <th>Turnover</th>\n",
              "      <th>Trades</th>\n",
              "      <th>Deliverable Volume</th>\n",
              "      <th>%Deliverble</th>\n",
              "      <th>company</th>\n",
              "    </tr>\n",
              "  </thead>\n",
              "  <tbody>\n",
              "    <tr>\n",
              "      <th>0</th>\n",
              "      <td>2004-08-25</td>\n",
              "      <td>TCS</td>\n",
              "      <td>EQ</td>\n",
              "      <td>850.00</td>\n",
              "      <td>1198.7</td>\n",
              "      <td>1198.7</td>\n",
              "      <td>979.00</td>\n",
              "      <td>985.00</td>\n",
              "      <td>987.95</td>\n",
              "      <td>1008.32</td>\n",
              "      <td>17116372</td>\n",
              "      <td>1.725876e+15</td>\n",
              "      <td>NaN</td>\n",
              "      <td>5206360</td>\n",
              "      <td>0.3042</td>\n",
              "      <td>Tata</td>\n",
              "    </tr>\n",
              "    <tr>\n",
              "      <th>1</th>\n",
              "      <td>2004-08-26</td>\n",
              "      <td>TCS</td>\n",
              "      <td>EQ</td>\n",
              "      <td>987.95</td>\n",
              "      <td>992.0</td>\n",
              "      <td>997.0</td>\n",
              "      <td>975.30</td>\n",
              "      <td>976.85</td>\n",
              "      <td>979.00</td>\n",
              "      <td>985.65</td>\n",
              "      <td>5055400</td>\n",
              "      <td>4.982865e+14</td>\n",
              "      <td>NaN</td>\n",
              "      <td>1294899</td>\n",
              "      <td>0.2561</td>\n",
              "      <td>Tata</td>\n",
              "    </tr>\n",
              "    <tr>\n",
              "      <th>2</th>\n",
              "      <td>2004-08-27</td>\n",
              "      <td>TCS</td>\n",
              "      <td>EQ</td>\n",
              "      <td>979.00</td>\n",
              "      <td>982.4</td>\n",
              "      <td>982.4</td>\n",
              "      <td>958.55</td>\n",
              "      <td>961.20</td>\n",
              "      <td>962.65</td>\n",
              "      <td>969.94</td>\n",
              "      <td>3830750</td>\n",
              "      <td>3.715586e+14</td>\n",
              "      <td>NaN</td>\n",
              "      <td>976527</td>\n",
              "      <td>0.2549</td>\n",
              "      <td>Tata</td>\n",
              "    </tr>\n",
              "    <tr>\n",
              "      <th>3</th>\n",
              "      <td>2004-08-30</td>\n",
              "      <td>TCS</td>\n",
              "      <td>EQ</td>\n",
              "      <td>962.65</td>\n",
              "      <td>969.9</td>\n",
              "      <td>990.0</td>\n",
              "      <td>965.00</td>\n",
              "      <td>986.40</td>\n",
              "      <td>986.75</td>\n",
              "      <td>982.65</td>\n",
              "      <td>3058151</td>\n",
              "      <td>3.005106e+14</td>\n",
              "      <td>NaN</td>\n",
              "      <td>701664</td>\n",
              "      <td>0.2294</td>\n",
              "      <td>Tata</td>\n",
              "    </tr>\n",
              "    <tr>\n",
              "      <th>4</th>\n",
              "      <td>2004-08-31</td>\n",
              "      <td>TCS</td>\n",
              "      <td>EQ</td>\n",
              "      <td>986.75</td>\n",
              "      <td>986.5</td>\n",
              "      <td>990.0</td>\n",
              "      <td>976.00</td>\n",
              "      <td>987.80</td>\n",
              "      <td>988.10</td>\n",
              "      <td>982.18</td>\n",
              "      <td>2649332</td>\n",
              "      <td>2.602133e+14</td>\n",
              "      <td>NaN</td>\n",
              "      <td>695234</td>\n",
              "      <td>0.2624</td>\n",
              "      <td>Tata</td>\n",
              "    </tr>\n",
              "  </tbody>\n",
              "</table>\n",
              "</div>\n",
              "      <button class=\"colab-df-convert\" onclick=\"convertToInteractive('df-f37aec6a-746e-47ec-b89d-e76c57d110fb')\"\n",
              "              title=\"Convert this dataframe to an interactive table.\"\n",
              "              style=\"display:none;\">\n",
              "        \n",
              "  <svg xmlns=\"http://www.w3.org/2000/svg\" height=\"24px\"viewBox=\"0 0 24 24\"\n",
              "       width=\"24px\">\n",
              "    <path d=\"M0 0h24v24H0V0z\" fill=\"none\"/>\n",
              "    <path d=\"M18.56 5.44l.94 2.06.94-2.06 2.06-.94-2.06-.94-.94-2.06-.94 2.06-2.06.94zm-11 1L8.5 8.5l.94-2.06 2.06-.94-2.06-.94L8.5 2.5l-.94 2.06-2.06.94zm10 10l.94 2.06.94-2.06 2.06-.94-2.06-.94-.94-2.06-.94 2.06-2.06.94z\"/><path d=\"M17.41 7.96l-1.37-1.37c-.4-.4-.92-.59-1.43-.59-.52 0-1.04.2-1.43.59L10.3 9.45l-7.72 7.72c-.78.78-.78 2.05 0 2.83L4 21.41c.39.39.9.59 1.41.59.51 0 1.02-.2 1.41-.59l7.78-7.78 2.81-2.81c.8-.78.8-2.07 0-2.86zM5.41 20L4 18.59l7.72-7.72 1.47 1.35L5.41 20z\"/>\n",
              "  </svg>\n",
              "      </button>\n",
              "      \n",
              "  <style>\n",
              "    .colab-df-container {\n",
              "      display:flex;\n",
              "      flex-wrap:wrap;\n",
              "      gap: 12px;\n",
              "    }\n",
              "\n",
              "    .colab-df-convert {\n",
              "      background-color: #E8F0FE;\n",
              "      border: none;\n",
              "      border-radius: 50%;\n",
              "      cursor: pointer;\n",
              "      display: none;\n",
              "      fill: #1967D2;\n",
              "      height: 32px;\n",
              "      padding: 0 0 0 0;\n",
              "      width: 32px;\n",
              "    }\n",
              "\n",
              "    .colab-df-convert:hover {\n",
              "      background-color: #E2EBFA;\n",
              "      box-shadow: 0px 1px 2px rgba(60, 64, 67, 0.3), 0px 1px 3px 1px rgba(60, 64, 67, 0.15);\n",
              "      fill: #174EA6;\n",
              "    }\n",
              "\n",
              "    [theme=dark] .colab-df-convert {\n",
              "      background-color: #3B4455;\n",
              "      fill: #D2E3FC;\n",
              "    }\n",
              "\n",
              "    [theme=dark] .colab-df-convert:hover {\n",
              "      background-color: #434B5C;\n",
              "      box-shadow: 0px 1px 3px 1px rgba(0, 0, 0, 0.15);\n",
              "      filter: drop-shadow(0px 1px 2px rgba(0, 0, 0, 0.3));\n",
              "      fill: #FFFFFF;\n",
              "    }\n",
              "  </style>\n",
              "\n",
              "      <script>\n",
              "        const buttonEl =\n",
              "          document.querySelector('#df-f37aec6a-746e-47ec-b89d-e76c57d110fb button.colab-df-convert');\n",
              "        buttonEl.style.display =\n",
              "          google.colab.kernel.accessAllowed ? 'block' : 'none';\n",
              "\n",
              "        async function convertToInteractive(key) {\n",
              "          const element = document.querySelector('#df-f37aec6a-746e-47ec-b89d-e76c57d110fb');\n",
              "          const dataTable =\n",
              "            await google.colab.kernel.invokeFunction('convertToInteractive',\n",
              "                                                     [key], {});\n",
              "          if (!dataTable) return;\n",
              "\n",
              "          const docLinkHtml = 'Like what you see? Visit the ' +\n",
              "            '<a target=\"_blank\" href=https://colab.research.google.com/notebooks/data_table.ipynb>data table notebook</a>'\n",
              "            + ' to learn more about interactive tables.';\n",
              "          element.innerHTML = '';\n",
              "          dataTable['output_type'] = 'display_data';\n",
              "          await google.colab.output.renderOutput(dataTable, element);\n",
              "          const docLink = document.createElement('div');\n",
              "          docLink.innerHTML = docLinkHtml;\n",
              "          element.appendChild(docLink);\n",
              "        }\n",
              "      </script>\n",
              "    </div>\n",
              "  </div>\n",
              "  "
            ]
          },
          "metadata": {},
          "execution_count": 6
        }
      ]
    },
    {
      "cell_type": "code",
      "source": [
        "tata.info()"
      ],
      "metadata": {
        "id": "w8jZNEQzLsM7",
        "outputId": "f7ed851d-843b-488f-e733-1be1fdb3133f",
        "colab": {
          "base_uri": "https://localhost:8080/"
        }
      },
      "execution_count": null,
      "outputs": [
        {
          "output_type": "stream",
          "name": "stdout",
          "text": [
            "<class 'pandas.core.frame.DataFrame'>\n",
            "RangeIndex: 4139 entries, 0 to 4138\n",
            "Data columns (total 16 columns):\n",
            " #   Column              Non-Null Count  Dtype  \n",
            "---  ------              --------------  -----  \n",
            " 0   Date                4139 non-null   object \n",
            " 1   Symbol              4139 non-null   object \n",
            " 2   Series              4139 non-null   object \n",
            " 3   Prev Close          4139 non-null   float64\n",
            " 4   Open                4139 non-null   float64\n",
            " 5   High                4139 non-null   float64\n",
            " 6   Low                 4139 non-null   float64\n",
            " 7   Last                4139 non-null   float64\n",
            " 8   Close               4139 non-null   float64\n",
            " 9   VWAP                4139 non-null   float64\n",
            " 10  Volume              4139 non-null   int64  \n",
            " 11  Turnover            4139 non-null   float64\n",
            " 12  Trades              2456 non-null   float64\n",
            " 13  Deliverable Volume  4139 non-null   int64  \n",
            " 14  %Deliverble         4139 non-null   float64\n",
            " 15  company             4139 non-null   object \n",
            "dtypes: float64(10), int64(2), object(4)\n",
            "memory usage: 517.5+ KB\n"
          ]
        }
      ]
    },
    {
      "cell_type": "code",
      "source": [
        "plt.plot(tata.Close, label='tata')\n",
        "plt.legend()"
      ],
      "metadata": {
        "id": "2oRXJVuKLsZp",
        "outputId": "4fe47172-8147-4db4-e5d9-804abde4148c",
        "colab": {
          "base_uri": "https://localhost:8080/",
          "height": 282
        }
      },
      "execution_count": null,
      "outputs": [
        {
          "output_type": "execute_result",
          "data": {
            "text/plain": [
              "<matplotlib.legend.Legend at 0x7fe8b6c21700>"
            ]
          },
          "metadata": {},
          "execution_count": 8
        },
        {
          "output_type": "display_data",
          "data": {
            "text/plain": [
              "<Figure size 432x288 with 1 Axes>"
            ],
            "image/png": "[encoded data removed]"
          },
          "metadata": {
            "needs_background": "light"
          }
        }
      ]
    },
    {
      "cell_type": "code",
      "source": [
        "#moving average\n",
        "ma_day=[1000]\n",
        "for ma in ma_day:\n",
        "  tata1 = tata['Close'].to_frame()\n",
        "# calculating simple moving average\n",
        "# using .rolling(window).mean() ,\n",
        "# with window size = 1000\n",
        "tata1['SMA30'] = tata['Close'].rolling(ma).mean()\n",
        "tata.dropna(inplace=True)\n",
        ""
      ],
      "metadata": {
        "id": "mE1douOsLscz"
      },
      "execution_count": null,
      "outputs": []
    },
    {
      "cell_type": "code",
      "source": [
        "tata.head()"
      ],
      "metadata": {
        "id": "I7pjUvJmLseY",
        "outputId": "f4e099c7-7cbe-4991-cbcc-4162248085d6",
        "colab": {
          "base_uri": "https://localhost:8080/",
          "height": 461
        }
      },
      "execution_count": null,
      "outputs": [
        {
          "output_type": "execute_result",
          "data": {
            "text/plain": [
              "            Date Symbol Series  Prev Close    Open     High      Low    Last  \\\n",
              "1683  2011-06-01    TCS     EQ     1157.15  1157.0  1177.00  1157.00  1174.7   \n",
              "1684  2011-06-02    TCS     EQ     1175.40  1158.9  1172.00  1156.65  1170.0   \n",
              "1685  2011-06-03    TCS     EQ     1167.75  1166.0  1175.00  1150.00  1153.0   \n",
              "1686  2011-06-06    TCS     EQ     1152.10  1140.0  1168.00  1140.00  1167.0   \n",
              "1687  2011-06-07    TCS     EQ     1164.35  1163.0  1183.15  1158.00  1180.0   \n",
              "\n",
              "        Close     VWAP  Volume      Turnover   Trades  Deliverable Volume  \\\n",
              "1683  1175.40  1171.25  491193  5.753106e+13  24427.0              235463   \n",
              "1684  1167.75  1163.45  848827  9.875700e+13  31879.0              505320   \n",
              "1685  1152.10  1157.15  683904  7.913794e+13  21179.0              416548   \n",
              "1686  1164.35  1156.70  678537  7.848626e+13  20965.0              373937   \n",
              "1687  1179.30  1175.19  918721  1.079673e+14  26487.0              598039   \n",
              "\n",
              "      %Deliverble company  \n",
              "1683       0.4794    Tata  \n",
              "1684       0.5953    Tata  \n",
              "1685       0.6091    Tata  \n",
              "1686       0.5511    Tata  \n",
              "1687       0.6509    Tata  "
            ],
            "text/html": [
              "\n",
              "  <div id=\"df-09ce2b1d-228d-4365-98d6-e94a088f79d3\">\n",
              "    <div class=\"colab-df-container\">\n",
              "      <div>\n",
              "<style scoped>\n",
              "    .dataframe tbody tr th:only-of-type {\n",
              "        vertical-align: middle;\n",
              "    }\n",
              "\n",
              "    .dataframe tbody tr th {\n",
              "        vertical-align: top;\n",
              "    }\n",
              "\n",
              "    .dataframe thead th {\n",
              "        text-align: right;\n",
              "    }\n",
              "</style>\n",
              "<table border=\"1\" class=\"dataframe\">\n",
              "  <thead>\n",
              "    <tr style=\"text-align: right;\">\n",
              "      <th></th>\n",
              "      <th>Date</th>\n",
              "      <th>Symbol</th>\n",
              "      <th>Series</th>\n",
              "      <th>Prev Close</th>\n",
              "      <th>Open</th>\n",
              "      <th>High</th>\n",
              "      <th>Low</th>\n",
              "      <th>Last</th>\n",
              "      <th>Close</th>\n",
              "      <th>VWAP</th>\n",
              "      <th>Volume</th>\n",
              "      <th>Turnover</th>\n",
              "      <th>Trades</th>\n",
              "      <th>Deliverable Volume</th>\n",
              "      <th>%Deliverble</th>\n",
              "      <th>company</th>\n",
              "    </tr>\n",
              "  </thead>\n",
              "  <tbody>\n",
              "    <tr>\n",
              "      <th>1683</th>\n",
              "      <td>2011-06-01</td>\n",
              "      <td>TCS</td>\n",
              "      <td>EQ</td>\n",
              "      <td>1157.15</td>\n",
              "      <td>1157.0</td>\n",
              "      <td>1177.00</td>\n",
              "      <td>1157.00</td>\n",
              "      <td>1174.7</td>\n",
              "      <td>1175.40</td>\n",
              "      <td>1171.25</td>\n",
              "      <td>491193</td>\n",
              "      <td>5.753106e+13</td>\n",
              "      <td>24427.0</td>\n",
              "      <td>235463</td>\n",
              "      <td>0.4794</td>\n",
              "      <td>Tata</td>\n",
              "    </tr>\n",
              "    <tr>\n",
              "      <th>1684</th>\n",
              "      <td>2011-06-02</td>\n",
              "      <td>TCS</td>\n",
              "      <td>EQ</td>\n",
              "      <td>1175.40</td>\n",
              "      <td>1158.9</td>\n",
              "      <td>1172.00</td>\n",
              "      <td>1156.65</td>\n",
              "      <td>1170.0</td>\n",
              "      <td>1167.75</td>\n",
              "      <td>1163.45</td>\n",
              "      <td>848827</td>\n",
              "      <td>9.875700e+13</td>\n",
              "      <td>31879.0</td>\n",
              "      <td>505320</td>\n",
              "      <td>0.5953</td>\n",
              "      <td>Tata</td>\n",
              "    </tr>\n",
              "    <tr>\n",
              "      <th>1685</th>\n",
              "      <td>2011-06-03</td>\n",
              "      <td>TCS</td>\n",
              "      <td>EQ</td>\n",
              "      <td>1167.75</td>\n",
              "      <td>1166.0</td>\n",
              "      <td>1175.00</td>\n",
              "      <td>1150.00</td>\n",
              "      <td>1153.0</td>\n",
              "      <td>1152.10</td>\n",
              "      <td>1157.15</td>\n",
              "      <td>683904</td>\n",
              "      <td>7.913794e+13</td>\n",
              "      <td>21179.0</td>\n",
              "      <td>416548</td>\n",
              "      <td>0.6091</td>\n",
              "      <td>Tata</td>\n",
              "    </tr>\n",
              "    <tr>\n",
              "      <th>1686</th>\n",
              "      <td>2011-06-06</td>\n",
              "      <td>TCS</td>\n",
              "      <td>EQ</td>\n",
              "      <td>1152.10</td>\n",
              "      <td>1140.0</td>\n",
              "      <td>1168.00</td>\n",
              "      <td>1140.00</td>\n",
              "      <td>1167.0</td>\n",
              "      <td>1164.35</td>\n",
              "      <td>1156.70</td>\n",
              "      <td>678537</td>\n",
              "      <td>7.848626e+13</td>\n",
              "      <td>20965.0</td>\n",
              "      <td>373937</td>\n",
              "      <td>0.5511</td>\n",
              "      <td>Tata</td>\n",
              "    </tr>\n",
              "    <tr>\n",
              "      <th>1687</th>\n",
              "      <td>2011-06-07</td>\n",
              "      <td>TCS</td>\n",
              "      <td>EQ</td>\n",
              "      <td>1164.35</td>\n",
              "      <td>1163.0</td>\n",
              "      <td>1183.15</td>\n",
              "      <td>1158.00</td>\n",
              "      <td>1180.0</td>\n",
              "      <td>1179.30</td>\n",
              "      <td>1175.19</td>\n",
              "      <td>918721</td>\n",
              "      <td>1.079673e+14</td>\n",
              "      <td>26487.0</td>\n",
              "      <td>598039</td>\n",
              "      <td>0.6509</td>\n",
              "      <td>Tata</td>\n",
              "    </tr>\n",
              "  </tbody>\n",
              "</table>\n",
              "</div>\n",
              "      <button class=\"colab-df-convert\" onclick=\"convertToInteractive('df-09ce2b1d-228d-4365-98d6-e94a088f79d3')\"\n",
              "              title=\"Convert this dataframe to an interactive table.\"\n",
              "              style=\"display:none;\">\n",
              "        \n",
              "  <svg xmlns=\"http://www.w3.org/2000/svg\" height=\"24px\"viewBox=\"0 0 24 24\"\n",
              "       width=\"24px\">\n",
              "    <path d=\"M0 0h24v24H0V0z\" fill=\"none\"/>\n",
              "    <path d=\"M18.56 5.44l.94 2.06.94-2.06 2.06-.94-2.06-.94-.94-2.06-.94 2.06-2.06.94zm-11 1L8.5 8.5l.94-2.06 2.06-.94-2.06-.94L8.5 2.5l-.94 2.06-2.06.94zm10 10l.94 2.06.94-2.06 2.06-.94-2.06-.94-.94-2.06-.94 2.06-2.06.94z\"/><path d=\"M17.41 7.96l-1.37-1.37c-.4-.4-.92-.59-1.43-.59-.52 0-1.04.2-1.43.59L10.3 9.45l-7.72 7.72c-.78.78-.78 2.05 0 2.83L4 21.41c.39.39.9.59 1.41.59.51 0 1.02-.2 1.41-.59l7.78-7.78 2.81-2.81c.8-.78.8-2.07 0-2.86zM5.41 20L4 18.59l7.72-7.72 1.47 1.35L5.41 20z\"/>\n",
              "  </svg>\n",
              "      </button>\n",
              "      \n",
              "  <style>\n",
              "    .colab-df-container {\n",
              "      display:flex;\n",
              "      flex-wrap:wrap;\n",
              "      gap: 12px;\n",
              "    }\n",
              "\n",
              "    .colab-df-convert {\n",
              "      background-color: #E8F0FE;\n",
              "      border: none;\n",
              "      border-radius: 50%;\n",
              "      cursor: pointer;\n",
              "      display: none;\n",
              "      fill: #1967D2;\n",
              "      height: 32px;\n",
              "      padding: 0 0 0 0;\n",
              "      width: 32px;\n",
              "    }\n",
              "\n",
              "    .colab-df-convert:hover {\n",
              "      background-color: #E2EBFA;\n",
              "      box-shadow: 0px 1px 2px rgba(60, 64, 67, 0.3), 0px 1px 3px 1px rgba(60, 64, 67, 0.15);\n",
              "      fill: #174EA6;\n",
              "    }\n",
              "\n",
              "    [theme=dark] .colab-df-convert {\n",
              "      background-color: #3B4455;\n",
              "      fill: #D2E3FC;\n",
              "    }\n",
              "\n",
              "    [theme=dark] .colab-df-convert:hover {\n",
              "      background-color: #434B5C;\n",
              "      box-shadow: 0px 1px 3px 1px rgba(0, 0, 0, 0.15);\n",
              "      filter: drop-shadow(0px 1px 2px rgba(0, 0, 0, 0.3));\n",
              "      fill: #FFFFFF;\n",
              "    }\n",
              "  </style>\n",
              "\n",
              "      <script>\n",
              "        const buttonEl =\n",
              "          document.querySelector('#df-09ce2b1d-228d-4365-98d6-e94a088f79d3 button.colab-df-convert');\n",
              "        buttonEl.style.display =\n",
              "          google.colab.kernel.accessAllowed ? 'block' : 'none';\n",
              "\n",
              "        async function convertToInteractive(key) {\n",
              "          const element = document.querySelector('#df-09ce2b1d-228d-4365-98d6-e94a088f79d3');\n",
              "          const dataTable =\n",
              "            await google.colab.kernel.invokeFunction('convertToInteractive',\n",
              "                                                     [key], {});\n",
              "          if (!dataTable) return;\n",
              "\n",
              "          const docLinkHtml = 'Like what you see? Visit the ' +\n",
              "            '<a target=\"_blank\" href=https://colab.research.google.com/notebooks/data_table.ipynb>data table notebook</a>'\n",
              "            + ' to learn more about interactive tables.';\n",
              "          element.innerHTML = '';\n",
              "          dataTable['output_type'] = 'display_data';\n",
              "          await google.colab.output.renderOutput(dataTable, element);\n",
              "          const docLink = document.createElement('div');\n",
              "          docLink.innerHTML = docLinkHtml;\n",
              "          element.appendChild(docLink);\n",
              "        }\n",
              "      </script>\n",
              "    </div>\n",
              "  </div>\n",
              "  "
            ]
          },
          "metadata": {},
          "execution_count": 10
        }
      ]
    },
    {
      "cell_type": "code",
      "source": [
        "tata1.head()"
      ],
      "metadata": {
        "id": "s2ev5sU1Lshl",
        "outputId": "645f69da-0f93-495c-cf88-b132c794fcf9",
        "colab": {
          "base_uri": "https://localhost:8080/",
          "height": 206
        }
      },
      "execution_count": null,
      "outputs": [
        {
          "output_type": "execute_result",
          "data": {
            "text/plain": [
              "    Close  SMA30\n",
              "0  987.95    NaN\n",
              "1  979.00    NaN\n",
              "2  962.65    NaN\n",
              "3  986.75    NaN\n",
              "4  988.10    NaN"
            ],
            "text/html": [
              "\n",
              "  <div id=\"df-7f8dcbef-fc4e-4c68-b333-17bd41f7cf1e\">\n",
              "    <div class=\"colab-df-container\">\n",
              "      <div>\n",
              "<style scoped>\n",
              "    .dataframe tbody tr th:only-of-type {\n",
              "        vertical-align: middle;\n",
              "    }\n",
              "\n",
              "    .dataframe tbody tr th {\n",
              "        vertical-align: top;\n",
              "    }\n",
              "\n",
              "    .dataframe thead th {\n",
              "        text-align: right;\n",
              "    }\n",
              "</style>\n",
              "<table border=\"1\" class=\"dataframe\">\n",
              "  <thead>\n",
              "    <tr style=\"text-align: right;\">\n",
              "      <th></th>\n",
              "      <th>Close</th>\n",
              "      <th>SMA30</th>\n",
              "    </tr>\n",
              "  </thead>\n",
              "  <tbody>\n",
              "    <tr>\n",
              "      <th>0</th>\n",
              "      <td>987.95</td>\n",
              "      <td>NaN</td>\n",
              "    </tr>\n",
              "    <tr>\n",
              "      <th>1</th>\n",
              "      <td>979.00</td>\n",
              "      <td>NaN</td>\n",
              "    </tr>\n",
              "    <tr>\n",
              "      <th>2</th>\n",
              "      <td>962.65</td>\n",
              "      <td>NaN</td>\n",
              "    </tr>\n",
              "    <tr>\n",
              "      <th>3</th>\n",
              "      <td>986.75</td>\n",
              "      <td>NaN</td>\n",
              "    </tr>\n",
              "    <tr>\n",
              "      <th>4</th>\n",
              "      <td>988.10</td>\n",
              "      <td>NaN</td>\n",
              "    </tr>\n",
              "  </tbody>\n",
              "</table>\n",
              "</div>\n",
              "      <button class=\"colab-df-convert\" onclick=\"convertToInteractive('df-7f8dcbef-fc4e-4c68-b333-17bd41f7cf1e')\"\n",
              "              title=\"Convert this dataframe to an interactive table.\"\n",
              "              style=\"display:none;\">\n",
              "        \n",
              "  <svg xmlns=\"http://www.w3.org/2000/svg\" height=\"24px\"viewBox=\"0 0 24 24\"\n",
              "       width=\"24px\">\n",
              "    <path d=\"M0 0h24v24H0V0z\" fill=\"none\"/>\n",
              "    <path d=\"M18.56 5.44l.94 2.06.94-2.06 2.06-.94-2.06-.94-.94-2.06-.94 2.06-2.06.94zm-11 1L8.5 8.5l.94-2.06 2.06-.94-2.06-.94L8.5 2.5l-.94 2.06-2.06.94zm10 10l.94 2.06.94-2.06 2.06-.94-2.06-.94-.94-2.06-.94 2.06-2.06.94z\"/><path d=\"M17.41 7.96l-1.37-1.37c-.4-.4-.92-.59-1.43-.59-.52 0-1.04.2-1.43.59L10.3 9.45l-7.72 7.72c-.78.78-.78 2.05 0 2.83L4 21.41c.39.39.9.59 1.41.59.51 0 1.02-.2 1.41-.59l7.78-7.78 2.81-2.81c.8-.78.8-2.07 0-2.86zM5.41 20L4 18.59l7.72-7.72 1.47 1.35L5.41 20z\"/>\n",
              "  </svg>\n",
              "      </button>\n",
              "      \n",
              "  <style>\n",
              "    .colab-df-container {\n",
              "      display:flex;\n",
              "      flex-wrap:wrap;\n",
              "      gap: 12px;\n",
              "    }\n",
              "\n",
              "    .colab-df-convert {\n",
              "      background-color: #E8F0FE;\n",
              "      border: none;\n",
              "      border-radius: 50%;\n",
              "      cursor: pointer;\n",
              "      display: none;\n",
              "      fill: #1967D2;\n",
              "      height: 32px;\n",
              "      padding: 0 0 0 0;\n",
              "      width: 32px;\n",
              "    }\n",
              "\n",
              "    .colab-df-convert:hover {\n",
              "      background-color: #E2EBFA;\n",
              "      box-shadow: 0px 1px 2px rgba(60, 64, 67, 0.3), 0px 1px 3px 1px rgba(60, 64, 67, 0.15);\n",
              "      fill: #174EA6;\n",
              "    }\n",
              "\n",
              "    [theme=dark] .colab-df-convert {\n",
              "      background-color: #3B4455;\n",
              "      fill: #D2E3FC;\n",
              "    }\n",
              "\n",
              "    [theme=dark] .colab-df-convert:hover {\n",
              "      background-color: #434B5C;\n",
              "      box-shadow: 0px 1px 3px 1px rgba(0, 0, 0, 0.15);\n",
              "      filter: drop-shadow(0px 1px 2px rgba(0, 0, 0, 0.3));\n",
              "      fill: #FFFFFF;\n",
              "    }\n",
              "  </style>\n",
              "\n",
              "      <script>\n",
              "        const buttonEl =\n",
              "          document.querySelector('#df-7f8dcbef-fc4e-4c68-b333-17bd41f7cf1e button.colab-df-convert');\n",
              "        buttonEl.style.display =\n",
              "          google.colab.kernel.accessAllowed ? 'block' : 'none';\n",
              "\n",
              "        async function convertToInteractive(key) {\n",
              "          const element = document.querySelector('#df-7f8dcbef-fc4e-4c68-b333-17bd41f7cf1e');\n",
              "          const dataTable =\n",
              "            await google.colab.kernel.invokeFunction('convertToInteractive',\n",
              "                                                     [key], {});\n",
              "          if (!dataTable) return;\n",
              "\n",
              "          const docLinkHtml = 'Like what you see? Visit the ' +\n",
              "            '<a target=\"_blank\" href=https://colab.research.google.com/notebooks/data_table.ipynb>data table notebook</a>'\n",
              "            + ' to learn more about interactive tables.';\n",
              "          element.innerHTML = '';\n",
              "          dataTable['output_type'] = 'display_data';\n",
              "          await google.colab.output.renderOutput(dataTable, element);\n",
              "          const docLink = document.createElement('div');\n",
              "          docLink.innerHTML = docLinkHtml;\n",
              "          element.appendChild(docLink);\n",
              "        }\n",
              "      </script>\n",
              "    </div>\n",
              "  </div>\n",
              "  "
            ]
          },
          "metadata": {},
          "execution_count": 11
        }
      ]
    },
    {
      "cell_type": "code",
      "source": [
        "tata1.dropna(inplace=True)"
      ],
      "metadata": {
        "id": "pU41THDtSWMR"
      },
      "execution_count": null,
      "outputs": []
    },
    {
      "cell_type": "code",
      "source": [
        "tata1.head()"
      ],
      "metadata": {
        "colab": {
          "base_uri": "https://localhost:8080/",
          "height": 206
        },
        "id": "rlAbDcd8l8PG",
        "outputId": "a1ea3292-e328-40a4-fc56-a3b432d872bf"
      },
      "execution_count": null,
      "outputs": [
        {
          "output_type": "execute_result",
          "data": {
            "text/plain": [
              "       Close       SMA30\n",
              "999   817.85  1244.28590\n",
              "1000  819.00  1244.11695\n",
              "1001  818.20  1243.95615\n",
              "1002  834.05  1243.82755\n",
              "1003  818.45  1243.65925"
            ],
            "text/html": [
              "\n",
              "  <div id=\"df-c809a4c9-1205-4aa1-a383-bf8101309824\">\n",
              "    <div class=\"colab-df-container\">\n",
              "      <div>\n",
              "<style scoped>\n",
              "    .dataframe tbody tr th:only-of-type {\n",
              "        vertical-align: middle;\n",
              "    }\n",
              "\n",
              "    .dataframe tbody tr th {\n",
              "        vertical-align: top;\n",
              "    }\n",
              "\n",
              "    .dataframe thead th {\n",
              "        text-align: right;\n",
              "    }\n",
              "</style>\n",
              "<table border=\"1\" class=\"dataframe\">\n",
              "  <thead>\n",
              "    <tr style=\"text-align: right;\">\n",
              "      <th></th>\n",
              "      <th>Close</th>\n",
              "      <th>SMA30</th>\n",
              "    </tr>\n",
              "  </thead>\n",
              "  <tbody>\n",
              "    <tr>\n",
              "      <th>999</th>\n",
              "      <td>817.85</td>\n",
              "      <td>1244.28590</td>\n",
              "    </tr>\n",
              "    <tr>\n",
              "      <th>1000</th>\n",
              "      <td>819.00</td>\n",
              "      <td>1244.11695</td>\n",
              "    </tr>\n",
              "    <tr>\n",
              "      <th>1001</th>\n",
              "      <td>818.20</td>\n",
              "      <td>1243.95615</td>\n",
              "    </tr>\n",
              "    <tr>\n",
              "      <th>1002</th>\n",
              "      <td>834.05</td>\n",
              "      <td>1243.82755</td>\n",
              "    </tr>\n",
              "    <tr>\n",
              "      <th>1003</th>\n",
              "      <td>818.45</td>\n",
              "      <td>1243.65925</td>\n",
              "    </tr>\n",
              "  </tbody>\n",
              "</table>\n",
              "</div>\n",
              "      <button class=\"colab-df-convert\" onclick=\"convertToInteractive('df-c809a4c9-1205-4aa1-a383-bf8101309824')\"\n",
              "              title=\"Convert this dataframe to an interactive table.\"\n",
              "              style=\"display:none;\">\n",
              "        \n",
              "  <svg xmlns=\"http://www.w3.org/2000/svg\" height=\"24px\"viewBox=\"0 0 24 24\"\n",
              "       width=\"24px\">\n",
              "    <path d=\"M0 0h24v24H0V0z\" fill=\"none\"/>\n",
              "    <path d=\"M18.56 5.44l.94 2.06.94-2.06 2.06-.94-2.06-.94-.94-2.06-.94 2.06-2.06.94zm-11 1L8.5 8.5l.94-2.06 2.06-.94-2.06-.94L8.5 2.5l-.94 2.06-2.06.94zm10 10l.94 2.06.94-2.06 2.06-.94-2.06-.94-.94-2.06-.94 2.06-2.06.94z\"/><path d=\"M17.41 7.96l-1.37-1.37c-.4-.4-.92-.59-1.43-.59-.52 0-1.04.2-1.43.59L10.3 9.45l-7.72 7.72c-.78.78-.78 2.05 0 2.83L4 21.41c.39.39.9.59 1.41.59.51 0 1.02-.2 1.41-.59l7.78-7.78 2.81-2.81c.8-.78.8-2.07 0-2.86zM5.41 20L4 18.59l7.72-7.72 1.47 1.35L5.41 20z\"/>\n",
              "  </svg>\n",
              "      </button>\n",
              "      \n",
              "  <style>\n",
              "    .colab-df-container {\n",
              "      display:flex;\n",
              "      flex-wrap:wrap;\n",
              "      gap: 12px;\n",
              "    }\n",
              "\n",
              "    .colab-df-convert {\n",
              "      background-color: #E8F0FE;\n",
              "      border: none;\n",
              "      border-radius: 50%;\n",
              "      cursor: pointer;\n",
              "      display: none;\n",
              "      fill: #1967D2;\n",
              "      height: 32px;\n",
              "      padding: 0 0 0 0;\n",
              "      width: 32px;\n",
              "    }\n",
              "\n",
              "    .colab-df-convert:hover {\n",
              "      background-color: #E2EBFA;\n",
              "      box-shadow: 0px 1px 2px rgba(60, 64, 67, 0.3), 0px 1px 3px 1px rgba(60, 64, 67, 0.15);\n",
              "      fill: #174EA6;\n",
              "    }\n",
              "\n",
              "    [theme=dark] .colab-df-convert {\n",
              "      background-color: #3B4455;\n",
              "      fill: #D2E3FC;\n",
              "    }\n",
              "\n",
              "    [theme=dark] .colab-df-convert:hover {\n",
              "      background-color: #434B5C;\n",
              "      box-shadow: 0px 1px 3px 1px rgba(0, 0, 0, 0.15);\n",
              "      filter: drop-shadow(0px 1px 2px rgba(0, 0, 0, 0.3));\n",
              "      fill: #FFFFFF;\n",
              "    }\n",
              "  </style>\n",
              "\n",
              "      <script>\n",
              "        const buttonEl =\n",
              "          document.querySelector('#df-c809a4c9-1205-4aa1-a383-bf8101309824 button.colab-df-convert');\n",
              "        buttonEl.style.display =\n",
              "          google.colab.kernel.accessAllowed ? 'block' : 'none';\n",
              "\n",
              "        async function convertToInteractive(key) {\n",
              "          const element = document.querySelector('#df-c809a4c9-1205-4aa1-a383-bf8101309824');\n",
              "          const dataTable =\n",
              "            await google.colab.kernel.invokeFunction('convertToInteractive',\n",
              "                                                     [key], {});\n",
              "          if (!dataTable) return;\n",
              "\n",
              "          const docLinkHtml = 'Like what you see? Visit the ' +\n",
              "            '<a target=\"_blank\" href=https://colab.research.google.com/notebooks/data_table.ipynb>data table notebook</a>'\n",
              "            + ' to learn more about interactive tables.';\n",
              "          element.innerHTML = '';\n",
              "          dataTable['output_type'] = 'display_data';\n",
              "          await google.colab.output.renderOutput(dataTable, element);\n",
              "          const docLink = document.createElement('div');\n",
              "          docLink.innerHTML = docLinkHtml;\n",
              "          element.appendChild(docLink);\n",
              "        }\n",
              "      </script>\n",
              "    </div>\n",
              "  </div>\n",
              "  "
            ]
          },
          "metadata": {},
          "execution_count": 13
        }
      ]
    },
    {
      "cell_type": "code",
      "source": [
        "#Daily returns\n",
        "tata['DR'] = tata['Close'].pct_change()"
      ],
      "metadata": {
        "id": "d6yq8RbWLsjq"
      },
      "execution_count": null,
      "outputs": []
    },
    {
      "cell_type": "code",
      "source": [
        "adj_closing_df = pd.concat([ tata['Close']], axis=1)\n",
        "adj_closing_df.columns = ['tata']\n",
        "adj_closing_df = adj_closing_df.pct_change()\n",
        "adj_closing_df.dropna(inplace=True)\n",
        "adj_closing_df.head()"
      ],
      "metadata": {
        "colab": {
          "base_uri": "https://localhost:8080/",
          "height": 206
        },
        "id": "HkgU1ggfTwgv",
        "outputId": "c9e1414d-e7d3-4bb4-8ab6-eb08b5a4abfe"
      },
      "execution_count": null,
      "outputs": [
        {
          "output_type": "execute_result",
          "data": {
            "text/plain": [
              "          tata\n",
              "1684 -0.006508\n",
              "1685 -0.013402\n",
              "1686  0.010633\n",
              "1687  0.012840\n",
              "1688  0.001781"
            ],
            "text/html": [
              "\n",
              "  <div id=\"df-9e43e7eb-e72f-449b-b7b7-d09dd2a88141\">\n",
              "    <div class=\"colab-df-container\">\n",
              "      <div>\n",
              "<style scoped>\n",
              "    .dataframe tbody tr th:only-of-type {\n",
              "        vertical-align: middle;\n",
              "    }\n",
              "\n",
              "    .dataframe tbody tr th {\n",
              "        vertical-align: top;\n",
              "    }\n",
              "\n",
              "    .dataframe thead th {\n",
              "        text-align: right;\n",
              "    }\n",
              "</style>\n",
              "<table border=\"1\" class=\"dataframe\">\n",
              "  <thead>\n",
              "    <tr style=\"text-align: right;\">\n",
              "      <th></th>\n",
              "      <th>tata</th>\n",
              "    </tr>\n",
              "  </thead>\n",
              "  <tbody>\n",
              "    <tr>\n",
              "      <th>1684</th>\n",
              "      <td>-0.006508</td>\n",
              "    </tr>\n",
              "    <tr>\n",
              "      <th>1685</th>\n",
              "      <td>-0.013402</td>\n",
              "    </tr>\n",
              "    <tr>\n",
              "      <th>1686</th>\n",
              "      <td>0.010633</td>\n",
              "    </tr>\n",
              "    <tr>\n",
              "      <th>1687</th>\n",
              "      <td>0.012840</td>\n",
              "    </tr>\n",
              "    <tr>\n",
              "      <th>1688</th>\n",
              "      <td>0.001781</td>\n",
              "    </tr>\n",
              "  </tbody>\n",
              "</table>\n",
              "</div>\n",
              "      <button class=\"colab-df-convert\" onclick=\"convertToInteractive('df-9e43e7eb-e72f-449b-b7b7-d09dd2a88141')\"\n",
              "              title=\"Convert this dataframe to an interactive table.\"\n",
              "              style=\"display:none;\">\n",
              "        \n",
              "  <svg xmlns=\"http://www.w3.org/2000/svg\" height=\"24px\"viewBox=\"0 0 24 24\"\n",
              "       width=\"24px\">\n",
              "    <path d=\"M0 0h24v24H0V0z\" fill=\"none\"/>\n",
              "    <path d=\"M18.56 5.44l.94 2.06.94-2.06 2.06-.94-2.06-.94-.94-2.06-.94 2.06-2.06.94zm-11 1L8.5 8.5l.94-2.06 2.06-.94-2.06-.94L8.5 2.5l-.94 2.06-2.06.94zm10 10l.94 2.06.94-2.06 2.06-.94-2.06-.94-.94-2.06-.94 2.06-2.06.94z\"/><path d=\"M17.41 7.96l-1.37-1.37c-.4-.4-.92-.59-1.43-.59-.52 0-1.04.2-1.43.59L10.3 9.45l-7.72 7.72c-.78.78-.78 2.05 0 2.83L4 21.41c.39.39.9.59 1.41.59.51 0 1.02-.2 1.41-.59l7.78-7.78 2.81-2.81c.8-.78.8-2.07 0-2.86zM5.41 20L4 18.59l7.72-7.72 1.47 1.35L5.41 20z\"/>\n",
              "  </svg>\n",
              "      </button>\n",
              "      \n",
              "  <style>\n",
              "    .colab-df-container {\n",
              "      display:flex;\n",
              "      flex-wrap:wrap;\n",
              "      gap: 12px;\n",
              "    }\n",
              "\n",
              "    .colab-df-convert {\n",
              "      background-color: #E8F0FE;\n",
              "      border: none;\n",
              "      border-radius: 50%;\n",
              "      cursor: pointer;\n",
              "      display: none;\n",
              "      fill: #1967D2;\n",
              "      height: 32px;\n",
              "      padding: 0 0 0 0;\n",
              "      width: 32px;\n",
              "    }\n",
              "\n",
              "    .colab-df-convert:hover {\n",
              "      background-color: #E2EBFA;\n",
              "      box-shadow: 0px 1px 2px rgba(60, 64, 67, 0.3), 0px 1px 3px 1px rgba(60, 64, 67, 0.15);\n",
              "      fill: #174EA6;\n",
              "    }\n",
              "\n",
              "    [theme=dark] .colab-df-convert {\n",
              "      background-color: #3B4455;\n",
              "      fill: #D2E3FC;\n",
              "    }\n",
              "\n",
              "    [theme=dark] .colab-df-convert:hover {\n",
              "      background-color: #434B5C;\n",
              "      box-shadow: 0px 1px 3px 1px rgba(0, 0, 0, 0.15);\n",
              "      filter: drop-shadow(0px 1px 2px rgba(0, 0, 0, 0.3));\n",
              "      fill: #FFFFFF;\n",
              "    }\n",
              "  </style>\n",
              "\n",
              "      <script>\n",
              "        const buttonEl =\n",
              "          document.querySelector('#df-9e43e7eb-e72f-449b-b7b7-d09dd2a88141 button.colab-df-convert');\n",
              "        buttonEl.style.display =\n",
              "          google.colab.kernel.accessAllowed ? 'block' : 'none';\n",
              "\n",
              "        async function convertToInteractive(key) {\n",
              "          const element = document.querySelector('#df-9e43e7eb-e72f-449b-b7b7-d09dd2a88141');\n",
              "          const dataTable =\n",
              "            await google.colab.kernel.invokeFunction('convertToInteractive',\n",
              "                                                     [key], {});\n",
              "          if (!dataTable) return;\n",
              "\n",
              "          const docLinkHtml = 'Like what you see? Visit the ' +\n",
              "            '<a target=\"_blank\" href=https://colab.research.google.com/notebooks/data_table.ipynb>data table notebook</a>'\n",
              "            + ' to learn more about interactive tables.';\n",
              "          element.innerHTML = '';\n",
              "          dataTable['output_type'] = 'display_data';\n",
              "          await google.colab.output.renderOutput(dataTable, element);\n",
              "          const docLink = document.createElement('div');\n",
              "          docLink.innerHTML = docLinkHtml;\n",
              "          element.appendChild(docLink);\n",
              "        }\n",
              "      </script>\n",
              "    </div>\n",
              "  </div>\n",
              "  "
            ]
          },
          "metadata": {},
          "execution_count": 15
        }
      ]
    },
    {
      "cell_type": "code",
      "source": [
        "sns.pairplot(adj_closing_df, kind='reg')"
      ],
      "metadata": {
        "colab": {
          "base_uri": "https://localhost:8080/",
          "height": 214
        },
        "id": "dt9b55S7Taq6",
        "outputId": "e607b106-9494-49b7-88cf-0a37fe1306b2"
      },
      "execution_count": null,
      "outputs": [
        {
          "output_type": "execute_result",
          "data": {
            "text/plain": [
              "<seaborn.axisgrid.PairGrid at 0x7fe8a153edc0>"
            ]
          },
          "metadata": {},
          "execution_count": 16
        },
        {
          "output_type": "display_data",
          "data": {
            "text/plain": [
              "<Figure size 180x180 with 2 Axes>"
            ],
            "image/png": "[encoded data removed]"
          },
          "metadata": {
            "needs_background": "light"
          }
        }
      ]
    },
    {
      "cell_type": "code",
      "source": [
        "plt.figure(figsize=(10, 10))\n",
        "sns.heatmap(adj_closing_df.corr(), vmin=-1, vmax=1, annot=True)"
      ],
      "metadata": {
        "colab": {
          "base_uri": "https://localhost:8080/",
          "height": 613
        },
        "id": "WDmACb7SUASC",
        "outputId": "05ce98b6-bbb9-405e-ea26-8b2f5b587235"
      },
      "execution_count": null,
      "outputs": [
        {
          "output_type": "execute_result",
          "data": {
            "text/plain": [
              "<matplotlib.axes._subplots.AxesSubplot at 0x7fe89e7d0340>"
            ]
          },
          "metadata": {},
          "execution_count": 17
        },
        {
          "output_type": "display_data",
          "data": {
            "text/plain": [
              "<Figure size 720x720 with 2 Axes>"
            ],
            "image/png": "[encoded data removed]"
          },
          "metadata": {
            "needs_background": "light"
          }
        }
      ]
    },
    {
      "cell_type": "code",
      "source": [
        "sns.displot(tata.Close, kind='kde')"
      ],
      "metadata": {
        "colab": {
          "base_uri": "https://localhost:8080/",
          "height": 386
        },
        "id": "kup2T8YrULef",
        "outputId": "95c9ea29-a05d-43a8-ffca-fb91b1fb670e"
      },
      "execution_count": null,
      "outputs": [
        {
          "output_type": "execute_result",
          "data": {
            "text/plain": [
              "<seaborn.axisgrid.FacetGrid at 0x7fe89e48f2b0>"
            ]
          },
          "metadata": {},
          "execution_count": 18
        },
        {
          "output_type": "display_data",
          "data": {
            "text/plain": [
              "<Figure size 360x360 with 1 Axes>"
            ],
            "image/png": "[encoded data removed]"
          },
          "metadata": {
            "needs_background": "light"
          }
        }
      ]
    },
    {
      "cell_type": "code",
      "source": [
        "import tensorflow as tf\n",
        "from tensorflow.keras import layers\n",
        ""
      ],
      "metadata": {
        "id": "d0-3Px98UZFf"
      },
      "execution_count": null,
      "outputs": []
    },
    {
      "cell_type": "code",
      "source": [
        "tata_close = tata.Close.values\n",
        "tata_close[:30]\n",
        "tata_close"
      ],
      "metadata": {
        "colab": {
          "base_uri": "https://localhost:8080/"
        },
        "id": "CEiHvl0NUd5r",
        "outputId": "1ce7f00d-716f-4846-fa35-c7db55847014"
      },
      "execution_count": null,
      "outputs": [
        {
          "output_type": "execute_result",
          "data": {
            "text/plain": [
              "array([1175.4 , 1167.75, 1152.1 , ..., 3124.1 , 3115.25, 3035.65])"
            ]
          },
          "metadata": {},
          "execution_count": 20
        }
      ]
    },
    {
      "cell_type": "code",
      "source": [
        "data = tata1.filter(['Close'])\n",
        "# Convert the dataframe to a numpy array\n",
        "dataset = data.values\n",
        "# Get the number of rows to train the model on\n",
        "training_data_len = int(np.ceil( len(dataset) * 0.85 ))\n",
        "\n",
        "training_data_len"
      ],
      "metadata": {
        "colab": {
          "base_uri": "https://localhost:8080/"
        },
        "id": "-AtLpbCfU3Uj",
        "outputId": "b8ed7d5a-a580-49bb-9d38-866cc905a116"
      },
      "execution_count": null,
      "outputs": [
        {
          "output_type": "execute_result",
          "data": {
            "text/plain": [
              "2669"
            ]
          },
          "metadata": {},
          "execution_count": 21
        }
      ]
    },
    {
      "cell_type": "code",
      "source": [
        "from sklearn.preprocessing import StandardScaler\n",
        "scaler=StandardScaler()\n",
        "scaled_data=scaler.fit_transform(dataset)\n",
        "print(\"MEAN of processed data: \",scaled_data.mean())\n",
        "print(\"Standard deviation of processed data: \",scaled_data.std())"
      ],
      "metadata": {
        "colab": {
          "base_uri": "https://localhost:8080/"
        },
        "id": "MnxcmAuT-Idc",
        "outputId": "511b60a3-3688-4451-ce14-a9bd9b67d2fe"
      },
      "execution_count": null,
      "outputs": [
        {
          "output_type": "stream",
          "name": "stdout",
          "text": [
            "MEAN of processed data:  7.241199854880002e-17\n",
            "Standard deviation of processed data:  0.9999999999999998\n"
          ]
        }
      ]
    },
    {
      "cell_type": "code",
      "source": [
        "test_size=len(data)-training_data_len"
      ],
      "metadata": {
        "id": "BP_ZKhd-6Gls"
      },
      "execution_count": null,
      "outputs": []
    },
    {
      "cell_type": "code",
      "source": [
        "test_size,training_data_len"
      ],
      "metadata": {
        "colab": {
          "base_uri": "https://localhost:8080/"
        },
        "id": "CGgc7RWh6TdI",
        "outputId": "a38585f1-be31-45aa-983b-89634e51cd23"
      },
      "execution_count": null,
      "outputs": [
        {
          "output_type": "execute_result",
          "data": {
            "text/plain": [
              "(471, 2669)"
            ]
          },
          "metadata": {},
          "execution_count": 24
        }
      ]
    },
    {
      "cell_type": "code",
      "source": [
        "data"
      ],
      "metadata": {
        "colab": {
          "base_uri": "https://localhost:8080/",
          "height": 423
        },
        "id": "0Y0KnTTew8cJ",
        "outputId": "80f15d7d-8d00-4572-f47a-d774f3324add"
      },
      "execution_count": null,
      "outputs": [
        {
          "output_type": "execute_result",
          "data": {
            "text/plain": [
              "        Close\n",
              "999    817.85\n",
              "1000   819.00\n",
              "1001   818.20\n",
              "1002   834.05\n",
              "1003   818.45\n",
              "...       ...\n",
              "4134  3100.80\n",
              "4135  3132.00\n",
              "4136  3124.10\n",
              "4137  3115.25\n",
              "4138  3035.65\n",
              "\n",
              "[3140 rows x 1 columns]"
            ],
            "text/html": [
              "\n",
              "  <div id=\"df-43017130-57e3-4add-8cab-15dd702181cf\">\n",
              "    <div class=\"colab-df-container\">\n",
              "      <div>\n",
              "<style scoped>\n",
              "    .dataframe tbody tr th:only-of-type {\n",
              "        vertical-align: middle;\n",
              "    }\n",
              "\n",
              "    .dataframe tbody tr th {\n",
              "        vertical-align: top;\n",
              "    }\n",
              "\n",
              "    .dataframe thead th {\n",
              "        text-align: right;\n",
              "    }\n",
              "</style>\n",
              "<table border=\"1\" class=\"dataframe\">\n",
              "  <thead>\n",
              "    <tr style=\"text-align: right;\">\n",
              "      <th></th>\n",
              "      <th>Close</th>\n",
              "    </tr>\n",
              "  </thead>\n",
              "  <tbody>\n",
              "    <tr>\n",
              "      <th>999</th>\n",
              "      <td>817.85</td>\n",
              "    </tr>\n",
              "    <tr>\n",
              "      <th>1000</th>\n",
              "      <td>819.00</td>\n",
              "    </tr>\n",
              "    <tr>\n",
              "      <th>1001</th>\n",
              "      <td>818.20</td>\n",
              "    </tr>\n",
              "    <tr>\n",
              "      <th>1002</th>\n",
              "      <td>834.05</td>\n",
              "    </tr>\n",
              "    <tr>\n",
              "      <th>1003</th>\n",
              "      <td>818.45</td>\n",
              "    </tr>\n",
              "    <tr>\n",
              "      <th>...</th>\n",
              "      <td>...</td>\n",
              "    </tr>\n",
              "    <tr>\n",
              "      <th>4134</th>\n",
              "      <td>3100.80</td>\n",
              "    </tr>\n",
              "    <tr>\n",
              "      <th>4135</th>\n",
              "      <td>3132.00</td>\n",
              "    </tr>\n",
              "    <tr>\n",
              "      <th>4136</th>\n",
              "      <td>3124.10</td>\n",
              "    </tr>\n",
              "    <tr>\n",
              "      <th>4137</th>\n",
              "      <td>3115.25</td>\n",
              "    </tr>\n",
              "    <tr>\n",
              "      <th>4138</th>\n",
              "      <td>3035.65</td>\n",
              "    </tr>\n",
              "  </tbody>\n",
              "</table>\n",
              "<p>3140 rows × 1 columns</p>\n",
              "</div>\n",
              "      <button class=\"colab-df-convert\" onclick=\"convertToInteractive('df-43017130-57e3-4add-8cab-15dd702181cf')\"\n",
              "              title=\"Convert this dataframe to an interactive table.\"\n",
              "              style=\"display:none;\">\n",
              "        \n",
              "  <svg xmlns=\"http://www.w3.org/2000/svg\" height=\"24px\"viewBox=\"0 0 24 24\"\n",
              "       width=\"24px\">\n",
              "    <path d=\"M0 0h24v24H0V0z\" fill=\"none\"/>\n",
              "    <path d=\"M18.56 5.44l.94 2.06.94-2.06 2.06-.94-2.06-.94-.94-2.06-.94 2.06-2.06.94zm-11 1L8.5 8.5l.94-2.06 2.06-.94-2.06-.94L8.5 2.5l-.94 2.06-2.06.94zm10 10l.94 2.06.94-2.06 2.06-.94-2.06-.94-.94-2.06-.94 2.06-2.06.94z\"/><path d=\"M17.41 7.96l-1.37-1.37c-.4-.4-.92-.59-1.43-.59-.52 0-1.04.2-1.43.59L10.3 9.45l-7.72 7.72c-.78.78-.78 2.05 0 2.83L4 21.41c.39.39.9.59 1.41.59.51 0 1.02-.2 1.41-.59l7.78-7.78 2.81-2.81c.8-.78.8-2.07 0-2.86zM5.41 20L4 18.59l7.72-7.72 1.47 1.35L5.41 20z\"/>\n",
              "  </svg>\n",
              "      </button>\n",
              "      \n",
              "  <style>\n",
              "    .colab-df-container {\n",
              "      display:flex;\n",
              "      flex-wrap:wrap;\n",
              "      gap: 12px;\n",
              "    }\n",
              "\n",
              "    .colab-df-convert {\n",
              "      background-color: #E8F0FE;\n",
              "      border: none;\n",
              "      border-radius: 50%;\n",
              "      cursor: pointer;\n",
              "      display: none;\n",
              "      fill: #1967D2;\n",
              "      height: 32px;\n",
              "      padding: 0 0 0 0;\n",
              "      width: 32px;\n",
              "    }\n",
              "\n",
              "    .colab-df-convert:hover {\n",
              "      background-color: #E2EBFA;\n",
              "      box-shadow: 0px 1px 2px rgba(60, 64, 67, 0.3), 0px 1px 3px 1px rgba(60, 64, 67, 0.15);\n",
              "      fill: #174EA6;\n",
              "    }\n",
              "\n",
              "    [theme=dark] .colab-df-convert {\n",
              "      background-color: #3B4455;\n",
              "      fill: #D2E3FC;\n",
              "    }\n",
              "\n",
              "    [theme=dark] .colab-df-convert:hover {\n",
              "      background-color: #434B5C;\n",
              "      box-shadow: 0px 1px 3px 1px rgba(0, 0, 0, 0.15);\n",
              "      filter: drop-shadow(0px 1px 2px rgba(0, 0, 0, 0.3));\n",
              "      fill: #FFFFFF;\n",
              "    }\n",
              "  </style>\n",
              "\n",
              "      <script>\n",
              "        const buttonEl =\n",
              "          document.querySelector('#df-43017130-57e3-4add-8cab-15dd702181cf button.colab-df-convert');\n",
              "        buttonEl.style.display =\n",
              "          google.colab.kernel.accessAllowed ? 'block' : 'none';\n",
              "\n",
              "        async function convertToInteractive(key) {\n",
              "          const element = document.querySelector('#df-43017130-57e3-4add-8cab-15dd702181cf');\n",
              "          const dataTable =\n",
              "            await google.colab.kernel.invokeFunction('convertToInteractive',\n",
              "                                                     [key], {});\n",
              "          if (!dataTable) return;\n",
              "\n",
              "          const docLinkHtml = 'Like what you see? Visit the ' +\n",
              "            '<a target=\"_blank\" href=https://colab.research.google.com/notebooks/data_table.ipynb>data table notebook</a>'\n",
              "            + ' to learn more about interactive tables.';\n",
              "          element.innerHTML = '';\n",
              "          dataTable['output_type'] = 'display_data';\n",
              "          await google.colab.output.renderOutput(dataTable, element);\n",
              "          const docLink = document.createElement('div');\n",
              "          docLink.innerHTML = docLinkHtml;\n",
              "          element.appendChild(docLink);\n",
              "        }\n",
              "      </script>\n",
              "    </div>\n",
              "  </div>\n",
              "  "
            ]
          },
          "metadata": {},
          "execution_count": 25
        }
      ]
    },
    {
      "cell_type": "code",
      "source": [
        "dataset.shape"
      ],
      "metadata": {
        "colab": {
          "base_uri": "https://localhost:8080/"
        },
        "id": "qp3D4y8eU74T",
        "outputId": "49aca242-c0f9-428e-b774-cd2162b467f6"
      },
      "execution_count": null,
      "outputs": [
        {
          "output_type": "execute_result",
          "data": {
            "text/plain": [
              "(3140, 1)"
            ]
          },
          "metadata": {},
          "execution_count": 26
        }
      ]
    },
    {
      "cell_type": "code",
      "source": [
        "from sklearn.preprocessing import MinMaxScaler\n",
        "\n",
        "scaler = MinMaxScaler(feature_range=(0,1))\n",
        "scaled_data = scaler.fit_transform(dataset)\n",
        "\n",
        "scaled_data"
      ],
      "metadata": {
        "colab": {
          "base_uri": "https://localhost:8080/"
        },
        "id": "2EkChxXyU-s8",
        "outputId": "e615dc9a-bd5d-47dc-b3bb-2c976a8bd4e0"
      },
      "execution_count": null,
      "outputs": [
        {
          "output_type": "execute_result",
          "data": {
            "text/plain": [
              "array([[0.13938617],\n",
              "       [0.13974143],\n",
              "       [0.13949429],\n",
              "       ...,\n",
              "       [0.85184041],\n",
              "       [0.84910644],\n",
              "       [0.82451615]])"
            ]
          },
          "metadata": {},
          "execution_count": 27
        }
      ]
    },
    {
      "cell_type": "code",
      "source": [
        "#create the training data\n",
        "#create scaled training dataset\n",
        "train_data = scaled_data[0:training_data_len, :]\n",
        "#split the data to x_train and y_train\n",
        "x_train=[]\n",
        "y_train=[]\n",
        "for i in range(60,len(train_data)):\n",
        "  x_train.append(train_data[i-60:i])\n",
        "  y_train.append(train_data[i])"
      ],
      "metadata": {
        "id": "Py-63olHVCMy"
      },
      "execution_count": null,
      "outputs": []
    },
    {
      "cell_type": "code",
      "source": [
        "x_train,y_train=np.array(x_train),np.array(y_train)\n",
        "x_train.shape"
      ],
      "metadata": {
        "colab": {
          "base_uri": "https://localhost:8080/"
        },
        "id": "P33Dpgx0-j_M",
        "outputId": "3fa37fef-94e4-4d1b-c5d6-9a229631491f"
      },
      "execution_count": null,
      "outputs": [
        {
          "output_type": "execute_result",
          "data": {
            "text/plain": [
              "(2609, 60, 1)"
            ]
          },
          "metadata": {},
          "execution_count": 29
        }
      ]
    },
    {
      "cell_type": "code",
      "source": [
        "# Feature selection\n",
        "xtrain=[]\n",
        "ytrain=[]\n",
        "for i in range(60,len(scaled_data)):\n",
        "    xtrain.append(scaled_data[i-60:i,0])\n",
        "    ytrain.append(scaled_data[i,0])\n",
        "\n",
        "xtrain, ytrain = np.array(xtrain), np.array(ytrain)"
      ],
      "metadata": {
        "id": "n9pjr4g87jYC"
      },
      "execution_count": null,
      "outputs": []
    },
    {
      "cell_type": "code",
      "source": [
        "#reshape the data\n",
        "print(\"x_train shape before reshaping\",x_train.shape)\n",
        "x_train = np.reshape(x_train,(x_train.shape[0],x_train.shape[1],1)) #np.reshape(x_train,(x_train.shape[0],x_train.shape[1],1))\n",
        "print(\"x_train shape after reshaping\",x_train.shape)"
      ],
      "metadata": {
        "colab": {
          "base_uri": "https://localhost:8080/"
        },
        "id": "gzR15oK8-qo2",
        "outputId": "68eedcd6-8981-484a-9218-db4316220c46"
      },
      "execution_count": null,
      "outputs": [
        {
          "output_type": "stream",
          "name": "stdout",
          "text": [
            "x_train shape before reshaping (2609, 60, 1)\n",
            "x_train shape after reshaping (2609, 60, 1)\n"
          ]
        }
      ]
    },
    {
      "cell_type": "code",
      "source": [
        "plt.plot(ytrain)"
      ],
      "metadata": {
        "colab": {
          "base_uri": "https://localhost:8080/",
          "height": 282
        },
        "id": "OQIPhUE770w3",
        "outputId": "36fd3109-9c15-4763-9bc2-d24c10b50d93"
      },
      "execution_count": null,
      "outputs": [
        {
          "output_type": "execute_result",
          "data": {
            "text/plain": [
              "[<matplotlib.lines.Line2D at 0x7fe845d875b0>]"
            ]
          },
          "metadata": {},
          "execution_count": 32
        },
        {
          "output_type": "display_data",
          "data": {
            "text/plain": [
              "<Figure size 432x288 with 1 Axes>"
            ],
            "image/png": "[encoded data removed]"
          },
          "metadata": {
            "needs_background": "light"
          }
        }
      ]
    },
    {
      "cell_type": "code",
      "source": [
        "from tensorflow.keras.models import Sequential"
      ],
      "metadata": {
        "id": "2etVcIC7-Uot"
      },
      "execution_count": null,
      "outputs": []
    },
    {
      "cell_type": "code",
      "source": [
        "from keras.layers import LSTM"
      ],
      "metadata": {
        "id": "vRiRIBoX-e0G"
      },
      "execution_count": null,
      "outputs": []
    },
    {
      "cell_type": "code",
      "source": [
        "from tensorflow.keras.layers import Dense"
      ],
      "metadata": {
        "id": "1C8-QYlZ-nNm"
      },
      "execution_count": null,
      "outputs": []
    },
    {
      "cell_type": "code",
      "source": [
        "model= Sequential()\n",
        "model.add(LSTM(200,return_sequences=True,input_shape=(x_train.shape[1], 1)))\n",
        "model.add(LSTM(200,return_sequences=False))\n",
        "model.add(Dense(100))\n",
        "model.add(Dense(50))\n",
        "model.add(Dense(1))"
      ],
      "metadata": {
        "id": "9iXTwBLP-vVB"
      },
      "execution_count": null,
      "outputs": []
    },
    {
      "cell_type": "code",
      "source": [
        "plt.plot(train_data)"
      ],
      "metadata": {
        "colab": {
          "base_uri": "https://localhost:8080/",
          "height": 282
        },
        "id": "WuTDLRX4XbnO",
        "outputId": "ccb3e802-a68c-40df-aa85-8eba65d102e7"
      },
      "execution_count": null,
      "outputs": [
        {
          "output_type": "execute_result",
          "data": {
            "text/plain": [
              "[<matplotlib.lines.Line2D at 0x7fe8415d5f70>]"
            ]
          },
          "metadata": {},
          "execution_count": 37
        },
        {
          "output_type": "display_data",
          "data": {
            "text/plain": [
              "<Figure size 432x288 with 1 Axes>"
            ],
            "image/png": "[encoded data removed]"
          },
          "metadata": {
            "needs_background": "light"
          }
        }
      ]
    },
    {
      "cell_type": "code",
      "source": [
        "#compile the model\n",
        "model.compile(optimizer='adam',loss='mean_squared_error')"
      ],
      "metadata": {
        "id": "L3aguuTp-x5L"
      },
      "execution_count": null,
      "outputs": []
    },
    {
      "cell_type": "code",
      "source": [
        "#train the model\n",
        "history = model.fit(x_train,y_train,epochs=20)"
      ],
      "metadata": {
        "colab": {
          "base_uri": "https://localhost:8080/"
        },
        "id": "pvLV9BZ9-1b1",
        "outputId": "d6140857-84fd-4db1-f094-8ce003c88bf5"
      },
      "execution_count": null,
      "outputs": [
        {
          "output_type": "stream",
          "name": "stdout",
          "text": [
            "Epoch 1/20\n",
            "82/82 [==============================] - 29s 278ms/step - loss: 0.0076\n",
            "Epoch 2/20\n",
            "82/82 [==============================] - 14s 176ms/step - loss: 8.2050e-04\n",
            "Epoch 3/20\n",
            "82/82 [==============================] - 14s 175ms/step - loss: 7.2956e-04\n",
            "Epoch 4/20\n",
            "82/82 [==============================] - 14s 174ms/step - loss: 8.2584e-04\n",
            "Epoch 5/20\n",
            "82/82 [==============================] - 14s 174ms/step - loss: 7.3328e-04\n",
            "Epoch 6/20\n",
            "82/82 [==============================] - 14s 176ms/step - loss: 6.0839e-04\n",
            "Epoch 7/20\n",
            "82/82 [==============================] - 14s 174ms/step - loss: 6.5636e-04\n",
            "Epoch 8/20\n",
            "82/82 [==============================] - 16s 198ms/step - loss: 7.3713e-04\n",
            "Epoch 9/20\n",
            "82/82 [==============================] - 14s 175ms/step - loss: 4.9685e-04\n",
            "Epoch 10/20\n",
            "82/82 [==============================] - 14s 174ms/step - loss: 5.2113e-04\n",
            "Epoch 11/20\n",
            "82/82 [==============================] - 14s 174ms/step - loss: 5.3145e-04\n",
            "Epoch 12/20\n",
            "82/82 [==============================] - 14s 173ms/step - loss: 4.5415e-04\n",
            "Epoch 13/20\n",
            "82/82 [==============================] - 14s 174ms/step - loss: 4.4671e-04\n",
            "Epoch 14/20\n",
            "82/82 [==============================] - 14s 175ms/step - loss: 4.2577e-04\n",
            "Epoch 15/20\n",
            "82/82 [==============================] - 14s 175ms/step - loss: 4.3573e-04\n",
            "Epoch 16/20\n",
            "82/82 [==============================] - 14s 176ms/step - loss: 3.6079e-04\n",
            "Epoch 17/20\n",
            "82/82 [==============================] - 14s 175ms/step - loss: 3.4328e-04\n",
            "Epoch 18/20\n",
            "82/82 [==============================] - 14s 174ms/step - loss: 3.1363e-04\n",
            "Epoch 19/20\n",
            "82/82 [==============================] - 14s 174ms/step - loss: 3.2436e-04\n",
            "Epoch 20/20\n",
            "82/82 [==============================] - 14s 174ms/step - loss: 2.9904e-04\n"
          ]
        }
      ]
    },
    {
      "cell_type": "code",
      "source": [
        "plt.plot(history.history['loss'])"
      ],
      "metadata": {
        "colab": {
          "base_uri": "https://localhost:8080/",
          "height": 282
        },
        "id": "Fh8g4iVyA96B",
        "outputId": "6c0f6e1d-da6c-4df5-b241-836b42679f1e"
      },
      "execution_count": null,
      "outputs": [
        {
          "output_type": "execute_result",
          "data": {
            "text/plain": [
              "[<matplotlib.lines.Line2D at 0x7fe83d7b2e20>]"
            ]
          },
          "metadata": {},
          "execution_count": 40
        },
        {
          "output_type": "display_data",
          "data": {
            "text/plain": [
              "<Figure size 432x288 with 1 Axes>"
            ],
            "image/png": "[encoded data removed]"
          },
          "metadata": {
            "needs_background": "light"
          }
        }
      ]
    },
    {
      "cell_type": "code",
      "source": [
        "#create the testing dataset\n",
        "#createt new array\n",
        "test_data=scaled_data[training_data_len-60:, :]\n",
        "#create the dataset x_test and y_test\n",
        "x_test=[]\n",
        "y_test=dataset[training_data_len: , :]\n",
        "for i in range(60,len(test_data)):\n",
        "  x_test.append(test_data[i-60:i, 0])"
      ],
      "metadata": {
        "id": "DPnsUQf9BCld"
      },
      "execution_count": null,
      "outputs": []
    },
    {
      "cell_type": "code",
      "source": [
        "test_data.shape"
      ],
      "metadata": {
        "colab": {
          "base_uri": "https://localhost:8080/"
        },
        "id": "z5Rlw1TWCqE3",
        "outputId": "88fcb630-b9b4-4bd2-a837-3f85c4124989"
      },
      "execution_count": null,
      "outputs": [
        {
          "output_type": "execute_result",
          "data": {
            "text/plain": [
              "(531, 1)"
            ]
          },
          "metadata": {},
          "execution_count": 42
        }
      ]
    },
    {
      "cell_type": "code",
      "source": [
        "plt.plot(test_data)"
      ],
      "metadata": {
        "colab": {
          "base_uri": "https://localhost:8080/",
          "height": 282
        },
        "id": "PZ6k0yjJBEcK",
        "outputId": "f53ab402-7c01-4ed1-cd17-35579ed0919c"
      },
      "execution_count": null,
      "outputs": [
        {
          "output_type": "execute_result",
          "data": {
            "text/plain": [
              "[<matplotlib.lines.Line2D at 0x7fe841423970>]"
            ]
          },
          "metadata": {},
          "execution_count": 43
        },
        {
          "output_type": "display_data",
          "data": {
            "text/plain": [
              "<Figure size 432x288 with 1 Axes>"
            ],
            "image/png": "[encoded data removed]"
          },
          "metadata": {
            "needs_background": "light"
          }
        }
      ]
    },
    {
      "cell_type": "code",
      "source": [
        "#convert the data to numpy\n",
        "x_test=np.array(x_test)"
      ],
      "metadata": {
        "id": "07sbHgMpBRFl"
      },
      "execution_count": null,
      "outputs": []
    },
    {
      "cell_type": "code",
      "source": [
        "#reshape the data\n",
        "x_test=np.reshape(x_test,(x_test.shape[0],x_test.shape[1],1))"
      ],
      "metadata": {
        "id": "AmTobxzoBCv0"
      },
      "execution_count": null,
      "outputs": []
    },
    {
      "cell_type": "code",
      "source": [
        "#get the model predicted value\n",
        "predictions =model.predict(x_test)\n",
        "predictions=scaler.inverse_transform(predictions)\n",
        "print(predictions)"
      ],
      "metadata": {
        "colab": {
          "base_uri": "https://localhost:8080/"
        },
        "id": "qOsYNrHhBV7e",
        "outputId": "694e26d9-b20c-4a2c-ea4f-bece58a62c1c"
      },
      "execution_count": null,
      "outputs": [
        {
          "output_type": "stream",
          "name": "stdout",
          "text": [
            "15/15 [==============================] - 2s 58ms/step\n",
            "[[2155.0515]\n",
            " [2146.2065]\n",
            " [2175.5564]\n",
            " [2208.4045]\n",
            " [2228.6113]\n",
            " [2230.6604]\n",
            " [2227.8044]\n",
            " [2221.9373]\n",
            " [2219.8396]\n",
            " [2225.3801]\n",
            " [2240.4329]\n",
            " [2232.118 ]\n",
            " [2240.1506]\n",
            " [2241.7288]\n",
            " [2233.3071]\n",
            " [2227.1074]\n",
            " [2209.9329]\n",
            " [2208.6606]\n",
            " [2218.9653]\n",
            " [2217.4114]\n",
            " [2218.0103]\n",
            " [2171.2788]\n",
            " [2150.8708]\n",
            " [2122.4653]\n",
            " [2095.775 ]\n",
            " [2082.899 ]\n",
            " [2084.2397]\n",
            " [2110.7673]\n",
            " [2104.0579]\n",
            " [2101.5908]\n",
            " [2070.3613]\n",
            " [2057.565 ]\n",
            " [2074.032 ]\n",
            " [2088.166 ]\n",
            " [2084.9294]\n",
            " [2098.015 ]\n",
            " [2094.8137]\n",
            " [2102.17  ]\n",
            " [2135.27  ]\n",
            " [2169.2395]\n",
            " [2168.0505]\n",
            " [2174.8066]\n",
            " [2203.278 ]\n",
            " [2198.4336]\n",
            " [2189.1025]\n",
            " [2210.3418]\n",
            " [2217.727 ]\n",
            " [2190.9263]\n",
            " [2176.7458]\n",
            " [2150.131 ]\n",
            " [2136.7488]\n",
            " [2148.7935]\n",
            " [2159.574 ]\n",
            " [2182.5364]\n",
            " [2213.2507]\n",
            " [2243.9575]\n",
            " [2231.6748]\n",
            " [2218.7344]\n",
            " [2208.1448]\n",
            " [2219.301 ]\n",
            " [2223.3523]\n",
            " [2220.656 ]\n",
            " [2200.657 ]\n",
            " [2178.9917]\n",
            " [2161.5151]\n",
            " [2138.9495]\n",
            " [2117.9014]\n",
            " [2115.478 ]\n",
            " [2123.708 ]\n",
            " [2114.0774]\n",
            " [2116.4343]\n",
            " [2097.9172]\n",
            " [2064.893 ]\n",
            " [2019.2976]\n",
            " [2014.4879]\n",
            " [2045.786 ]\n",
            " [2066.6836]\n",
            " [2056.034 ]\n",
            " [2069.776 ]\n",
            " [2056.0188]\n",
            " [2044.5359]\n",
            " [2050.2297]\n",
            " [2037.3395]\n",
            " [2012.7173]\n",
            " [1991.0997]\n",
            " [1972.696 ]\n",
            " [1985.6776]\n",
            " [2007.3314]\n",
            " [2024.327 ]\n",
            " [2021.8068]\n",
            " [2031.4102]\n",
            " [2033.2502]\n",
            " [2042.6589]\n",
            " [2054.2717]\n",
            " [2084.0562]\n",
            " [2094.2903]\n",
            " [2140.6199]\n",
            " [2200.0972]\n",
            " [2236.6794]\n",
            " [2204.963 ]\n",
            " [2172.979 ]\n",
            " [2162.7898]\n",
            " [2155.1592]\n",
            " [2152.371 ]\n",
            " [2121.2852]\n",
            " [2087.9287]\n",
            " [2120.2524]\n",
            " [2158.1167]\n",
            " [2163.467 ]\n",
            " [2146.6982]\n",
            " [2108.696 ]\n",
            " [2087.8909]\n",
            " [2087.7322]\n",
            " [2065.342 ]\n",
            " [2058.5935]\n",
            " [2038.9635]\n",
            " [2033.4401]\n",
            " [2047.3745]\n",
            " [2043.4749]\n",
            " [2020.1354]\n",
            " [2023.3221]\n",
            " [2044.9796]\n",
            " [2082.5435]\n",
            " [2102.6506]\n",
            " [2070.2983]\n",
            " [2017.9122]\n",
            " [2007.4972]\n",
            " [1998.9104]\n",
            " [2026.0853]\n",
            " [2077.6746]\n",
            " [2127.399 ]\n",
            " [2149.3616]\n",
            " [2187.583 ]\n",
            " [2200.4802]\n",
            " [2204.2615]\n",
            " [2192.6309]\n",
            " [2175.8696]\n",
            " [2165.8591]\n",
            " [2154.7368]\n",
            " [2138.7021]\n",
            " [2136.1594]\n",
            " [2133.1458]\n",
            " [2158.4585]\n",
            " [2174.9294]\n",
            " [2183.7405]\n",
            " [2214.648 ]\n",
            " [2206.227 ]\n",
            " [2194.133 ]\n",
            " [2173.4485]\n",
            " [2172.7773]\n",
            " [2188.291 ]\n",
            " [2205.5923]\n",
            " [2201.9412]\n",
            " [2167.6748]\n",
            " [2148.07  ]\n",
            " [2163.766 ]\n",
            " [2168.2576]\n",
            " [2164.6826]\n",
            " [2153.5474]\n",
            " [2155.987 ]\n",
            " [2142.2625]\n",
            " [2123.9731]\n",
            " [2081.1804]\n",
            " [2109.2524]\n",
            " [2098.2024]\n",
            " [2090.7737]\n",
            " [2110.8008]\n",
            " [2113.6304]\n",
            " [2116.3682]\n",
            " [2131.6013]\n",
            " [2134.5977]\n",
            " [2143.1755]\n",
            " [2159.4678]\n",
            " [2162.5708]\n",
            " [2172.1538]\n",
            " [2184.0884]\n",
            " [2177.647 ]\n",
            " [2147.98  ]\n",
            " [2106.935 ]\n",
            " [2112.082 ]\n",
            " [2104.7837]\n",
            " [2090.7742]\n",
            " [2023.5438]\n",
            " [1987.1439]\n",
            " [1997.895 ]\n",
            " [2039.9668]\n",
            " [2089.6863]\n",
            " [2107.5498]\n",
            " [2024.1593]\n",
            " [1957.4197]\n",
            " [1826.3385]\n",
            " [1779.941 ]\n",
            " [1716.4504]\n",
            " [1668.4744]\n",
            " [1650.5739]\n",
            " [1640.5586]\n",
            " [1725.3594]\n",
            " [1713.9717]\n",
            " [1707.711 ]\n",
            " [1727.9427]\n",
            " [1761.969 ]\n",
            " [1796.7611]\n",
            " [1785.636 ]\n",
            " [1795.9031]\n",
            " [1738.3456]\n",
            " [1669.5448]\n",
            " [1701.3746]\n",
            " [1698.5675]\n",
            " [1726.1482]\n",
            " [1741.5913]\n",
            " [1733.585 ]\n",
            " [1714.5447]\n",
            " [1751.9525]\n",
            " [1786.303 ]\n",
            " [1757.0952]\n",
            " [1748.4208]\n",
            " [1806.758 ]\n",
            " [1813.193 ]\n",
            " [1816.3976]\n",
            " [1828.565 ]\n",
            " [1860.9485]\n",
            " [1939.9631]\n",
            " [1936.3795]\n",
            " [1919.5269]\n",
            " [1891.234 ]\n",
            " [1869.3661]\n",
            " [1862.494 ]\n",
            " [1887.1853]\n",
            " [1913.7102]\n",
            " [1927.151 ]\n",
            " [1904.1484]\n",
            " [1881.4917]\n",
            " [1900.6444]\n",
            " [1918.9331]\n",
            " [1930.3625]\n",
            " [1955.3297]\n",
            " [1984.8877]\n",
            " [1954.0172]\n",
            " [1963.8411]\n",
            " [1974.0675]\n",
            " [1960.6846]\n",
            " [1992.1842]\n",
            " [2015.3805]\n",
            " [2023.7218]\n",
            " [2050.2634]\n",
            " [2039.3729]\n",
            " [2040.842 ]\n",
            " [2043.254 ]\n",
            " [2065.7925]\n",
            " [2055.614 ]\n",
            " [2029.3081]\n",
            " [2009.5493]\n",
            " [2011.8995]\n",
            " [2019.2196]\n",
            " [2018.9192]\n",
            " [2021.7681]\n",
            " [2014.13  ]\n",
            " [2013.1307]\n",
            " [2017.7305]\n",
            " [2005.7764]\n",
            " [2056.6167]\n",
            " [2080.0364]\n",
            " [2073.5994]\n",
            " [2069.727 ]\n",
            " [2105.044 ]\n",
            " [2151.6694]\n",
            " [2210.8057]\n",
            " [2240.9436]\n",
            " [2215.8335]\n",
            " [2184.4285]\n",
            " [2179.5386]\n",
            " [2181.373 ]\n",
            " [2156.5781]\n",
            " [2179.7961]\n",
            " [2199.9573]\n",
            " [2189.0618]\n",
            " [2183.4944]\n",
            " [2192.045 ]\n",
            " [2178.0483]\n",
            " [2156.7332]\n",
            " [2138.4521]\n",
            " [2160.913 ]\n",
            " [2239.5144]\n",
            " [2263.2478]\n",
            " [2264.3857]\n",
            " [2259.2793]\n",
            " [2237.579 ]\n",
            " [2222.0212]\n",
            " [2222.5442]\n",
            " [2255.6304]\n",
            " [2268.628 ]\n",
            " [2263.474 ]\n",
            " [2256.0015]\n",
            " [2238.5845]\n",
            " [2228.012 ]\n",
            " [2217.9944]\n",
            " [2221.552 ]\n",
            " [2236.0664]\n",
            " [2236.8489]\n",
            " [2232.6475]\n",
            " [2227.1306]\n",
            " [2224.0278]\n",
            " [2219.8286]\n",
            " [2224.433 ]\n",
            " [2224.9578]\n",
            " [2218.6702]\n",
            " [2225.9238]\n",
            " [2224.7573]\n",
            " [2234.031 ]\n",
            " [2260.0972]\n",
            " [2267.2498]\n",
            " [2289.2766]\n",
            " [2312.741 ]\n",
            " [2309.2441]\n",
            " [2304.0315]\n",
            " [2326.6365]\n",
            " [2412.127 ]\n",
            " [2458.1074]\n",
            " [2475.4553]\n",
            " [2448.1187]\n",
            " [2420.012 ]\n",
            " [2417.185 ]\n",
            " [2457.1042]\n",
            " [2447.6665]\n",
            " [2353.162 ]\n",
            " [2357.223 ]\n",
            " [2379.7139]\n",
            " [2433.4912]\n",
            " [2464.5703]\n",
            " [2492.007 ]\n",
            " [2614.6409]\n",
            " [2682.6523]\n",
            " [2709.095 ]\n",
            " [2763.7607]\n",
            " [2775.3147]\n",
            " [2779.2021]\n",
            " [2774.1143]\n",
            " [2758.685 ]\n",
            " [2706.8828]\n",
            " [2698.9075]\n",
            " [2673.007 ]\n",
            " [2682.5864]\n",
            " [2654.4524]\n",
            " [2637.8987]\n",
            " [2645.5056]\n",
            " [2655.0273]\n",
            " [2622.6487]\n",
            " [2598.3757]\n",
            " [2596.9988]\n",
            " [2621.4766]\n",
            " [2597.308 ]\n",
            " [2598.284 ]\n",
            " [2614.6472]\n",
            " [2644.174 ]\n",
            " [2671.0835]\n",
            " [2691.8594]\n",
            " [2646.9526]\n",
            " [2641.5564]\n",
            " [2634.375 ]\n",
            " [2623.0828]\n",
            " [2627.8396]\n",
            " [2630.7168]\n",
            " [2607.2622]\n",
            " [2601.0544]\n",
            " [2617.0142]\n",
            " [2668.7283]\n",
            " [2693.3743]\n",
            " [2683.571 ]\n",
            " [2684.1353]\n",
            " [2657.6692]\n",
            " [2672.8413]\n",
            " [2700.3247]\n",
            " [2687.4045]\n",
            " [2687.4119]\n",
            " [2695.738 ]\n",
            " [2739.1416]\n",
            " [2770.1746]\n",
            " [2761.5132]\n",
            " [2749.351 ]\n",
            " [2751.9194]\n",
            " [2731.3389]\n",
            " [2754.78  ]\n",
            " [2787.2925]\n",
            " [2816.6152]\n",
            " [2799.3972]\n",
            " [2818.5051]\n",
            " [2854.2979]\n",
            " [2869.985 ]\n",
            " [2884.5422]\n",
            " [2888.7068]\n",
            " [2872.9631]\n",
            " [2832.1985]\n",
            " [2857.331 ]\n",
            " [2953.234 ]\n",
            " [3037.5762]\n",
            " [3036.011 ]\n",
            " [3003.7864]\n",
            " [3043.0273]\n",
            " [3104.618 ]\n",
            " [3127.8223]\n",
            " [3116.4731]\n",
            " [3168.3315]\n",
            " [3182.5774]\n",
            " [3172.1777]\n",
            " [3190.722 ]\n",
            " [3235.0762]\n",
            " [3229.4634]\n",
            " [3239.746 ]\n",
            " [3236.4395]\n",
            " [3211.7014]\n",
            " [3155.162 ]\n",
            " [3073.6418]\n",
            " [3065.7178]\n",
            " [3124.451 ]\n",
            " [3158.0408]\n",
            " [3159.352 ]\n",
            " [3131.8823]\n",
            " [3154.8704]\n",
            " [3143.1753]\n",
            " [3158.284 ]\n",
            " [3161.4905]\n",
            " [3149.3184]\n",
            " [3106.4578]\n",
            " [3065.6199]\n",
            " [3028.8853]\n",
            " [3009.1792]\n",
            " [3018.6677]\n",
            " [2952.4478]\n",
            " [2934.6995]\n",
            " [2916.2913]\n",
            " [2944.1213]\n",
            " [2894.9685]\n",
            " [2885.8303]\n",
            " [2943.8643]\n",
            " [3011.6594]\n",
            " [3029.7153]\n",
            " [2995.4558]\n",
            " [2969.4373]\n",
            " [2988.737 ]\n",
            " [3016.2048]\n",
            " [3018.6782]\n",
            " [3020.6775]\n",
            " [3050.5903]\n",
            " [3067.0422]\n",
            " [3017.3293]\n",
            " [2997.9868]\n",
            " [3050.726 ]\n",
            " [3091.426 ]\n",
            " [3089.425 ]\n",
            " [3041.5278]\n",
            " [3017.439 ]\n",
            " [3076.057 ]\n",
            " [3124.7234]\n",
            " [3131.4946]\n",
            " [3176.4314]\n",
            " [3213.0723]\n",
            " [3225.8345]\n",
            " [3255.1716]\n",
            " [3267.895 ]\n",
            " [3213.3115]\n",
            " [3083.1418]\n",
            " [3110.041 ]\n",
            " [3132.2107]\n",
            " [3122.2683]\n",
            " [3105.1372]\n",
            " [3081.8171]\n",
            " [3067.699 ]\n",
            " [3059.6028]\n",
            " [3080.5688]\n",
            " [3087.7036]\n",
            " [3081.6372]]\n"
          ]
        }
      ]
    },
    {
      "cell_type": "code",
      "source": [
        "plt.plot(predictions)"
      ],
      "metadata": {
        "colab": {
          "base_uri": "https://localhost:8080/",
          "height": 282
        },
        "id": "vWzFOkAdDLwy",
        "outputId": "95af103a-7d1d-427e-b78d-ef66ad698def"
      },
      "execution_count": null,
      "outputs": [
        {
          "output_type": "execute_result",
          "data": {
            "text/plain": [
              "[<matplotlib.lines.Line2D at 0x7fe84125ca60>]"
            ]
          },
          "metadata": {},
          "execution_count": 47
        },
        {
          "output_type": "display_data",
          "data": {
            "text/plain": [
              "<Figure size 432x288 with 1 Axes>"
            ],
            "image/png": "[encoded data removed]"
          },
          "metadata": {
            "needs_background": "light"
          }
        }
      ]
    },
    {
      "cell_type": "code",
      "source": [
        "#plot the data\n",
        "train=data[:training_data_len]\n",
        "valid=data[training_data_len:]\n",
        "valid['Predictions']=predictions"
      ],
      "metadata": {
        "id": "lBjq-IShBX_a"
      },
      "execution_count": null,
      "outputs": []
    },
    {
      "cell_type": "code",
      "source": [
        "#visualize the data\n",
        "plt.figure(figsize=(16,8))\n",
        "plt.title('Model')\n",
        "plt.xlabel('Data')\n",
        "plt.ylabel('Close prise INR')\n",
        "plt.plot(train['Close'])\n",
        "plt.plot(valid[['Close','Predictions']])\n",
        "plt.legend(['Train','Test','Predictions'],loc='lower right')\n",
        "plt.show()\n"
      ],
      "metadata": {
        "colab": {
          "base_uri": "https://localhost:8080/",
          "height": 513
        },
        "id": "S09Bmns1BaHA",
        "outputId": "6585ffcc-9027-4f1b-90d9-6bb1055d0a6d"
      },
      "execution_count": null,
      "outputs": [
        {
          "output_type": "display_data",
          "data": {
            "text/plain": [
              "<Figure size 1152x576 with 1 Axes>"
            ],
            "image/png": "[encoded data removed]"
          },
          "metadata": {
            "needs_background": "light"
          }
        }
      ]
    },
    {
      "cell_type": "code",
      "source": [
        "df5 = pd.DataFrame({'Actual': y_test.flatten() , 'Predicted' : predictions.flatten()})\n",
        "print(df5)"
      ],
      "metadata": {
        "colab": {
          "base_uri": "https://localhost:8080/"
        },
        "id": "XKg7nkJ6iCZO",
        "outputId": "cc980814-3f45-49e3-8462-f1aec629e0b2"
      },
      "execution_count": null,
      "outputs": [
        {
          "output_type": "stream",
          "name": "stdout",
          "text": [
            "      Actual    Predicted\n",
            "0    2181.75  2155.051514\n",
            "1    2231.50  2146.206543\n",
            "2    2252.80  2175.556396\n",
            "3    2260.90  2208.404541\n",
            "4    2254.10  2228.611328\n",
            "..       ...          ...\n",
            "466  3100.80  3067.698975\n",
            "467  3132.00  3059.602783\n",
            "468  3124.10  3080.568848\n",
            "469  3115.25  3087.703613\n",
            "470  3035.65  3081.637207\n",
            "\n",
            "[471 rows x 2 columns]\n"
          ]
        }
      ]
    },
    {
      "cell_type": "code",
      "source": [
        "plt.plot(df5)\n",
        "plt.legend(['Actual','Predicted'],loc='lower right')"
      ],
      "metadata": {
        "colab": {
          "base_uri": "https://localhost:8080/",
          "height": 282
        },
        "id": "Z4EBMKzAFExm",
        "outputId": "fc75663e-abb1-45e8-d967-9416be5cfba3"
      },
      "execution_count": null,
      "outputs": [
        {
          "output_type": "execute_result",
          "data": {
            "text/plain": [
              "<matplotlib.legend.Legend at 0x7fe8411e64f0>"
            ]
          },
          "metadata": {},
          "execution_count": 51
        },
        {
          "output_type": "display_data",
          "data": {
            "text/plain": [
              "<Figure size 432x288 with 1 Axes>"
            ],
            "image/png": "[encoded data removed]"
          },
          "metadata": {
            "needs_background": "light"
          }
        }
      ]
    },
    {
      "cell_type": "code",
      "source": [
        "model.summary()"
      ],
      "metadata": {
        "colab": {
          "base_uri": "https://localhost:8080/"
        },
        "id": "Vhuf9bmcke4P",
        "outputId": "1e3c23e3-870e-4310-d601-e145504b1ecb"
      },
      "execution_count": null,
      "outputs": [
        {
          "output_type": "stream",
          "name": "stdout",
          "text": [
            "Model: \"sequential\"\n",
            "_________________________________________________________________\n",
            " Layer (type)                Output Shape              Param #   \n",
            "=================================================================\n",
            " lstm (LSTM)                 (None, 60, 200)           161600    \n",
            "                                                                 \n",
            " lstm_1 (LSTM)               (None, 200)               320800    \n",
            "                                                                 \n",
            " dense (Dense)               (None, 100)               20100     \n",
            "                                                                 \n",
            " dense_1 (Dense)             (None, 50)                5050      \n",
            "                                                                 \n",
            " dense_2 (Dense)             (None, 1)                 51        \n",
            "                                                                 \n",
            "=================================================================\n",
            "Total params: 507,601\n",
            "Trainable params: 507,601\n",
            "Non-trainable params: 0\n",
            "_________________________________________________________________\n"
          ]
        }
      ]
    },
    {
      "cell_type": "code",
      "source": [
        "predicted = model.predict(x_test)\n",
        "print(r2_score(y_test,predicted))"
      ],
      "metadata": {
        "id": "tB5dCbFyaZ__",
        "colab": {
          "base_uri": "https://localhost:8080/"
        },
        "outputId": "dc9fb8a5-9f7b-42a5-bdfa-cdd5719fd196"
      },
      "execution_count": null,
      "outputs": [
        {
          "output_type": "stream",
          "name": "stdout",
          "text": [
            "15/15 [==============================] - 1s 58ms/step\n",
            "-31.475645854034894\n"
          ]
        }
      ]
    },
    {
      "cell_type": "code",
      "source": [
        "predictions = scaler.inverse_transform(predictions)"
      ],
      "metadata": {
        "id": "gTRHTPcjDM1Y"
      },
      "execution_count": null,
      "outputs": []
    },
    {
      "cell_type": "code",
      "source": [
        "# Get the root mean squared error (RMSE)\n",
        "rmse = np.sqrt(np.mean(((predictions - y_test) ** 2)))\n",
        "rmse"
      ],
      "metadata": {
        "colab": {
          "base_uri": "https://localhost:8080/"
        },
        "id": "PI2BBaZdC6Eb",
        "outputId": "24e5177b-201b-4423-93e4-4a360a021748"
      },
      "execution_count": null,
      "outputs": [
        {
          "output_type": "execute_result",
          "data": {
            "text/plain": [
              "7707908.76291049"
            ]
          },
          "metadata": {},
          "execution_count": 75
        }
      ]
    },
    {
      "cell_type": "code",
      "source": [
        "import matplotlib.pyplot as plt"
      ],
      "metadata": {
        "id": "540dEWxpZS1P"
      },
      "execution_count": null,
      "outputs": []
    },
    {
      "cell_type": "code",
      "source": [
        "df5 = pd.DataFrame({'Targeted': y_test.flatten(), 'Predicted' : predicted.flatten()})\n",
        "df5"
      ],
      "metadata": {
        "id": "gN7lRkm8a5um",
        "colab": {
          "base_uri": "https://localhost:8080/",
          "height": 423
        },
        "outputId": "d2c5e529-9697-4390-856a-e3d941484b66"
      },
      "execution_count": null,
      "outputs": [
        {
          "output_type": "execute_result",
          "data": {
            "text/plain": [
              "      Targeted    Predicted\n",
              "0      1452.45  1530.512274\n",
              "1      1443.80  1532.978835\n",
              "2      1427.70  1545.502619\n",
              "3      1404.50  1531.782994\n",
              "4      1422.25  1546.090658\n",
              "...        ...          ...\n",
              "1940   3100.80  3018.449174\n",
              "1941   3132.00  3023.495399\n",
              "1942   3124.10  2965.993767\n",
              "1943   3115.25  2970.403369\n",
              "1944   3035.65  3027.409259\n",
              "\n",
              "[1945 rows x 2 columns]"
            ],
            "text/html": [
              "\n",
              "  <div id=\"df-8bc7160b-db4d-47a3-aedb-2de7a14c7d27\">\n",
              "    <div class=\"colab-df-container\">\n",
              "      <div>\n",
              "<style scoped>\n",
              "    .dataframe tbody tr th:only-of-type {\n",
              "        vertical-align: middle;\n",
              "    }\n",
              "\n",
              "    .dataframe tbody tr th {\n",
              "        vertical-align: top;\n",
              "    }\n",
              "\n",
              "    .dataframe thead th {\n",
              "        text-align: right;\n",
              "    }\n",
              "</style>\n",
              "<table border=\"1\" class=\"dataframe\">\n",
              "  <thead>\n",
              "    <tr style=\"text-align: right;\">\n",
              "      <th></th>\n",
              "      <th>Targeted</th>\n",
              "      <th>Predicted</th>\n",
              "    </tr>\n",
              "  </thead>\n",
              "  <tbody>\n",
              "    <tr>\n",
              "      <th>0</th>\n",
              "      <td>1452.45</td>\n",
              "      <td>1530.512274</td>\n",
              "    </tr>\n",
              "    <tr>\n",
              "      <th>1</th>\n",
              "      <td>1443.80</td>\n",
              "      <td>1532.978835</td>\n",
              "    </tr>\n",
              "    <tr>\n",
              "      <th>2</th>\n",
              "      <td>1427.70</td>\n",
              "      <td>1545.502619</td>\n",
              "    </tr>\n",
              "    <tr>\n",
              "      <th>3</th>\n",
              "      <td>1404.50</td>\n",
              "      <td>1531.782994</td>\n",
              "    </tr>\n",
              "    <tr>\n",
              "      <th>4</th>\n",
              "      <td>1422.25</td>\n",
              "      <td>1546.090658</td>\n",
              "    </tr>\n",
              "    <tr>\n",
              "      <th>...</th>\n",
              "      <td>...</td>\n",
              "      <td>...</td>\n",
              "    </tr>\n",
              "    <tr>\n",
              "      <th>1940</th>\n",
              "      <td>3100.80</td>\n",
              "      <td>3018.449174</td>\n",
              "    </tr>\n",
              "    <tr>\n",
              "      <th>1941</th>\n",
              "      <td>3132.00</td>\n",
              "      <td>3023.495399</td>\n",
              "    </tr>\n",
              "    <tr>\n",
              "      <th>1942</th>\n",
              "      <td>3124.10</td>\n",
              "      <td>2965.993767</td>\n",
              "    </tr>\n",
              "    <tr>\n",
              "      <th>1943</th>\n",
              "      <td>3115.25</td>\n",
              "      <td>2970.403369</td>\n",
              "    </tr>\n",
              "    <tr>\n",
              "      <th>1944</th>\n",
              "      <td>3035.65</td>\n",
              "      <td>3027.409259</td>\n",
              "    </tr>\n",
              "  </tbody>\n",
              "</table>\n",
              "<p>1945 rows × 2 columns</p>\n",
              "</div>\n",
              "      <button class=\"colab-df-convert\" onclick=\"convertToInteractive('df-8bc7160b-db4d-47a3-aedb-2de7a14c7d27')\"\n",
              "              title=\"Convert this dataframe to an interactive table.\"\n",
              "              style=\"display:none;\">\n",
              "        \n",
              "  <svg xmlns=\"http://www.w3.org/2000/svg\" height=\"24px\"viewBox=\"0 0 24 24\"\n",
              "       width=\"24px\">\n",
              "    <path d=\"M0 0h24v24H0V0z\" fill=\"none\"/>\n",
              "    <path d=\"M18.56 5.44l.94 2.06.94-2.06 2.06-.94-2.06-.94-.94-2.06-.94 2.06-2.06.94zm-11 1L8.5 8.5l.94-2.06 2.06-.94-2.06-.94L8.5 2.5l-.94 2.06-2.06.94zm10 10l.94 2.06.94-2.06 2.06-.94-2.06-.94-.94-2.06-.94 2.06-2.06.94z\"/><path d=\"M17.41 7.96l-1.37-1.37c-.4-.4-.92-.59-1.43-.59-.52 0-1.04.2-1.43.59L10.3 9.45l-7.72 7.72c-.78.78-.78 2.05 0 2.83L4 21.41c.39.39.9.59 1.41.59.51 0 1.02-.2 1.41-.59l7.78-7.78 2.81-2.81c.8-.78.8-2.07 0-2.86zM5.41 20L4 18.59l7.72-7.72 1.47 1.35L5.41 20z\"/>\n",
              "  </svg>\n",
              "      </button>\n",
              "      \n",
              "  <style>\n",
              "    .colab-df-container {\n",
              "      display:flex;\n",
              "      flex-wrap:wrap;\n",
              "      gap: 12px;\n",
              "    }\n",
              "\n",
              "    .colab-df-convert {\n",
              "      background-color: #E8F0FE;\n",
              "      border: none;\n",
              "      border-radius: 50%;\n",
              "      cursor: pointer;\n",
              "      display: none;\n",
              "      fill: #1967D2;\n",
              "      height: 32px;\n",
              "      padding: 0 0 0 0;\n",
              "      width: 32px;\n",
              "    }\n",
              "\n",
              "    .colab-df-convert:hover {\n",
              "      background-color: #E2EBFA;\n",
              "      box-shadow: 0px 1px 2px rgba(60, 64, 67, 0.3), 0px 1px 3px 1px rgba(60, 64, 67, 0.15);\n",
              "      fill: #174EA6;\n",
              "    }\n",
              "\n",
              "    [theme=dark] .colab-df-convert {\n",
              "      background-color: #3B4455;\n",
              "      fill: #D2E3FC;\n",
              "    }\n",
              "\n",
              "    [theme=dark] .colab-df-convert:hover {\n",
              "      background-color: #434B5C;\n",
              "      box-shadow: 0px 1px 3px 1px rgba(0, 0, 0, 0.15);\n",
              "      filter: drop-shadow(0px 1px 2px rgba(0, 0, 0, 0.3));\n",
              "      fill: #FFFFFF;\n",
              "    }\n",
              "  </style>\n",
              "\n",
              "      <script>\n",
              "        const buttonEl =\n",
              "          document.querySelector('#df-8bc7160b-db4d-47a3-aedb-2de7a14c7d27 button.colab-df-convert');\n",
              "        buttonEl.style.display =\n",
              "          google.colab.kernel.accessAllowed ? 'block' : 'none';\n",
              "\n",
              "        async function convertToInteractive(key) {\n",
              "          const element = document.querySelector('#df-8bc7160b-db4d-47a3-aedb-2de7a14c7d27');\n",
              "          const dataTable =\n",
              "            await google.colab.kernel.invokeFunction('convertToInteractive',\n",
              "                                                     [key], {});\n",
              "          if (!dataTable) return;\n",
              "\n",
              "          const docLinkHtml = 'Like what you see? Visit the ' +\n",
              "            '<a target=\"_blank\" href=https://colab.research.google.com/notebooks/data_table.ipynb>data table notebook</a>'\n",
              "            + ' to learn more about interactive tables.';\n",
              "          element.innerHTML = '';\n",
              "          dataTable['output_type'] = 'display_data';\n",
              "          await google.colab.output.renderOutput(dataTable, element);\n",
              "          const docLink = document.createElement('div');\n",
              "          docLink.innerHTML = docLinkHtml;\n",
              "          element.appendChild(docLink);\n",
              "        }\n",
              "      </script>\n",
              "    </div>\n",
              "  </div>\n",
              "  "
            ]
          },
          "metadata": {},
          "execution_count": 80
        }
      ]
    },
    {
      "cell_type": "code",
      "source": [
        "plt.plot(df5)\n",
        "plt.legend(['Targeted','Predicted'],loc='lower right')"
      ],
      "metadata": {
        "id": "nEPnqvjlYqY4",
        "colab": {
          "base_uri": "https://localhost:8080/",
          "height": 282
        },
        "outputId": "23c9e998-e28d-4af7-ac4b-5ed30a58fa4c"
      },
      "execution_count": null,
      "outputs": [
        {
          "output_type": "execute_result",
          "data": {
            "text/plain": [
              "<matplotlib.legend.Legend at 0x7fe840e99a00>"
            ]
          },
          "metadata": {},
          "execution_count": 81
        },
        {
          "output_type": "display_data",
          "data": {
            "text/plain": [
              "<Figure size 432x288 with 1 Axes>"
            ],
            "image/png": "[encoded data removed]"
          },
          "metadata": {
            "needs_background": "light"
          }
        }
      ]
    },
    {
      "cell_type": "code",
      "source": [
        "#LINEAR REGRESSION"
      ],
      "metadata": {
        "id": "0slIBYeOyspc"
      },
      "execution_count": null,
      "outputs": []
    },
    {
      "cell_type": "code",
      "source": [
        "#Seperating 'Open','Close', and 'Volume' columns for prediction\n",
        "dfreg = tata.loc[:,['Close']]"
      ],
      "metadata": {
        "id": "hBrBlu9Cyv6K"
      },
      "execution_count": null,
      "outputs": []
    },
    {
      "cell_type": "code",
      "source": [
        "forecast_out = int(math.ceil(0.01* len(dfreg)))\n",
        "dfreg['label'] = dfreg['Close'].shift(-forecast_out)\n",
        "X = np.array(dfreg.drop(['label'], 1))\n",
        "X = preprocessing.scale(X)\n",
        "X = X[:-forecast_out]\n",
        "y = np.array(dfreg['label'])\n",
        "y = y[:-forecast_out]"
      ],
      "metadata": {
        "id": "1KJWkwPay-Qy"
      },
      "execution_count": null,
      "outputs": []
    },
    {
      "cell_type": "code",
      "source": [
        "training_data_len = int(np.ceil( len(dataset) * 0.85 ))\n",
        "\n",
        "training_data_len\n"
      ],
      "metadata": {
        "colab": {
          "base_uri": "https://localhost:8080/"
        },
        "id": "zI128qCQy-Yj",
        "outputId": "a6f0b3c0-e785-4fe4-a5a7-c3689cfb115c"
      },
      "execution_count": null,
      "outputs": [
        {
          "output_type": "execute_result",
          "data": {
            "text/plain": [
              "2669"
            ]
          },
          "metadata": {},
          "execution_count": 113
        }
      ]
    },
    {
      "cell_type": "code",
      "source": [
        "from sklearn.preprocessing import MinMaxScaler\n",
        "\n",
        "scaler = MinMaxScaler(feature_range=(0,1))\n",
        "scaled_data = scaler.fit_transform(dfreg)\n",
        "\n",
        "scaled_data"
      ],
      "metadata": {
        "colab": {
          "base_uri": "https://localhost:8080/"
        },
        "id": "t5VyA-TBmXvu",
        "outputId": "8f28c085-05a7-4335-bc83-f776dbc9aeff"
      },
      "execution_count": null,
      "outputs": [
        {
          "output_type": "execute_result",
          "data": {
            "text/plain": [
              "array([[0.0958241 , 0.09857949],\n",
              "       [0.09297563, 0.10345726],\n",
              "       [0.08714836, 0.09442779],\n",
              "       ...,\n",
              "       [0.82142126,        nan],\n",
              "       [0.81812597,        nan],\n",
              "       [0.78848696,        nan]])"
            ]
          },
          "metadata": {},
          "execution_count": 114
        }
      ]
    },
    {
      "cell_type": "code",
      "source": [
        "#create the training data\n",
        "#create scaled training dataset\n",
        "train_data = scaled_data[0:training_data_len, :]\n",
        "#split the data to x_train and y_train\n",
        "x_train=[]\n",
        "y_train=[]\n",
        "for i in range(60,len(train_data)):\n",
        "  x_train.append(train_data[i-60:i])\n",
        "  y_train.append(train_data[i])\n",
        ""
      ],
      "metadata": {
        "id": "JQdM1nCRmjpn"
      },
      "execution_count": null,
      "outputs": []
    },
    {
      "cell_type": "code",
      "source": [
        "# Feature selection\n",
        "x_train=[]\n",
        "y_train=[]\n",
        "for i in range(60,len(scaled_data)):\n",
        "    x_train.append(scaled_data[i-60:i,0])\n",
        "    y_train.append(scaled_data[i,0])\n",
        "\n",
        "x_train, y_train = np.array(x_train), np.array(y_train)"
      ],
      "metadata": {
        "id": "nlWoxrdomz73"
      },
      "execution_count": null,
      "outputs": []
    },
    {
      "cell_type": "code",
      "source": [
        "len(x_train)"
      ],
      "metadata": {
        "colab": {
          "base_uri": "https://localhost:8080/"
        },
        "id": "Pbob2jxmnZVh",
        "outputId": "fe3fd2bf-6831-4c47-9dd5-b0699e8991d2"
      },
      "execution_count": null,
      "outputs": [
        {
          "output_type": "execute_result",
          "data": {
            "text/plain": [
              "2396"
            ]
          },
          "metadata": {},
          "execution_count": 120
        }
      ]
    },
    {
      "cell_type": "code",
      "source": [
        "len(x_test)"
      ],
      "metadata": {
        "colab": {
          "base_uri": "https://localhost:8080/"
        },
        "id": "Boeh_zfEnbcm",
        "outputId": "dc049e43-5c18-4c48-c919-4f4fad108f61"
      },
      "execution_count": null,
      "outputs": [
        {
          "output_type": "execute_result",
          "data": {
            "text/plain": [
              "2188"
            ]
          },
          "metadata": {},
          "execution_count": 121
        }
      ]
    },
    {
      "cell_type": "code",
      "source": [
        "plt.plot(y_train)   #training plot"
      ],
      "metadata": {
        "id": "4uwsjXClFoX1",
        "colab": {
          "base_uri": "https://localhost:8080/",
          "height": 282
        },
        "outputId": "ccf5418e-0d94-471f-f06d-38d1105d0e36"
      },
      "execution_count": null,
      "outputs": [
        {
          "output_type": "execute_result",
          "data": {
            "text/plain": [
              "[<matplotlib.lines.Line2D at 0x7fe83ad9c7c0>]"
            ]
          },
          "metadata": {},
          "execution_count": 122
        },
        {
          "output_type": "display_data",
          "data": {
            "text/plain": [
              "<Figure size 432x288 with 1 Axes>"
            ],
            "image/png": "[encoded data removed]"
          },
          "metadata": {
            "needs_background": "light"
          }
        }
      ]
    },
    {
      "cell_type": "code",
      "source": [
        "plt.plot(y_test)"
      ],
      "metadata": {
        "colab": {
          "base_uri": "https://localhost:8080/",
          "height": 282
        },
        "id": "7nil8OoKls3P",
        "outputId": "5081f285-a657-4180-96b1-5030869f8d21"
      },
      "execution_count": null,
      "outputs": [
        {
          "output_type": "execute_result",
          "data": {
            "text/plain": [
              "[<matplotlib.lines.Line2D at 0x7fe83ad36640>]"
            ]
          },
          "metadata": {},
          "execution_count": 123
        },
        {
          "output_type": "display_data",
          "data": {
            "text/plain": [
              "<Figure size 432x288 with 1 Axes>"
            ],
            "image/png": "[encoded data removed]"
          },
          "metadata": {
            "needs_background": "light"
          }
        }
      ]
    },
    {
      "cell_type": "code",
      "source": [
        "x_test,y_test"
      ],
      "metadata": {
        "colab": {
          "base_uri": "https://localhost:8080/"
        },
        "id": "I4Ew1HmrGeLF",
        "outputId": "962a21b7-4d80-48a6-b493-e478c9b0f7d1"
      },
      "execution_count": null,
      "outputs": [
        {
          "output_type": "execute_result",
          "data": {
            "text/plain": [
              "(array([[-1.6235695 ],\n",
              "        [-1.62160998],\n",
              "        [-1.6282011 ],\n",
              "        ...,\n",
              "        [ 1.60510011],\n",
              "        [ 1.62950508],\n",
              "        [ 1.77103604]]),\n",
              " array([1235.1 , 1246.7 , 1258.85, ..., 3124.1 , 3115.25, 3035.65]))"
            ]
          },
          "metadata": {},
          "execution_count": 124
        }
      ]
    },
    {
      "cell_type": "code",
      "source": [
        "model = LinearRegression()\n",
        "model.fit(dfreg)"
      ],
      "metadata": {
        "colab": {
          "base_uri": "https://localhost:8080/",
          "height": 182
        },
        "id": "an1H-4-zpXGJ",
        "outputId": "fffb9a5e-c4ba-4eb0-a014-a2f07b456927"
      },
      "execution_count": null,
      "outputs": [
        {
          "output_type": "error",
          "ename": "NameError",
          "evalue": "ignored",
          "traceback": [
            "\u001b[0;31m---------------------------------------------------------------------------\u001b[0m",
            "\u001b[0;31mNameError\u001b[0m                                 Traceback (most recent call last)",
            "\u001b[0;32m<ipython-input-1-27ae37391120>\u001b[0m in \u001b[0;36m<module>\u001b[0;34m\u001b[0m\n\u001b[0;32m----> 1\u001b[0;31m \u001b[0mmodel\u001b[0m \u001b[0;34m=\u001b[0m \u001b[0mLinearRegression\u001b[0m\u001b[0;34m(\u001b[0m\u001b[0;34m)\u001b[0m\u001b[0;34m\u001b[0m\u001b[0;34m\u001b[0m\u001b[0m\n\u001b[0m\u001b[1;32m      2\u001b[0m \u001b[0mmodel\u001b[0m\u001b[0;34m.\u001b[0m\u001b[0mfit\u001b[0m\u001b[0;34m(\u001b[0m\u001b[0mdfreg\u001b[0m\u001b[0;34m)\u001b[0m\u001b[0;34m\u001b[0m\u001b[0;34m\u001b[0m\u001b[0m\n",
            "\u001b[0;31mNameError\u001b[0m: name 'LinearRegression' is not defined"
          ]
        }
      ]
    },
    {
      "cell_type": "code",
      "source": [
        "predicted = regressor.predict(x_test)\n",
        "print(r2_score(y_test,predicted))"
      ],
      "metadata": {
        "id": "0Zd9HGtYy-cS",
        "colab": {
          "base_uri": "https://localhost:8080/",
          "height": 328
        },
        "outputId": "82026d59-c95c-43ae-8013-a8a060f02832"
      },
      "execution_count": null,
      "outputs": [
        {
          "output_type": "error",
          "ename": "NotFittedError",
          "evalue": "ignored",
          "traceback": [
            "\u001b[0;31m---------------------------------------------------------------------------\u001b[0m",
            "\u001b[0;31mNotFittedError\u001b[0m                            Traceback (most recent call last)",
            "\u001b[0;32m<ipython-input-125-fff5ec9921f7>\u001b[0m in \u001b[0;36m<module>\u001b[0;34m\u001b[0m\n\u001b[0;32m----> 1\u001b[0;31m \u001b[0mpredicted\u001b[0m \u001b[0;34m=\u001b[0m \u001b[0mregressor\u001b[0m\u001b[0;34m.\u001b[0m\u001b[0mpredict\u001b[0m\u001b[0;34m(\u001b[0m\u001b[0mx_test\u001b[0m\u001b[0;34m)\u001b[0m\u001b[0;34m\u001b[0m\u001b[0;34m\u001b[0m\u001b[0m\n\u001b[0m\u001b[1;32m      2\u001b[0m \u001b[0mprint\u001b[0m\u001b[0;34m(\u001b[0m\u001b[0mr2_score\u001b[0m\u001b[0;34m(\u001b[0m\u001b[0my_test\u001b[0m\u001b[0;34m,\u001b[0m\u001b[0mpredicted\u001b[0m\u001b[0;34m)\u001b[0m\u001b[0;34m)\u001b[0m\u001b[0;34m\u001b[0m\u001b[0;34m\u001b[0m\u001b[0m\n",
            "\u001b[0;32m/usr/local/lib/python3.8/dist-packages/sklearn/linear_model/_base.py\u001b[0m in \u001b[0;36mpredict\u001b[0;34m(self, X)\u001b[0m\n\u001b[1;32m    360\u001b[0m             \u001b[0mReturns\u001b[0m \u001b[0mpredicted\u001b[0m \u001b[0mvalues\u001b[0m\u001b[0;34m.\u001b[0m\u001b[0;34m\u001b[0m\u001b[0;34m\u001b[0m\u001b[0m\n\u001b[1;32m    361\u001b[0m         \"\"\"\n\u001b[0;32m--> 362\u001b[0;31m         \u001b[0;32mreturn\u001b[0m \u001b[0mself\u001b[0m\u001b[0;34m.\u001b[0m\u001b[0m_decision_function\u001b[0m\u001b[0;34m(\u001b[0m\u001b[0mX\u001b[0m\u001b[0;34m)\u001b[0m\u001b[0;34m\u001b[0m\u001b[0;34m\u001b[0m\u001b[0m\n\u001b[0m\u001b[1;32m    363\u001b[0m \u001b[0;34m\u001b[0m\u001b[0m\n\u001b[1;32m    364\u001b[0m     \u001b[0m_preprocess_data\u001b[0m \u001b[0;34m=\u001b[0m \u001b[0mstaticmethod\u001b[0m\u001b[0;34m(\u001b[0m\u001b[0m_preprocess_data\u001b[0m\u001b[0;34m)\u001b[0m\u001b[0;34m\u001b[0m\u001b[0;34m\u001b[0m\u001b[0m\n",
            "\u001b[0;32m/usr/local/lib/python3.8/dist-packages/sklearn/linear_model/_base.py\u001b[0m in \u001b[0;36m_decision_function\u001b[0;34m(self, X)\u001b[0m\n\u001b[1;32m    341\u001b[0m \u001b[0;34m\u001b[0m\u001b[0m\n\u001b[1;32m    342\u001b[0m     \u001b[0;32mdef\u001b[0m \u001b[0m_decision_function\u001b[0m\u001b[0;34m(\u001b[0m\u001b[0mself\u001b[0m\u001b[0;34m,\u001b[0m \u001b[0mX\u001b[0m\u001b[0;34m)\u001b[0m\u001b[0;34m:\u001b[0m\u001b[0;34m\u001b[0m\u001b[0;34m\u001b[0m\u001b[0m\n\u001b[0;32m--> 343\u001b[0;31m         \u001b[0mcheck_is_fitted\u001b[0m\u001b[0;34m(\u001b[0m\u001b[0mself\u001b[0m\u001b[0;34m)\u001b[0m\u001b[0;34m\u001b[0m\u001b[0;34m\u001b[0m\u001b[0m\n\u001b[0m\u001b[1;32m    344\u001b[0m \u001b[0;34m\u001b[0m\u001b[0m\n\u001b[1;32m    345\u001b[0m         \u001b[0mX\u001b[0m \u001b[0;34m=\u001b[0m \u001b[0mself\u001b[0m\u001b[0;34m.\u001b[0m\u001b[0m_validate_data\u001b[0m\u001b[0;34m(\u001b[0m\u001b[0mX\u001b[0m\u001b[0;34m,\u001b[0m \u001b[0maccept_sparse\u001b[0m\u001b[0;34m=\u001b[0m\u001b[0;34m[\u001b[0m\u001b[0;34m\"csr\"\u001b[0m\u001b[0;34m,\u001b[0m \u001b[0;34m\"csc\"\u001b[0m\u001b[0;34m,\u001b[0m \u001b[0;34m\"coo\"\u001b[0m\u001b[0;34m]\u001b[0m\u001b[0;34m,\u001b[0m \u001b[0mreset\u001b[0m\u001b[0;34m=\u001b[0m\u001b[0;32mFalse\u001b[0m\u001b[0;34m)\u001b[0m\u001b[0;34m\u001b[0m\u001b[0;34m\u001b[0m\u001b[0m\n",
            "\u001b[0;32m/usr/local/lib/python3.8/dist-packages/sklearn/utils/validation.py\u001b[0m in \u001b[0;36mcheck_is_fitted\u001b[0;34m(estimator, attributes, msg, all_or_any)\u001b[0m\n\u001b[1;32m   1220\u001b[0m \u001b[0;34m\u001b[0m\u001b[0m\n\u001b[1;32m   1221\u001b[0m     \u001b[0;32mif\u001b[0m \u001b[0;32mnot\u001b[0m \u001b[0mfitted\u001b[0m\u001b[0;34m:\u001b[0m\u001b[0;34m\u001b[0m\u001b[0;34m\u001b[0m\u001b[0m\n\u001b[0;32m-> 1222\u001b[0;31m         \u001b[0;32mraise\u001b[0m \u001b[0mNotFittedError\u001b[0m\u001b[0;34m(\u001b[0m\u001b[0mmsg\u001b[0m \u001b[0;34m%\u001b[0m \u001b[0;34m{\u001b[0m\u001b[0;34m\"name\"\u001b[0m\u001b[0;34m:\u001b[0m \u001b[0mtype\u001b[0m\u001b[0;34m(\u001b[0m\u001b[0mestimator\u001b[0m\u001b[0;34m)\u001b[0m\u001b[0;34m.\u001b[0m\u001b[0m__name__\u001b[0m\u001b[0;34m}\u001b[0m\u001b[0;34m)\u001b[0m\u001b[0;34m\u001b[0m\u001b[0;34m\u001b[0m\u001b[0m\n\u001b[0m\u001b[1;32m   1223\u001b[0m \u001b[0;34m\u001b[0m\u001b[0m\n\u001b[1;32m   1224\u001b[0m \u001b[0;34m\u001b[0m\u001b[0m\n",
            "\u001b[0;31mNotFittedError\u001b[0m: This LinearRegression instance is not fitted yet. Call 'fit' with appropriate arguments before using this estimator."
          ]
        }
      ]
    },
    {
      "cell_type": "code",
      "source": [
        "plt.plot(y_test) #testing plot"
      ],
      "metadata": {
        "id": "d8Eo8b9_GYtY",
        "colab": {
          "base_uri": "https://localhost:8080/",
          "height": 282
        },
        "outputId": "800b2ad7-cd8d-4d4d-8df6-e154ac84d5a4"
      },
      "execution_count": null,
      "outputs": [
        {
          "output_type": "execute_result",
          "data": {
            "text/plain": [
              "[<matplotlib.lines.Line2D at 0x7fe8416c7bb0>]"
            ]
          },
          "metadata": {},
          "execution_count": 69
        },
        {
          "output_type": "display_data",
          "data": {
            "text/plain": [
              "<Figure size 432x288 with 1 Axes>"
            ],
            "image/png": "[encoded data removed]"
          },
          "metadata": {
            "needs_background": "light"
          }
        }
      ]
    },
    {
      "cell_type": "code",
      "source": [
        "plt.plot(predicted)    #error testing plot"
      ],
      "metadata": {
        "id": "gUpv1d-zGbbL",
        "colab": {
          "base_uri": "https://localhost:8080/",
          "height": 282
        },
        "outputId": "ce58fa74-4bbc-4b50-c202-5b6ff23b9a8c"
      },
      "execution_count": null,
      "outputs": [
        {
          "output_type": "execute_result",
          "data": {
            "text/plain": [
              "[<matplotlib.lines.Line2D at 0x7fe840ef84c0>]"
            ]
          },
          "metadata": {},
          "execution_count": 70
        },
        {
          "output_type": "display_data",
          "data": {
            "text/plain": [
              "<Figure size 432x288 with 1 Axes>"
            ],
            "image/png": "[encoded data removed]"
          },
          "metadata": {
            "needs_background": "light"
          }
        }
      ]
    },
    {
      "cell_type": "code",
      "source": [
        "df5 = pd.DataFrame({'Targeted': y_test.flatten(), 'Predicted' : predicted.flatten()})\n",
        "df5.head(259)"
      ],
      "metadata": {
        "id": "R2BBVjUzy-fN",
        "colab": {
          "base_uri": "https://localhost:8080/",
          "height": 423
        },
        "outputId": "989b2d70-4f72-4167-eced-a363aea36bc3"
      },
      "execution_count": null,
      "outputs": [
        {
          "output_type": "execute_result",
          "data": {
            "text/plain": [
              "     Targeted    Predicted\n",
              "0     1452.45  1530.512274\n",
              "1     1443.80  1532.978835\n",
              "2     1427.70  1545.502619\n",
              "3     1404.50  1531.782994\n",
              "4     1422.25  1546.090658\n",
              "..        ...          ...\n",
              "254   2310.55  2093.559527\n",
              "255   2307.65  2120.545860\n",
              "256   2399.55  2134.253763\n",
              "257   2425.40  2157.595729\n",
              "258   2390.75  2140.325529\n",
              "\n",
              "[259 rows x 2 columns]"
            ],
            "text/html": [
              "\n",
              "  <div id=\"df-9878cdbb-56b4-4d73-b971-9a996d64dcbb\">\n",
              "    <div class=\"colab-df-container\">\n",
              "      <div>\n",
              "<style scoped>\n",
              "    .dataframe tbody tr th:only-of-type {\n",
              "        vertical-align: middle;\n",
              "    }\n",
              "\n",
              "    .dataframe tbody tr th {\n",
              "        vertical-align: top;\n",
              "    }\n",
              "\n",
              "    .dataframe thead th {\n",
              "        text-align: right;\n",
              "    }\n",
              "</style>\n",
              "<table border=\"1\" class=\"dataframe\">\n",
              "  <thead>\n",
              "    <tr style=\"text-align: right;\">\n",
              "      <th></th>\n",
              "      <th>Targeted</th>\n",
              "      <th>Predicted</th>\n",
              "    </tr>\n",
              "  </thead>\n",
              "  <tbody>\n",
              "    <tr>\n",
              "      <th>0</th>\n",
              "      <td>1452.45</td>\n",
              "      <td>1530.512274</td>\n",
              "    </tr>\n",
              "    <tr>\n",
              "      <th>1</th>\n",
              "      <td>1443.80</td>\n",
              "      <td>1532.978835</td>\n",
              "    </tr>\n",
              "    <tr>\n",
              "      <th>2</th>\n",
              "      <td>1427.70</td>\n",
              "      <td>1545.502619</td>\n",
              "    </tr>\n",
              "    <tr>\n",
              "      <th>3</th>\n",
              "      <td>1404.50</td>\n",
              "      <td>1531.782994</td>\n",
              "    </tr>\n",
              "    <tr>\n",
              "      <th>4</th>\n",
              "      <td>1422.25</td>\n",
              "      <td>1546.090658</td>\n",
              "    </tr>\n",
              "    <tr>\n",
              "      <th>...</th>\n",
              "      <td>...</td>\n",
              "      <td>...</td>\n",
              "    </tr>\n",
              "    <tr>\n",
              "      <th>254</th>\n",
              "      <td>2310.55</td>\n",
              "      <td>2093.559527</td>\n",
              "    </tr>\n",
              "    <tr>\n",
              "      <th>255</th>\n",
              "      <td>2307.65</td>\n",
              "      <td>2120.545860</td>\n",
              "    </tr>\n",
              "    <tr>\n",
              "      <th>256</th>\n",
              "      <td>2399.55</td>\n",
              "      <td>2134.253763</td>\n",
              "    </tr>\n",
              "    <tr>\n",
              "      <th>257</th>\n",
              "      <td>2425.40</td>\n",
              "      <td>2157.595729</td>\n",
              "    </tr>\n",
              "    <tr>\n",
              "      <th>258</th>\n",
              "      <td>2390.75</td>\n",
              "      <td>2140.325529</td>\n",
              "    </tr>\n",
              "  </tbody>\n",
              "</table>\n",
              "<p>259 rows × 2 columns</p>\n",
              "</div>\n",
              "      <button class=\"colab-df-convert\" onclick=\"convertToInteractive('df-9878cdbb-56b4-4d73-b971-9a996d64dcbb')\"\n",
              "              title=\"Convert this dataframe to an interactive table.\"\n",
              "              style=\"display:none;\">\n",
              "        \n",
              "  <svg xmlns=\"http://www.w3.org/2000/svg\" height=\"24px\"viewBox=\"0 0 24 24\"\n",
              "       width=\"24px\">\n",
              "    <path d=\"M0 0h24v24H0V0z\" fill=\"none\"/>\n",
              "    <path d=\"M18.56 5.44l.94 2.06.94-2.06 2.06-.94-2.06-.94-.94-2.06-.94 2.06-2.06.94zm-11 1L8.5 8.5l.94-2.06 2.06-.94-2.06-.94L8.5 2.5l-.94 2.06-2.06.94zm10 10l.94 2.06.94-2.06 2.06-.94-2.06-.94-.94-2.06-.94 2.06-2.06.94z\"/><path d=\"M17.41 7.96l-1.37-1.37c-.4-.4-.92-.59-1.43-.59-.52 0-1.04.2-1.43.59L10.3 9.45l-7.72 7.72c-.78.78-.78 2.05 0 2.83L4 21.41c.39.39.9.59 1.41.59.51 0 1.02-.2 1.41-.59l7.78-7.78 2.81-2.81c.8-.78.8-2.07 0-2.86zM5.41 20L4 18.59l7.72-7.72 1.47 1.35L5.41 20z\"/>\n",
              "  </svg>\n",
              "      </button>\n",
              "      \n",
              "  <style>\n",
              "    .colab-df-container {\n",
              "      display:flex;\n",
              "      flex-wrap:wrap;\n",
              "      gap: 12px;\n",
              "    }\n",
              "\n",
              "    .colab-df-convert {\n",
              "      background-color: #E8F0FE;\n",
              "      border: none;\n",
              "      border-radius: 50%;\n",
              "      cursor: pointer;\n",
              "      display: none;\n",
              "      fill: #1967D2;\n",
              "      height: 32px;\n",
              "      padding: 0 0 0 0;\n",
              "      width: 32px;\n",
              "    }\n",
              "\n",
              "    .colab-df-convert:hover {\n",
              "      background-color: #E2EBFA;\n",
              "      box-shadow: 0px 1px 2px rgba(60, 64, 67, 0.3), 0px 1px 3px 1px rgba(60, 64, 67, 0.15);\n",
              "      fill: #174EA6;\n",
              "    }\n",
              "\n",
              "    [theme=dark] .colab-df-convert {\n",
              "      background-color: #3B4455;\n",
              "      fill: #D2E3FC;\n",
              "    }\n",
              "\n",
              "    [theme=dark] .colab-df-convert:hover {\n",
              "      background-color: #434B5C;\n",
              "      box-shadow: 0px 1px 3px 1px rgba(0, 0, 0, 0.15);\n",
              "      filter: drop-shadow(0px 1px 2px rgba(0, 0, 0, 0.3));\n",
              "      fill: #FFFFFF;\n",
              "    }\n",
              "  </style>\n",
              "\n",
              "      <script>\n",
              "        const buttonEl =\n",
              "          document.querySelector('#df-9878cdbb-56b4-4d73-b971-9a996d64dcbb button.colab-df-convert');\n",
              "        buttonEl.style.display =\n",
              "          google.colab.kernel.accessAllowed ? 'block' : 'none';\n",
              "\n",
              "        async function convertToInteractive(key) {\n",
              "          const element = document.querySelector('#df-9878cdbb-56b4-4d73-b971-9a996d64dcbb');\n",
              "          const dataTable =\n",
              "            await google.colab.kernel.invokeFunction('convertToInteractive',\n",
              "                                                     [key], {});\n",
              "          if (!dataTable) return;\n",
              "\n",
              "          const docLinkHtml = 'Like what you see? Visit the ' +\n",
              "            '<a target=\"_blank\" href=https://colab.research.google.com/notebooks/data_table.ipynb>data table notebook</a>'\n",
              "            + ' to learn more about interactive tables.';\n",
              "          element.innerHTML = '';\n",
              "          dataTable['output_type'] = 'display_data';\n",
              "          await google.colab.output.renderOutput(dataTable, element);\n",
              "          const docLink = document.createElement('div');\n",
              "          docLink.innerHTML = docLinkHtml;\n",
              "          element.appendChild(docLink);\n",
              "        }\n",
              "      </script>\n",
              "    </div>\n",
              "  </div>\n",
              "  "
            ]
          },
          "metadata": {},
          "execution_count": 71
        }
      ]
    },
    {
      "cell_type": "code",
      "source": [
        "plt.plot(df5)"
      ],
      "metadata": {
        "colab": {
          "base_uri": "https://localhost:8080/",
          "height": 300
        },
        "id": "yxWRZxuAGHJy",
        "outputId": "45eed463-11e1-422d-ef9c-e41bbaba7310"
      },
      "execution_count": null,
      "outputs": [
        {
          "output_type": "execute_result",
          "data": {
            "text/plain": [
              "[<matplotlib.lines.Line2D at 0x7fe840ed8ac0>,\n",
              " <matplotlib.lines.Line2D at 0x7fe840ed8c10>]"
            ]
          },
          "metadata": {},
          "execution_count": 72
        },
        {
          "output_type": "display_data",
          "data": {
            "text/plain": [
              "<Figure size 432x288 with 1 Axes>"
            ],
            "image/png": "[encoded data removed]"
          },
          "metadata": {
            "needs_background": "light"
          }
        }
      ]
    },
    {
      "cell_type": "code",
      "source": [
        "print('Mean Absolute Error:', metrics.mean_absolute_error(y_test,predicted))\n",
        "print('Root Mean Squared Error:', math.sqrt(metrics.mean_squared_error(y_test,predicted)))\n",
        "plt.figure(figsize=(10,4))"
      ],
      "metadata": {
        "id": "nVJf--YHzNw6",
        "colab": {
          "base_uri": "https://localhost:8080/",
          "height": 86
        },
        "outputId": "e8d05b36-2e20-47b2-88cf-76f6d543b984"
      },
      "execution_count": null,
      "outputs": [
        {
          "output_type": "stream",
          "name": "stdout",
          "text": [
            "Mean Absolute Error: 149.40676178727193\n",
            "Root Mean Squared Error: 248.41125285060974\n"
          ]
        },
        {
          "output_type": "execute_result",
          "data": {
            "text/plain": [
              "<Figure size 720x288 with 0 Axes>"
            ]
          },
          "metadata": {},
          "execution_count": 73
        },
        {
          "output_type": "display_data",
          "data": {
            "text/plain": [
              "<Figure size 720x288 with 0 Axes>"
            ]
          },
          "metadata": {}
        }
      ]
    },
    {
      "cell_type": "code",
      "source": [
        "graph = df5.head(15)\n",
        "graph.plot(kind='bar',figsize=(12,6))"
      ],
      "metadata": {
        "id": "8FhSeWWqzVb5",
        "colab": {
          "base_uri": "https://localhost:8080/",
          "height": 394
        },
        "outputId": "2ac0124a-fb1e-418e-f1a1-34777c8a6d24"
      },
      "execution_count": null,
      "outputs": [
        {
          "output_type": "execute_result",
          "data": {
            "text/plain": [
              "<matplotlib.axes._subplots.AxesSubplot at 0x7fe840dda850>"
            ]
          },
          "metadata": {},
          "execution_count": 74
        },
        {
          "output_type": "display_data",
          "data": {
            "text/plain": [
              "<Figure size 864x432 with 1 Axes>"
            ],
            "image/png": "[encoded data removed]"
          },
          "metadata": {
            "needs_background": "light"
          }
        }
      ]
    },
    {
      "cell_type": "code",
      "source": [
        "#linear regression finall"
      ],
      "metadata": {
        "id": "ivjv1CElMVND"
      },
      "execution_count": null,
      "outputs": []
    },
    {
      "cell_type": "code",
      "source": [
        "import numpy as np   #Linear algera Library\n",
        "import pandas as pd\n",
        "import matplotlib.pyplot as plt  #to plot graphs\n",
        "import seaborn as sns  #to plot graphs\n",
        "from sklearn.linear_model import LinearRegression   #for linear regression model\n",
        "sns.set()  #setting seaborn as default\n",
        "import math\n",
        "\n",
        "import warnings\n",
        "warnings.filterwarnings('ignore')"
      ],
      "metadata": {
        "id": "mr4_--ZcdA0T"
      },
      "execution_count": null,
      "outputs": []
    },
    {
      "cell_type": "code",
      "source": [
        "data=pd.read_csv(\"TCS.csv\")   #reads the input data\n",
        "data.head()"
      ],
      "metadata": {
        "colab": {
          "base_uri": "https://localhost:8080/",
          "height": 206
        },
        "id": "eac_bnyudG2Z",
        "outputId": "51515c9a-2743-47b8-e0e2-b2c8aab785c0"
      },
      "execution_count": null,
      "outputs": [
        {
          "output_type": "execute_result",
          "data": {
            "text/plain": [
              "     Open    High     Low    Last   Close     VWAP    Volume      Turnover  \\\n",
              "0  1198.7  1198.7  979.00  985.00  987.95  1008.32  17116372  1.730000e+15   \n",
              "1   992.0   997.0  975.30  976.85  979.00   985.65   5055400  4.980000e+14   \n",
              "2   982.4   982.4  958.55  961.20  962.65   969.94   3830750  3.720000e+14   \n",
              "3   969.9   990.0  965.00  986.40  986.75   982.65   3058151  3.010000e+14   \n",
              "4   986.5   990.0  976.00  987.80  988.10   982.18   2649332  2.600000e+14   \n",
              "\n",
              "   Trades  Deliverable Volume  %Deliverble  \n",
              "0     NaN             5206360       0.3042  \n",
              "1     NaN             1294899       0.2561  \n",
              "2     NaN              976527       0.2549  \n",
              "3     NaN              701664       0.2294  \n",
              "4     NaN              695234       0.2624  "
            ],
            "text/html": [
              "\n",
              "  <div id=\"df-7c8d668b-1990-4a51-b82c-bf9a0be50cba\">\n",
              "    <div class=\"colab-df-container\">\n",
              "      <div>\n",
              "<style scoped>\n",
              "    .dataframe tbody tr th:only-of-type {\n",
              "        vertical-align: middle;\n",
              "    }\n",
              "\n",
              "    .dataframe tbody tr th {\n",
              "        vertical-align: top;\n",
              "    }\n",
              "\n",
              "    .dataframe thead th {\n",
              "        text-align: right;\n",
              "    }\n",
              "</style>\n",
              "<table border=\"1\" class=\"dataframe\">\n",
              "  <thead>\n",
              "    <tr style=\"text-align: right;\">\n",
              "      <th></th>\n",
              "      <th>Open</th>\n",
              "      <th>High</th>\n",
              "      <th>Low</th>\n",
              "      <th>Last</th>\n",
              "      <th>Close</th>\n",
              "      <th>VWAP</th>\n",
              "      <th>Volume</th>\n",
              "      <th>Turnover</th>\n",
              "      <th>Trades</th>\n",
              "      <th>Deliverable Volume</th>\n",
              "      <th>%Deliverble</th>\n",
              "    </tr>\n",
              "  </thead>\n",
              "  <tbody>\n",
              "    <tr>\n",
              "      <th>0</th>\n",
              "      <td>1198.7</td>\n",
              "      <td>1198.7</td>\n",
              "      <td>979.00</td>\n",
              "      <td>985.00</td>\n",
              "      <td>987.95</td>\n",
              "      <td>1008.32</td>\n",
              "      <td>17116372</td>\n",
              "      <td>1.730000e+15</td>\n",
              "      <td>NaN</td>\n",
              "      <td>5206360</td>\n",
              "      <td>0.3042</td>\n",
              "    </tr>\n",
              "    <tr>\n",
              "      <th>1</th>\n",
              "      <td>992.0</td>\n",
              "      <td>997.0</td>\n",
              "      <td>975.30</td>\n",
              "      <td>976.85</td>\n",
              "      <td>979.00</td>\n",
              "      <td>985.65</td>\n",
              "      <td>5055400</td>\n",
              "      <td>4.980000e+14</td>\n",
              "      <td>NaN</td>\n",
              "      <td>1294899</td>\n",
              "      <td>0.2561</td>\n",
              "    </tr>\n",
              "    <tr>\n",
              "      <th>2</th>\n",
              "      <td>982.4</td>\n",
              "      <td>982.4</td>\n",
              "      <td>958.55</td>\n",
              "      <td>961.20</td>\n",
              "      <td>962.65</td>\n",
              "      <td>969.94</td>\n",
              "      <td>3830750</td>\n",
              "      <td>3.720000e+14</td>\n",
              "      <td>NaN</td>\n",
              "      <td>976527</td>\n",
              "      <td>0.2549</td>\n",
              "    </tr>\n",
              "    <tr>\n",
              "      <th>3</th>\n",
              "      <td>969.9</td>\n",
              "      <td>990.0</td>\n",
              "      <td>965.00</td>\n",
              "      <td>986.40</td>\n",
              "      <td>986.75</td>\n",
              "      <td>982.65</td>\n",
              "      <td>3058151</td>\n",
              "      <td>3.010000e+14</td>\n",
              "      <td>NaN</td>\n",
              "      <td>701664</td>\n",
              "      <td>0.2294</td>\n",
              "    </tr>\n",
              "    <tr>\n",
              "      <th>4</th>\n",
              "      <td>986.5</td>\n",
              "      <td>990.0</td>\n",
              "      <td>976.00</td>\n",
              "      <td>987.80</td>\n",
              "      <td>988.10</td>\n",
              "      <td>982.18</td>\n",
              "      <td>2649332</td>\n",
              "      <td>2.600000e+14</td>\n",
              "      <td>NaN</td>\n",
              "      <td>695234</td>\n",
              "      <td>0.2624</td>\n",
              "    </tr>\n",
              "  </tbody>\n",
              "</table>\n",
              "</div>\n",
              "      <button class=\"colab-df-convert\" onclick=\"convertToInteractive('df-7c8d668b-1990-4a51-b82c-bf9a0be50cba')\"\n",
              "              title=\"Convert this dataframe to an interactive table.\"\n",
              "              style=\"display:none;\">\n",
              "        \n",
              "  <svg xmlns=\"http://www.w3.org/2000/svg\" height=\"24px\"viewBox=\"0 0 24 24\"\n",
              "       width=\"24px\">\n",
              "    <path d=\"M0 0h24v24H0V0z\" fill=\"none\"/>\n",
              "    <path d=\"M18.56 5.44l.94 2.06.94-2.06 2.06-.94-2.06-.94-.94-2.06-.94 2.06-2.06.94zm-11 1L8.5 8.5l.94-2.06 2.06-.94-2.06-.94L8.5 2.5l-.94 2.06-2.06.94zm10 10l.94 2.06.94-2.06 2.06-.94-2.06-.94-.94-2.06-.94 2.06-2.06.94z\"/><path d=\"M17.41 7.96l-1.37-1.37c-.4-.4-.92-.59-1.43-.59-.52 0-1.04.2-1.43.59L10.3 9.45l-7.72 7.72c-.78.78-.78 2.05 0 2.83L4 21.41c.39.39.9.59 1.41.59.51 0 1.02-.2 1.41-.59l7.78-7.78 2.81-2.81c.8-.78.8-2.07 0-2.86zM5.41 20L4 18.59l7.72-7.72 1.47 1.35L5.41 20z\"/>\n",
              "  </svg>\n",
              "      </button>\n",
              "      \n",
              "  <style>\n",
              "    .colab-df-container {\n",
              "      display:flex;\n",
              "      flex-wrap:wrap;\n",
              "      gap: 12px;\n",
              "    }\n",
              "\n",
              "    .colab-df-convert {\n",
              "      background-color: #E8F0FE;\n",
              "      border: none;\n",
              "      border-radius: 50%;\n",
              "      cursor: pointer;\n",
              "      display: none;\n",
              "      fill: #1967D2;\n",
              "      height: 32px;\n",
              "      padding: 0 0 0 0;\n",
              "      width: 32px;\n",
              "    }\n",
              "\n",
              "    .colab-df-convert:hover {\n",
              "      background-color: #E2EBFA;\n",
              "      box-shadow: 0px 1px 2px rgba(60, 64, 67, 0.3), 0px 1px 3px 1px rgba(60, 64, 67, 0.15);\n",
              "      fill: #174EA6;\n",
              "    }\n",
              "\n",
              "    [theme=dark] .colab-df-convert {\n",
              "      background-color: #3B4455;\n",
              "      fill: #D2E3FC;\n",
              "    }\n",
              "\n",
              "    [theme=dark] .colab-df-convert:hover {\n",
              "      background-color: #434B5C;\n",
              "      box-shadow: 0px 1px 3px 1px rgba(0, 0, 0, 0.15);\n",
              "      filter: drop-shadow(0px 1px 2px rgba(0, 0, 0, 0.3));\n",
              "      fill: #FFFFFF;\n",
              "    }\n",
              "  </style>\n",
              "\n",
              "      <script>\n",
              "        const buttonEl =\n",
              "          document.querySelector('#df-7c8d668b-1990-4a51-b82c-bf9a0be50cba button.colab-df-convert');\n",
              "        buttonEl.style.display =\n",
              "          google.colab.kernel.accessAllowed ? 'block' : 'none';\n",
              "\n",
              "        async function convertToInteractive(key) {\n",
              "          const element = document.querySelector('#df-7c8d668b-1990-4a51-b82c-bf9a0be50cba');\n",
              "          const dataTable =\n",
              "            await google.colab.kernel.invokeFunction('convertToInteractive',\n",
              "                                                     [key], {});\n",
              "          if (!dataTable) return;\n",
              "\n",
              "          const docLinkHtml = 'Like what you see? Visit the ' +\n",
              "            '<a target=\"_blank\" href=https://colab.research.google.com/notebooks/data_table.ipynb>data table notebook</a>'\n",
              "            + ' to learn more about interactive tables.';\n",
              "          element.innerHTML = '';\n",
              "          dataTable['output_type'] = 'display_data';\n",
              "          await google.colab.output.renderOutput(dataTable, element);\n",
              "          const docLink = document.createElement('div');\n",
              "          docLink.innerHTML = docLinkHtml;\n",
              "          element.appendChild(docLink);\n",
              "        }\n",
              "      </script>\n",
              "    </div>\n",
              "  </div>\n",
              "  "
            ]
          },
          "metadata": {},
          "execution_count": 68
        }
      ]
    },
    {
      "cell_type": "code",
      "source": [
        "data.info()"
      ],
      "metadata": {
        "colab": {
          "base_uri": "https://localhost:8080/"
        },
        "id": "YczdcHfQdMw9",
        "outputId": "f79a3107-270e-4789-a200-ffb4cf30e8bb"
      },
      "execution_count": null,
      "outputs": [
        {
          "output_type": "stream",
          "name": "stdout",
          "text": [
            "<class 'pandas.core.frame.DataFrame'>\n",
            "RangeIndex: 4139 entries, 0 to 4138\n",
            "Data columns (total 11 columns):\n",
            " #   Column              Non-Null Count  Dtype  \n",
            "---  ------              --------------  -----  \n",
            " 0   Open                4139 non-null   float64\n",
            " 1   High                4139 non-null   float64\n",
            " 2   Low                 4139 non-null   float64\n",
            " 3   Last                4139 non-null   float64\n",
            " 4   Close               4139 non-null   float64\n",
            " 5   VWAP                4139 non-null   float64\n",
            " 6   Volume              4139 non-null   int64  \n",
            " 7   Turnover            4139 non-null   float64\n",
            " 8   Trades              2456 non-null   float64\n",
            " 9   Deliverable Volume  4139 non-null   int64  \n",
            " 10  %Deliverble         4139 non-null   float64\n",
            "dtypes: float64(9), int64(2)\n",
            "memory usage: 355.8 KB\n"
          ]
        }
      ]
    },
    {
      "cell_type": "code",
      "source": [
        "data.describe(include ='all')"
      ],
      "metadata": {
        "colab": {
          "base_uri": "https://localhost:8080/",
          "height": 381
        },
        "id": "xxJtF-RDdQyd",
        "outputId": "63651d96-b4d2-4e3b-a64e-9d1a3ca48ad7"
      },
      "execution_count": null,
      "outputs": [
        {
          "output_type": "execute_result",
          "data": {
            "text/plain": [
              "              Open         High          Low         Last        Close  \\\n",
              "count  4139.000000  4139.000000  4139.000000  4139.000000  4139.000000   \n",
              "mean   1695.594081  1715.882302  1673.585709  1694.310184  1694.371612   \n",
              "std     722.978228   728.450096   717.780248   723.177934   723.061025   \n",
              "min     360.000000   377.750000   358.000000   365.700000   366.650000   \n",
              "25%    1105.525000  1120.275000  1088.575000  1107.000000  1106.500000   \n",
              "50%    1625.000000  1655.000000  1610.000000  1630.050000  1636.350000   \n",
              "75%    2321.800000  2345.000000  2301.300000  2325.000000  2326.850000   \n",
              "max    3625.000000  3674.800000  3572.550000  3610.750000  3603.700000   \n",
              "\n",
              "              VWAP        Volume      Turnover         Trades  \\\n",
              "count  4139.000000  4.139000e+03  4.139000e+03    2456.000000   \n",
              "mean   1694.618120  1.676762e+06  2.951922e+14   85502.709283   \n",
              "std     723.144157  1.607879e+06  3.850321e+14   56031.488595   \n",
              "min     368.400000  1.834500e+04  1.370000e+12    1219.000000   \n",
              "25%    1105.750000  7.884775e+05  1.050000e+14   46749.500000   \n",
              "50%    1629.420000  1.227748e+06  1.820000e+14   68901.000000   \n",
              "75%    2319.895000  2.081120e+06  3.455000e+14  110630.250000   \n",
              "max    3633.110000  4.403358e+07  1.270000e+16  542541.000000   \n",
              "\n",
              "       Deliverable Volume  %Deliverble  \n",
              "count        4.139000e+03  4139.000000  \n",
              "mean         8.952206e+05     0.549429  \n",
              "std          8.637908e+05     0.132867  \n",
              "min          7.765000e+03     0.121400  \n",
              "25%          4.334740e+05     0.459100  \n",
              "50%          7.052640e+05     0.553800  \n",
              "75%          1.136132e+06     0.646850  \n",
              "max          3.155626e+07     0.962200  "
            ],
            "text/html": [
              "\n",
              "  <div id=\"df-f14745bf-3fd4-407d-ad69-c0ba45c7fee5\">\n",
              "    <div class=\"colab-df-container\">\n",
              "      <div>\n",
              "<style scoped>\n",
              "    .dataframe tbody tr th:only-of-type {\n",
              "        vertical-align: middle;\n",
              "    }\n",
              "\n",
              "    .dataframe tbody tr th {\n",
              "        vertical-align: top;\n",
              "    }\n",
              "\n",
              "    .dataframe thead th {\n",
              "        text-align: right;\n",
              "    }\n",
              "</style>\n",
              "<table border=\"1\" class=\"dataframe\">\n",
              "  <thead>\n",
              "    <tr style=\"text-align: right;\">\n",
              "      <th></th>\n",
              "      <th>Open</th>\n",
              "      <th>High</th>\n",
              "      <th>Low</th>\n",
              "      <th>Last</th>\n",
              "      <th>Close</th>\n",
              "      <th>VWAP</th>\n",
              "      <th>Volume</th>\n",
              "      <th>Turnover</th>\n",
              "      <th>Trades</th>\n",
              "      <th>Deliverable Volume</th>\n",
              "      <th>%Deliverble</th>\n",
              "    </tr>\n",
              "  </thead>\n",
              "  <tbody>\n",
              "    <tr>\n",
              "      <th>count</th>\n",
              "      <td>4139.000000</td>\n",
              "      <td>4139.000000</td>\n",
              "      <td>4139.000000</td>\n",
              "      <td>4139.000000</td>\n",
              "      <td>4139.000000</td>\n",
              "      <td>4139.000000</td>\n",
              "      <td>4.139000e+03</td>\n",
              "      <td>4.139000e+03</td>\n",
              "      <td>2456.000000</td>\n",
              "      <td>4.139000e+03</td>\n",
              "      <td>4139.000000</td>\n",
              "    </tr>\n",
              "    <tr>\n",
              "      <th>mean</th>\n",
              "      <td>1695.594081</td>\n",
              "      <td>1715.882302</td>\n",
              "      <td>1673.585709</td>\n",
              "      <td>1694.310184</td>\n",
              "      <td>1694.371612</td>\n",
              "      <td>1694.618120</td>\n",
              "      <td>1.676762e+06</td>\n",
              "      <td>2.951922e+14</td>\n",
              "      <td>85502.709283</td>\n",
              "      <td>8.952206e+05</td>\n",
              "      <td>0.549429</td>\n",
              "    </tr>\n",
              "    <tr>\n",
              "      <th>std</th>\n",
              "      <td>722.978228</td>\n",
              "      <td>728.450096</td>\n",
              "      <td>717.780248</td>\n",
              "      <td>723.177934</td>\n",
              "      <td>723.061025</td>\n",
              "      <td>723.144157</td>\n",
              "      <td>1.607879e+06</td>\n",
              "      <td>3.850321e+14</td>\n",
              "      <td>56031.488595</td>\n",
              "      <td>8.637908e+05</td>\n",
              "      <td>0.132867</td>\n",
              "    </tr>\n",
              "    <tr>\n",
              "      <th>min</th>\n",
              "      <td>360.000000</td>\n",
              "      <td>377.750000</td>\n",
              "      <td>358.000000</td>\n",
              "      <td>365.700000</td>\n",
              "      <td>366.650000</td>\n",
              "      <td>368.400000</td>\n",
              "      <td>1.834500e+04</td>\n",
              "      <td>1.370000e+12</td>\n",
              "      <td>1219.000000</td>\n",
              "      <td>7.765000e+03</td>\n",
              "      <td>0.121400</td>\n",
              "    </tr>\n",
              "    <tr>\n",
              "      <th>25%</th>\n",
              "      <td>1105.525000</td>\n",
              "      <td>1120.275000</td>\n",
              "      <td>1088.575000</td>\n",
              "      <td>1107.000000</td>\n",
              "      <td>1106.500000</td>\n",
              "      <td>1105.750000</td>\n",
              "      <td>7.884775e+05</td>\n",
              "      <td>1.050000e+14</td>\n",
              "      <td>46749.500000</td>\n",
              "      <td>4.334740e+05</td>\n",
              "      <td>0.459100</td>\n",
              "    </tr>\n",
              "    <tr>\n",
              "      <th>50%</th>\n",
              "      <td>1625.000000</td>\n",
              "      <td>1655.000000</td>\n",
              "      <td>1610.000000</td>\n",
              "      <td>1630.050000</td>\n",
              "      <td>1636.350000</td>\n",
              "      <td>1629.420000</td>\n",
              "      <td>1.227748e+06</td>\n",
              "      <td>1.820000e+14</td>\n",
              "      <td>68901.000000</td>\n",
              "      <td>7.052640e+05</td>\n",
              "      <td>0.553800</td>\n",
              "    </tr>\n",
              "    <tr>\n",
              "      <th>75%</th>\n",
              "      <td>2321.800000</td>\n",
              "      <td>2345.000000</td>\n",
              "      <td>2301.300000</td>\n",
              "      <td>2325.000000</td>\n",
              "      <td>2326.850000</td>\n",
              "      <td>2319.895000</td>\n",
              "      <td>2.081120e+06</td>\n",
              "      <td>3.455000e+14</td>\n",
              "      <td>110630.250000</td>\n",
              "      <td>1.136132e+06</td>\n",
              "      <td>0.646850</td>\n",
              "    </tr>\n",
              "    <tr>\n",
              "      <th>max</th>\n",
              "      <td>3625.000000</td>\n",
              "      <td>3674.800000</td>\n",
              "      <td>3572.550000</td>\n",
              "      <td>3610.750000</td>\n",
              "      <td>3603.700000</td>\n",
              "      <td>3633.110000</td>\n",
              "      <td>4.403358e+07</td>\n",
              "      <td>1.270000e+16</td>\n",
              "      <td>542541.000000</td>\n",
              "      <td>3.155626e+07</td>\n",
              "      <td>0.962200</td>\n",
              "    </tr>\n",
              "  </tbody>\n",
              "</table>\n",
              "</div>\n",
              "      <button class=\"colab-df-convert\" onclick=\"convertToInteractive('df-f14745bf-3fd4-407d-ad69-c0ba45c7fee5')\"\n",
              "              title=\"Convert this dataframe to an interactive table.\"\n",
              "              style=\"display:none;\">\n",
              "        \n",
              "  <svg xmlns=\"http://www.w3.org/2000/svg\" height=\"24px\"viewBox=\"0 0 24 24\"\n",
              "       width=\"24px\">\n",
              "    <path d=\"M0 0h24v24H0V0z\" fill=\"none\"/>\n",
              "    <path d=\"M18.56 5.44l.94 2.06.94-2.06 2.06-.94-2.06-.94-.94-2.06-.94 2.06-2.06.94zm-11 1L8.5 8.5l.94-2.06 2.06-.94-2.06-.94L8.5 2.5l-.94 2.06-2.06.94zm10 10l.94 2.06.94-2.06 2.06-.94-2.06-.94-.94-2.06-.94 2.06-2.06.94z\"/><path d=\"M17.41 7.96l-1.37-1.37c-.4-.4-.92-.59-1.43-.59-.52 0-1.04.2-1.43.59L10.3 9.45l-7.72 7.72c-.78.78-.78 2.05 0 2.83L4 21.41c.39.39.9.59 1.41.59.51 0 1.02-.2 1.41-.59l7.78-7.78 2.81-2.81c.8-.78.8-2.07 0-2.86zM5.41 20L4 18.59l7.72-7.72 1.47 1.35L5.41 20z\"/>\n",
              "  </svg>\n",
              "      </button>\n",
              "      \n",
              "  <style>\n",
              "    .colab-df-container {\n",
              "      display:flex;\n",
              "      flex-wrap:wrap;\n",
              "      gap: 12px;\n",
              "    }\n",
              "\n",
              "    .colab-df-convert {\n",
              "      background-color: #E8F0FE;\n",
              "      border: none;\n",
              "      border-radius: 50%;\n",
              "      cursor: pointer;\n",
              "      display: none;\n",
              "      fill: #1967D2;\n",
              "      height: 32px;\n",
              "      padding: 0 0 0 0;\n",
              "      width: 32px;\n",
              "    }\n",
              "\n",
              "    .colab-df-convert:hover {\n",
              "      background-color: #E2EBFA;\n",
              "      box-shadow: 0px 1px 2px rgba(60, 64, 67, 0.3), 0px 1px 3px 1px rgba(60, 64, 67, 0.15);\n",
              "      fill: #174EA6;\n",
              "    }\n",
              "\n",
              "    [theme=dark] .colab-df-convert {\n",
              "      background-color: #3B4455;\n",
              "      fill: #D2E3FC;\n",
              "    }\n",
              "\n",
              "    [theme=dark] .colab-df-convert:hover {\n",
              "      background-color: #434B5C;\n",
              "      box-shadow: 0px 1px 3px 1px rgba(0, 0, 0, 0.15);\n",
              "      filter: drop-shadow(0px 1px 2px rgba(0, 0, 0, 0.3));\n",
              "      fill: #FFFFFF;\n",
              "    }\n",
              "  </style>\n",
              "\n",
              "      <script>\n",
              "        const buttonEl =\n",
              "          document.querySelector('#df-f14745bf-3fd4-407d-ad69-c0ba45c7fee5 button.colab-df-convert');\n",
              "        buttonEl.style.display =\n",
              "          google.colab.kernel.accessAllowed ? 'block' : 'none';\n",
              "\n",
              "        async function convertToInteractive(key) {\n",
              "          const element = document.querySelector('#df-f14745bf-3fd4-407d-ad69-c0ba45c7fee5');\n",
              "          const dataTable =\n",
              "            await google.colab.kernel.invokeFunction('convertToInteractive',\n",
              "                                                     [key], {});\n",
              "          if (!dataTable) return;\n",
              "\n",
              "          const docLinkHtml = 'Like what you see? Visit the ' +\n",
              "            '<a target=\"_blank\" href=https://colab.research.google.com/notebooks/data_table.ipynb>data table notebook</a>'\n",
              "            + ' to learn more about interactive tables.';\n",
              "          element.innerHTML = '';\n",
              "          dataTable['output_type'] = 'display_data';\n",
              "          await google.colab.output.renderOutput(dataTable, element);\n",
              "          const docLink = document.createElement('div');\n",
              "          docLink.innerHTML = docLinkHtml;\n",
              "          element.appendChild(docLink);\n",
              "        }\n",
              "      </script>\n",
              "    </div>\n",
              "  </div>\n",
              "  "
            ]
          },
          "metadata": {},
          "execution_count": 70
        }
      ]
    },
    {
      "cell_type": "code",
      "source": [
        "data.isnull().sum() # No null values"
      ],
      "metadata": {
        "colab": {
          "base_uri": "https://localhost:8080/"
        },
        "id": "mLWTkBPqdTIx",
        "outputId": "d1f3658f-f18e-42f0-a58c-3e62963b343e"
      },
      "execution_count": null,
      "outputs": [
        {
          "output_type": "execute_result",
          "data": {
            "text/plain": [
              "Open                     0\n",
              "High                     0\n",
              "Low                      0\n",
              "Last                     0\n",
              "Close                    0\n",
              "VWAP                     0\n",
              "Volume                   0\n",
              "Turnover                 0\n",
              "Trades                1683\n",
              "Deliverable Volume       0\n",
              "%Deliverble              0\n",
              "dtype: int64"
            ]
          },
          "metadata": {},
          "execution_count": 71
        }
      ]
    },
    {
      "cell_type": "code",
      "source": [
        "data.head()"
      ],
      "metadata": {
        "colab": {
          "base_uri": "https://localhost:8080/",
          "height": 206
        },
        "id": "-7e-BKTLdV75",
        "outputId": "c4682d61-b9e0-4813-f92c-688407e6eafe"
      },
      "execution_count": null,
      "outputs": [
        {
          "output_type": "execute_result",
          "data": {
            "text/plain": [
              "     Open    High     Low    Last   Close     VWAP    Volume      Turnover  \\\n",
              "0  1198.7  1198.7  979.00  985.00  987.95  1008.32  17116372  1.730000e+15   \n",
              "1   992.0   997.0  975.30  976.85  979.00   985.65   5055400  4.980000e+14   \n",
              "2   982.4   982.4  958.55  961.20  962.65   969.94   3830750  3.720000e+14   \n",
              "3   969.9   990.0  965.00  986.40  986.75   982.65   3058151  3.010000e+14   \n",
              "4   986.5   990.0  976.00  987.80  988.10   982.18   2649332  2.600000e+14   \n",
              "\n",
              "   Trades  Deliverable Volume  %Deliverble  \n",
              "0     NaN             5206360       0.3042  \n",
              "1     NaN             1294899       0.2561  \n",
              "2     NaN              976527       0.2549  \n",
              "3     NaN              701664       0.2294  \n",
              "4     NaN              695234       0.2624  "
            ],
            "text/html": [
              "\n",
              "  <div id=\"df-39111ee5-1f84-437b-844d-278d5ba592d5\">\n",
              "    <div class=\"colab-df-container\">\n",
              "      <div>\n",
              "<style scoped>\n",
              "    .dataframe tbody tr th:only-of-type {\n",
              "        vertical-align: middle;\n",
              "    }\n",
              "\n",
              "    .dataframe tbody tr th {\n",
              "        vertical-align: top;\n",
              "    }\n",
              "\n",
              "    .dataframe thead th {\n",
              "        text-align: right;\n",
              "    }\n",
              "</style>\n",
              "<table border=\"1\" class=\"dataframe\">\n",
              "  <thead>\n",
              "    <tr style=\"text-align: right;\">\n",
              "      <th></th>\n",
              "      <th>Open</th>\n",
              "      <th>High</th>\n",
              "      <th>Low</th>\n",
              "      <th>Last</th>\n",
              "      <th>Close</th>\n",
              "      <th>VWAP</th>\n",
              "      <th>Volume</th>\n",
              "      <th>Turnover</th>\n",
              "      <th>Trades</th>\n",
              "      <th>Deliverable Volume</th>\n",
              "      <th>%Deliverble</th>\n",
              "    </tr>\n",
              "  </thead>\n",
              "  <tbody>\n",
              "    <tr>\n",
              "      <th>0</th>\n",
              "      <td>1198.7</td>\n",
              "      <td>1198.7</td>\n",
              "      <td>979.00</td>\n",
              "      <td>985.00</td>\n",
              "      <td>987.95</td>\n",
              "      <td>1008.32</td>\n",
              "      <td>17116372</td>\n",
              "      <td>1.730000e+15</td>\n",
              "      <td>NaN</td>\n",
              "      <td>5206360</td>\n",
              "      <td>0.3042</td>\n",
              "    </tr>\n",
              "    <tr>\n",
              "      <th>1</th>\n",
              "      <td>992.0</td>\n",
              "      <td>997.0</td>\n",
              "      <td>975.30</td>\n",
              "      <td>976.85</td>\n",
              "      <td>979.00</td>\n",
              "      <td>985.65</td>\n",
              "      <td>5055400</td>\n",
              "      <td>4.980000e+14</td>\n",
              "      <td>NaN</td>\n",
              "      <td>1294899</td>\n",
              "      <td>0.2561</td>\n",
              "    </tr>\n",
              "    <tr>\n",
              "      <th>2</th>\n",
              "      <td>982.4</td>\n",
              "      <td>982.4</td>\n",
              "      <td>958.55</td>\n",
              "      <td>961.20</td>\n",
              "      <td>962.65</td>\n",
              "      <td>969.94</td>\n",
              "      <td>3830750</td>\n",
              "      <td>3.720000e+14</td>\n",
              "      <td>NaN</td>\n",
              "      <td>976527</td>\n",
              "      <td>0.2549</td>\n",
              "    </tr>\n",
              "    <tr>\n",
              "      <th>3</th>\n",
              "      <td>969.9</td>\n",
              "      <td>990.0</td>\n",
              "      <td>965.00</td>\n",
              "      <td>986.40</td>\n",
              "      <td>986.75</td>\n",
              "      <td>982.65</td>\n",
              "      <td>3058151</td>\n",
              "      <td>3.010000e+14</td>\n",
              "      <td>NaN</td>\n",
              "      <td>701664</td>\n",
              "      <td>0.2294</td>\n",
              "    </tr>\n",
              "    <tr>\n",
              "      <th>4</th>\n",
              "      <td>986.5</td>\n",
              "      <td>990.0</td>\n",
              "      <td>976.00</td>\n",
              "      <td>987.80</td>\n",
              "      <td>988.10</td>\n",
              "      <td>982.18</td>\n",
              "      <td>2649332</td>\n",
              "      <td>2.600000e+14</td>\n",
              "      <td>NaN</td>\n",
              "      <td>695234</td>\n",
              "      <td>0.2624</td>\n",
              "    </tr>\n",
              "  </tbody>\n",
              "</table>\n",
              "</div>\n",
              "      <button class=\"colab-df-convert\" onclick=\"convertToInteractive('df-39111ee5-1f84-437b-844d-278d5ba592d5')\"\n",
              "              title=\"Convert this dataframe to an interactive table.\"\n",
              "              style=\"display:none;\">\n",
              "        \n",
              "  <svg xmlns=\"http://www.w3.org/2000/svg\" height=\"24px\"viewBox=\"0 0 24 24\"\n",
              "       width=\"24px\">\n",
              "    <path d=\"M0 0h24v24H0V0z\" fill=\"none\"/>\n",
              "    <path d=\"M18.56 5.44l.94 2.06.94-2.06 2.06-.94-2.06-.94-.94-2.06-.94 2.06-2.06.94zm-11 1L8.5 8.5l.94-2.06 2.06-.94-2.06-.94L8.5 2.5l-.94 2.06-2.06.94zm10 10l.94 2.06.94-2.06 2.06-.94-2.06-.94-.94-2.06-.94 2.06-2.06.94z\"/><path d=\"M17.41 7.96l-1.37-1.37c-.4-.4-.92-.59-1.43-.59-.52 0-1.04.2-1.43.59L10.3 9.45l-7.72 7.72c-.78.78-.78 2.05 0 2.83L4 21.41c.39.39.9.59 1.41.59.51 0 1.02-.2 1.41-.59l7.78-7.78 2.81-2.81c.8-.78.8-2.07 0-2.86zM5.41 20L4 18.59l7.72-7.72 1.47 1.35L5.41 20z\"/>\n",
              "  </svg>\n",
              "      </button>\n",
              "      \n",
              "  <style>\n",
              "    .colab-df-container {\n",
              "      display:flex;\n",
              "      flex-wrap:wrap;\n",
              "      gap: 12px;\n",
              "    }\n",
              "\n",
              "    .colab-df-convert {\n",
              "      background-color: #E8F0FE;\n",
              "      border: none;\n",
              "      border-radius: 50%;\n",
              "      cursor: pointer;\n",
              "      display: none;\n",
              "      fill: #1967D2;\n",
              "      height: 32px;\n",
              "      padding: 0 0 0 0;\n",
              "      width: 32px;\n",
              "    }\n",
              "\n",
              "    .colab-df-convert:hover {\n",
              "      background-color: #E2EBFA;\n",
              "      box-shadow: 0px 1px 2px rgba(60, 64, 67, 0.3), 0px 1px 3px 1px rgba(60, 64, 67, 0.15);\n",
              "      fill: #174EA6;\n",
              "    }\n",
              "\n",
              "    [theme=dark] .colab-df-convert {\n",
              "      background-color: #3B4455;\n",
              "      fill: #D2E3FC;\n",
              "    }\n",
              "\n",
              "    [theme=dark] .colab-df-convert:hover {\n",
              "      background-color: #434B5C;\n",
              "      box-shadow: 0px 1px 3px 1px rgba(0, 0, 0, 0.15);\n",
              "      filter: drop-shadow(0px 1px 2px rgba(0, 0, 0, 0.3));\n",
              "      fill: #FFFFFF;\n",
              "    }\n",
              "  </style>\n",
              "\n",
              "      <script>\n",
              "        const buttonEl =\n",
              "          document.querySelector('#df-39111ee5-1f84-437b-844d-278d5ba592d5 button.colab-df-convert');\n",
              "        buttonEl.style.display =\n",
              "          google.colab.kernel.accessAllowed ? 'block' : 'none';\n",
              "\n",
              "        async function convertToInteractive(key) {\n",
              "          const element = document.querySelector('#df-39111ee5-1f84-437b-844d-278d5ba592d5');\n",
              "          const dataTable =\n",
              "            await google.colab.kernel.invokeFunction('convertToInteractive',\n",
              "                                                     [key], {});\n",
              "          if (!dataTable) return;\n",
              "\n",
              "          const docLinkHtml = 'Like what you see? Visit the ' +\n",
              "            '<a target=\"_blank\" href=https://colab.research.google.com/notebooks/data_table.ipynb>data table notebook</a>'\n",
              "            + ' to learn more about interactive tables.';\n",
              "          element.innerHTML = '';\n",
              "          dataTable['output_type'] = 'display_data';\n",
              "          await google.colab.output.renderOutput(dataTable, element);\n",
              "          const docLink = document.createElement('div');\n",
              "          docLink.innerHTML = docLinkHtml;\n",
              "          element.appendChild(docLink);\n",
              "        }\n",
              "      </script>\n",
              "    </div>\n",
              "  </div>\n",
              "  "
            ]
          },
          "metadata": {},
          "execution_count": 72
        }
      ]
    },
    {
      "cell_type": "code",
      "source": [
        "data['Trades'].dropna()"
      ],
      "metadata": {
        "colab": {
          "base_uri": "https://localhost:8080/"
        },
        "id": "uJ4XO9hvrgM6",
        "outputId": "be463f1a-1e20-4b6d-e7c1-b29c626fb4fe"
      },
      "execution_count": null,
      "outputs": [
        {
          "output_type": "execute_result",
          "data": {
            "text/plain": [
              "1683     24427.0\n",
              "1684     31879.0\n",
              "1685     21179.0\n",
              "1686     20965.0\n",
              "1687     26487.0\n",
              "          ...   \n",
              "4134     87012.0\n",
              "4135     97077.0\n",
              "4136     76017.0\n",
              "4137     98275.0\n",
              "4138    157829.0\n",
              "Name: Trades, Length: 2456, dtype: float64"
            ]
          },
          "metadata": {},
          "execution_count": 77
        }
      ]
    },
    {
      "cell_type": "code",
      "source": [
        "data.head()"
      ],
      "metadata": {
        "colab": {
          "base_uri": "https://localhost:8080/",
          "height": 206
        },
        "id": "f04nPdT1rlA4",
        "outputId": "1c9be824-fe25-457d-db8a-e38b38625553"
      },
      "execution_count": null,
      "outputs": [
        {
          "output_type": "execute_result",
          "data": {
            "text/plain": [
              "     Open    High     Low    Last   Close     VWAP    Volume      Turnover  \\\n",
              "0  1198.7  1198.7  979.00  985.00  987.95  1008.32  17116372  1.730000e+15   \n",
              "1   992.0   997.0  975.30  976.85  979.00   985.65   5055400  4.980000e+14   \n",
              "2   982.4   982.4  958.55  961.20  962.65   969.94   3830750  3.720000e+14   \n",
              "3   969.9   990.0  965.00  986.40  986.75   982.65   3058151  3.010000e+14   \n",
              "4   986.5   990.0  976.00  987.80  988.10   982.18   2649332  2.600000e+14   \n",
              "\n",
              "   Trades  Deliverable Volume  %Deliverble  \n",
              "0     NaN             5206360       0.3042  \n",
              "1     NaN             1294899       0.2561  \n",
              "2     NaN              976527       0.2549  \n",
              "3     NaN              701664       0.2294  \n",
              "4     NaN              695234       0.2624  "
            ],
            "text/html": [
              "\n",
              "  <div id=\"df-8e4d9ecc-5874-4d8a-9d8d-2b7933869d7d\">\n",
              "    <div class=\"colab-df-container\">\n",
              "      <div>\n",
              "<style scoped>\n",
              "    .dataframe tbody tr th:only-of-type {\n",
              "        vertical-align: middle;\n",
              "    }\n",
              "\n",
              "    .dataframe tbody tr th {\n",
              "        vertical-align: top;\n",
              "    }\n",
              "\n",
              "    .dataframe thead th {\n",
              "        text-align: right;\n",
              "    }\n",
              "</style>\n",
              "<table border=\"1\" class=\"dataframe\">\n",
              "  <thead>\n",
              "    <tr style=\"text-align: right;\">\n",
              "      <th></th>\n",
              "      <th>Open</th>\n",
              "      <th>High</th>\n",
              "      <th>Low</th>\n",
              "      <th>Last</th>\n",
              "      <th>Close</th>\n",
              "      <th>VWAP</th>\n",
              "      <th>Volume</th>\n",
              "      <th>Turnover</th>\n",
              "      <th>Trades</th>\n",
              "      <th>Deliverable Volume</th>\n",
              "      <th>%Deliverble</th>\n",
              "    </tr>\n",
              "  </thead>\n",
              "  <tbody>\n",
              "    <tr>\n",
              "      <th>0</th>\n",
              "      <td>1198.7</td>\n",
              "      <td>1198.7</td>\n",
              "      <td>979.00</td>\n",
              "      <td>985.00</td>\n",
              "      <td>987.95</td>\n",
              "      <td>1008.32</td>\n",
              "      <td>17116372</td>\n",
              "      <td>1.730000e+15</td>\n",
              "      <td>NaN</td>\n",
              "      <td>5206360</td>\n",
              "      <td>0.3042</td>\n",
              "    </tr>\n",
              "    <tr>\n",
              "      <th>1</th>\n",
              "      <td>992.0</td>\n",
              "      <td>997.0</td>\n",
              "      <td>975.30</td>\n",
              "      <td>976.85</td>\n",
              "      <td>979.00</td>\n",
              "      <td>985.65</td>\n",
              "      <td>5055400</td>\n",
              "      <td>4.980000e+14</td>\n",
              "      <td>NaN</td>\n",
              "      <td>1294899</td>\n",
              "      <td>0.2561</td>\n",
              "    </tr>\n",
              "    <tr>\n",
              "      <th>2</th>\n",
              "      <td>982.4</td>\n",
              "      <td>982.4</td>\n",
              "      <td>958.55</td>\n",
              "      <td>961.20</td>\n",
              "      <td>962.65</td>\n",
              "      <td>969.94</td>\n",
              "      <td>3830750</td>\n",
              "      <td>3.720000e+14</td>\n",
              "      <td>NaN</td>\n",
              "      <td>976527</td>\n",
              "      <td>0.2549</td>\n",
              "    </tr>\n",
              "    <tr>\n",
              "      <th>3</th>\n",
              "      <td>969.9</td>\n",
              "      <td>990.0</td>\n",
              "      <td>965.00</td>\n",
              "      <td>986.40</td>\n",
              "      <td>986.75</td>\n",
              "      <td>982.65</td>\n",
              "      <td>3058151</td>\n",
              "      <td>3.010000e+14</td>\n",
              "      <td>NaN</td>\n",
              "      <td>701664</td>\n",
              "      <td>0.2294</td>\n",
              "    </tr>\n",
              "    <tr>\n",
              "      <th>4</th>\n",
              "      <td>986.5</td>\n",
              "      <td>990.0</td>\n",
              "      <td>976.00</td>\n",
              "      <td>987.80</td>\n",
              "      <td>988.10</td>\n",
              "      <td>982.18</td>\n",
              "      <td>2649332</td>\n",
              "      <td>2.600000e+14</td>\n",
              "      <td>NaN</td>\n",
              "      <td>695234</td>\n",
              "      <td>0.2624</td>\n",
              "    </tr>\n",
              "  </tbody>\n",
              "</table>\n",
              "</div>\n",
              "      <button class=\"colab-df-convert\" onclick=\"convertToInteractive('df-8e4d9ecc-5874-4d8a-9d8d-2b7933869d7d')\"\n",
              "              title=\"Convert this dataframe to an interactive table.\"\n",
              "              style=\"display:none;\">\n",
              "        \n",
              "  <svg xmlns=\"http://www.w3.org/2000/svg\" height=\"24px\"viewBox=\"0 0 24 24\"\n",
              "       width=\"24px\">\n",
              "    <path d=\"M0 0h24v24H0V0z\" fill=\"none\"/>\n",
              "    <path d=\"M18.56 5.44l.94 2.06.94-2.06 2.06-.94-2.06-.94-.94-2.06-.94 2.06-2.06.94zm-11 1L8.5 8.5l.94-2.06 2.06-.94-2.06-.94L8.5 2.5l-.94 2.06-2.06.94zm10 10l.94 2.06.94-2.06 2.06-.94-2.06-.94-.94-2.06-.94 2.06-2.06.94z\"/><path d=\"M17.41 7.96l-1.37-1.37c-.4-.4-.92-.59-1.43-.59-.52 0-1.04.2-1.43.59L10.3 9.45l-7.72 7.72c-.78.78-.78 2.05 0 2.83L4 21.41c.39.39.9.59 1.41.59.51 0 1.02-.2 1.41-.59l7.78-7.78 2.81-2.81c.8-.78.8-2.07 0-2.86zM5.41 20L4 18.59l7.72-7.72 1.47 1.35L5.41 20z\"/>\n",
              "  </svg>\n",
              "      </button>\n",
              "      \n",
              "  <style>\n",
              "    .colab-df-container {\n",
              "      display:flex;\n",
              "      flex-wrap:wrap;\n",
              "      gap: 12px;\n",
              "    }\n",
              "\n",
              "    .colab-df-convert {\n",
              "      background-color: #E8F0FE;\n",
              "      border: none;\n",
              "      border-radius: 50%;\n",
              "      cursor: pointer;\n",
              "      display: none;\n",
              "      fill: #1967D2;\n",
              "      height: 32px;\n",
              "      padding: 0 0 0 0;\n",
              "      width: 32px;\n",
              "    }\n",
              "\n",
              "    .colab-df-convert:hover {\n",
              "      background-color: #E2EBFA;\n",
              "      box-shadow: 0px 1px 2px rgba(60, 64, 67, 0.3), 0px 1px 3px 1px rgba(60, 64, 67, 0.15);\n",
              "      fill: #174EA6;\n",
              "    }\n",
              "\n",
              "    [theme=dark] .colab-df-convert {\n",
              "      background-color: #3B4455;\n",
              "      fill: #D2E3FC;\n",
              "    }\n",
              "\n",
              "    [theme=dark] .colab-df-convert:hover {\n",
              "      background-color: #434B5C;\n",
              "      box-shadow: 0px 1px 3px 1px rgba(0, 0, 0, 0.15);\n",
              "      filter: drop-shadow(0px 1px 2px rgba(0, 0, 0, 0.3));\n",
              "      fill: #FFFFFF;\n",
              "    }\n",
              "  </style>\n",
              "\n",
              "      <script>\n",
              "        const buttonEl =\n",
              "          document.querySelector('#df-8e4d9ecc-5874-4d8a-9d8d-2b7933869d7d button.colab-df-convert');\n",
              "        buttonEl.style.display =\n",
              "          google.colab.kernel.accessAllowed ? 'block' : 'none';\n",
              "\n",
              "        async function convertToInteractive(key) {\n",
              "          const element = document.querySelector('#df-8e4d9ecc-5874-4d8a-9d8d-2b7933869d7d');\n",
              "          const dataTable =\n",
              "            await google.colab.kernel.invokeFunction('convertToInteractive',\n",
              "                                                     [key], {});\n",
              "          if (!dataTable) return;\n",
              "\n",
              "          const docLinkHtml = 'Like what you see? Visit the ' +\n",
              "            '<a target=\"_blank\" href=https://colab.research.google.com/notebooks/data_table.ipynb>data table notebook</a>'\n",
              "            + ' to learn more about interactive tables.';\n",
              "          element.innerHTML = '';\n",
              "          dataTable['output_type'] = 'display_data';\n",
              "          await google.colab.output.renderOutput(dataTable, element);\n",
              "          const docLink = document.createElement('div');\n",
              "          docLink.innerHTML = docLinkHtml;\n",
              "          element.appendChild(docLink);\n",
              "        }\n",
              "      </script>\n",
              "    </div>\n",
              "  </div>\n",
              "  "
            ]
          },
          "metadata": {},
          "execution_count": 78
        }
      ]
    },
    {
      "cell_type": "code",
      "source": [
        "x=data[['High','Low','Last','Open','Turnover']].values   #input\n",
        "y=data[['Close']].values"
      ],
      "metadata": {
        "id": "7ep2Gs86dYm4"
      },
      "execution_count": null,
      "outputs": []
    },
    {
      "cell_type": "code",
      "source": [
        "from sklearn.model_selection import train_test_split\n",
        "#split to train and test data\n",
        "x_train, x_test, y_train, y_test = train_test_split(x,y, test_size=0.2,random_state=0)"
      ],
      "metadata": {
        "id": "Ed75lH8HrRSg"
      },
      "execution_count": null,
      "outputs": []
    },
    {
      "cell_type": "code",
      "source": [
        "plt.plot(data)"
      ],
      "metadata": {
        "colab": {
          "base_uri": "https://localhost:8080/",
          "height": 470
        },
        "id": "za3cUpGFr2--",
        "outputId": "bf380d99-4842-4ee0-b8f2-efabaaee2aa9"
      },
      "execution_count": null,
      "outputs": [
        {
          "output_type": "execute_result",
          "data": {
            "text/plain": [
              "[<matplotlib.lines.Line2D at 0x7fa04b500f70>,\n",
              " <matplotlib.lines.Line2D at 0x7fa04b628130>,\n",
              " <matplotlib.lines.Line2D at 0x7fa04b628910>,\n",
              " <matplotlib.lines.Line2D at 0x7fa04b628c40>,\n",
              " <matplotlib.lines.Line2D at 0x7fa04b628fd0>,\n",
              " <matplotlib.lines.Line2D at 0x7fa04b6281c0>,\n",
              " <matplotlib.lines.Line2D at 0x7fa04b628160>,\n",
              " <matplotlib.lines.Line2D at 0x7fa04b6288e0>,\n",
              " <matplotlib.lines.Line2D at 0x7fa04b628be0>,\n",
              " <matplotlib.lines.Line2D at 0x7fa04b628ca0>,\n",
              " <matplotlib.lines.Line2D at 0x7fa04b500730>]"
            ]
          },
          "metadata": {},
          "execution_count": 84
        },
        {
          "output_type": "display_data",
          "data": {
            "text/plain": [
              "<Figure size 432x288 with 1 Axes>"
            ],
            "image/png": "[encoded data removed]"
          },
          "metadata": {}
        }
      ]
    },
    {
      "cell_type": "code",
      "source": [
        "plt.plot(x_train)"
      ],
      "metadata": {
        "colab": {
          "base_uri": "https://localhost:8080/",
          "height": 366
        },
        "id": "LJOXix2VsP8u",
        "outputId": "d40859c6-88ff-4d82-d614-4d347f8574a3"
      },
      "execution_count": null,
      "outputs": [
        {
          "output_type": "execute_result",
          "data": {
            "text/plain": [
              "[<matplotlib.lines.Line2D at 0x7fa04b8cb4f0>,\n",
              " <matplotlib.lines.Line2D at 0x7fa04b8cbd90>,\n",
              " <matplotlib.lines.Line2D at 0x7fa04b8cb280>,\n",
              " <matplotlib.lines.Line2D at 0x7fa04b8cba00>,\n",
              " <matplotlib.lines.Line2D at 0x7fa04b8cb7f0>]"
            ]
          },
          "metadata": {},
          "execution_count": 86
        },
        {
          "output_type": "display_data",
          "data": {
            "text/plain": [
              "<Figure size 432x288 with 1 Axes>"
            ],
            "image/png": "[encoded data removed]"
          },
          "metadata": {}
        }
      ]
    },
    {
      "cell_type": "code",
      "source": [
        "plt.plot(y_train)"
      ],
      "metadata": {
        "colab": {
          "base_uri": "https://localhost:8080/",
          "height": 285
        },
        "id": "m1xzV6YWsbTo",
        "outputId": "9097b1c2-f0c3-4552-92a1-5c5c783fd2c7"
      },
      "execution_count": null,
      "outputs": [
        {
          "output_type": "execute_result",
          "data": {
            "text/plain": [
              "[<matplotlib.lines.Line2D at 0x7fa04c52b850>]"
            ]
          },
          "metadata": {},
          "execution_count": 90
        },
        {
          "output_type": "display_data",
          "data": {
            "text/plain": [
              "<Figure size 432x288 with 1 Axes>"
            ],
            "image/png": "[encoded data removed]"
          },
          "metadata": {}
        }
      ]
    },
    {
      "cell_type": "code",
      "source": [
        "plt.plot(x_test)"
      ],
      "metadata": {
        "colab": {
          "base_uri": "https://localhost:8080/",
          "height": 366
        },
        "id": "J29qz-jmsTQ4",
        "outputId": "56258d3a-4cdc-4983-bb50-86f13b6ce29e"
      },
      "execution_count": null,
      "outputs": [
        {
          "output_type": "execute_result",
          "data": {
            "text/plain": [
              "[<matplotlib.lines.Line2D at 0x7fa04c04d490>,\n",
              " <matplotlib.lines.Line2D at 0x7fa04c04d130>,\n",
              " <matplotlib.lines.Line2D at 0x7fa04c04d880>,\n",
              " <matplotlib.lines.Line2D at 0x7fa05b66c640>,\n",
              " <matplotlib.lines.Line2D at 0x7fa05b66c5b0>]"
            ]
          },
          "metadata": {},
          "execution_count": 89
        },
        {
          "output_type": "display_data",
          "data": {
            "text/plain": [
              "<Figure size 432x288 with 1 Axes>"
            ],
            "image/png": "[encoded data removed]"
          },
          "metadata": {}
        }
      ]
    },
    {
      "cell_type": "code",
      "source": [
        "plt.plot(y_test)"
      ],
      "metadata": {
        "colab": {
          "base_uri": "https://localhost:8080/",
          "height": 285
        },
        "id": "HY_gUUmBsnw1",
        "outputId": "8235dcb4-2db8-4b5b-fe93-cc65a000888e"
      },
      "execution_count": null,
      "outputs": [
        {
          "output_type": "execute_result",
          "data": {
            "text/plain": [
              "[<matplotlib.lines.Line2D at 0x7fa046a1d9a0>]"
            ]
          },
          "metadata": {},
          "execution_count": 91
        },
        {
          "output_type": "display_data",
          "data": {
            "text/plain": [
              "<Figure size 432x288 with 1 Axes>"
            ],
            "image/png": "[encoded data removed]"
          },
          "metadata": {}
        }
      ]
    },
    {
      "cell_type": "code",
      "source": [
        "lm=LinearRegression()\n",
        "lm.fit(x_train,y_train)"
      ],
      "metadata": {
        "colab": {
          "base_uri": "https://localhost:8080/"
        },
        "id": "ljk1UmZ9rXYd",
        "outputId": "c4b53108-a266-424f-e0e5-bd3fce1dd018"
      },
      "execution_count": null,
      "outputs": [
        {
          "output_type": "execute_result",
          "data": {
            "text/plain": [
              "LinearRegression()"
            ]
          },
          "metadata": {},
          "execution_count": 81
        }
      ]
    },
    {
      "cell_type": "code",
      "source": [
        "lm.coef_"
      ],
      "metadata": {
        "colab": {
          "base_uri": "https://localhost:8080/"
        },
        "id": "6HGEuRd_rr8E",
        "outputId": "a9ba416a-61a3-4a70-fa23-dd97798a0dee"
      },
      "execution_count": null,
      "outputs": [
        {
          "output_type": "execute_result",
          "data": {
            "text/plain": [
              "array([[ 1.02616098e-01,  9.49815474e-02,  8.73273319e-01,\n",
              "        -7.10525642e-02, -3.88578059e-16]])"
            ]
          },
          "metadata": {},
          "execution_count": 82
        }
      ]
    },
    {
      "cell_type": "code",
      "source": [
        "lm.score(x_train,y_train)"
      ],
      "metadata": {
        "colab": {
          "base_uri": "https://localhost:8080/"
        },
        "id": "mOIg9oYqr1HU",
        "outputId": "54508219-2853-478a-97ef-e5b61c9d638f"
      },
      "execution_count": null,
      "outputs": [
        {
          "output_type": "execute_result",
          "data": {
            "text/plain": [
              "0.9999668823029092"
            ]
          },
          "metadata": {},
          "execution_count": 83
        }
      ]
    },
    {
      "cell_type": "code",
      "source": [
        "predictions = lm.predict(x_test)"
      ],
      "metadata": {
        "id": "S5NQ4rcFs1PB"
      },
      "execution_count": null,
      "outputs": []
    },
    {
      "cell_type": "code",
      "source": [
        "from sklearn.metrics import r2_score\n",
        "r2_score(y_test, predictions)"
      ],
      "metadata": {
        "colab": {
          "base_uri": "https://localhost:8080/"
        },
        "id": "VrqlbiYIs4du",
        "outputId": "124757f1-5f8f-49dc-bb87-44dc4e977317"
      },
      "execution_count": null,
      "outputs": [
        {
          "output_type": "execute_result",
          "data": {
            "text/plain": [
              "0.9999691414308963"
            ]
          },
          "metadata": {},
          "execution_count": 93
        }
      ]
    },
    {
      "cell_type": "code",
      "source": [
        "#load actual and predecited values side by side\n",
        "dframe=pd.DataFrame({'target':y_test.flatten(),'Predicted':predictions.flatten()})\n",
        "#flatten toget single axis of data (1 dimension only)"
      ],
      "metadata": {
        "id": "wnoCVjp3s8ZU"
      },
      "execution_count": null,
      "outputs": []
    },
    {
      "cell_type": "code",
      "source": [
        "dframe.head(15)"
      ],
      "metadata": {
        "colab": {
          "base_uri": "https://localhost:8080/",
          "height": 519
        },
        "id": "NKiUMr7Ps9jg",
        "outputId": "9ef6982f-d2d4-40fa-8c8c-9b05ee4cc85b"
      },
      "execution_count": null,
      "outputs": [
        {
          "output_type": "execute_result",
          "data": {
            "text/plain": [
              "     target    Predicted\n",
              "0    844.40   847.654779\n",
              "1   2675.25  2676.828799\n",
              "2   1165.95  1164.678967\n",
              "3   2310.35  2310.516363\n",
              "4   2488.40  2486.403897\n",
              "5   1797.15  1799.782776\n",
              "6   1676.75  1675.948929\n",
              "7    953.95   955.942064\n",
              "8   2909.30  2910.889483\n",
              "9    496.75   496.940020\n",
              "10  2329.00  2328.089065\n",
              "11  2009.95  2013.320669\n",
              "12  1480.10  1480.266736\n",
              "13  1250.25  1254.728224\n",
              "14  2420.05  2422.671379"
            ],
            "text/html": [
              "\n",
              "  <div id=\"df-874caf70-c98a-4bd9-bb18-3c88e64c142b\">\n",
              "    <div class=\"colab-df-container\">\n",
              "      <div>\n",
              "<style scoped>\n",
              "    .dataframe tbody tr th:only-of-type {\n",
              "        vertical-align: middle;\n",
              "    }\n",
              "\n",
              "    .dataframe tbody tr th {\n",
              "        vertical-align: top;\n",
              "    }\n",
              "\n",
              "    .dataframe thead th {\n",
              "        text-align: right;\n",
              "    }\n",
              "</style>\n",
              "<table border=\"1\" class=\"dataframe\">\n",
              "  <thead>\n",
              "    <tr style=\"text-align: right;\">\n",
              "      <th></th>\n",
              "      <th>target</th>\n",
              "      <th>Predicted</th>\n",
              "    </tr>\n",
              "  </thead>\n",
              "  <tbody>\n",
              "    <tr>\n",
              "      <th>0</th>\n",
              "      <td>844.40</td>\n",
              "      <td>847.654779</td>\n",
              "    </tr>\n",
              "    <tr>\n",
              "      <th>1</th>\n",
              "      <td>2675.25</td>\n",
              "      <td>2676.828799</td>\n",
              "    </tr>\n",
              "    <tr>\n",
              "      <th>2</th>\n",
              "      <td>1165.95</td>\n",
              "      <td>1164.678967</td>\n",
              "    </tr>\n",
              "    <tr>\n",
              "      <th>3</th>\n",
              "      <td>2310.35</td>\n",
              "      <td>2310.516363</td>\n",
              "    </tr>\n",
              "    <tr>\n",
              "      <th>4</th>\n",
              "      <td>2488.40</td>\n",
              "      <td>2486.403897</td>\n",
              "    </tr>\n",
              "    <tr>\n",
              "      <th>5</th>\n",
              "      <td>1797.15</td>\n",
              "      <td>1799.782776</td>\n",
              "    </tr>\n",
              "    <tr>\n",
              "      <th>6</th>\n",
              "      <td>1676.75</td>\n",
              "      <td>1675.948929</td>\n",
              "    </tr>\n",
              "    <tr>\n",
              "      <th>7</th>\n",
              "      <td>953.95</td>\n",
              "      <td>955.942064</td>\n",
              "    </tr>\n",
              "    <tr>\n",
              "      <th>8</th>\n",
              "      <td>2909.30</td>\n",
              "      <td>2910.889483</td>\n",
              "    </tr>\n",
              "    <tr>\n",
              "      <th>9</th>\n",
              "      <td>496.75</td>\n",
              "      <td>496.940020</td>\n",
              "    </tr>\n",
              "    <tr>\n",
              "      <th>10</th>\n",
              "      <td>2329.00</td>\n",
              "      <td>2328.089065</td>\n",
              "    </tr>\n",
              "    <tr>\n",
              "      <th>11</th>\n",
              "      <td>2009.95</td>\n",
              "      <td>2013.320669</td>\n",
              "    </tr>\n",
              "    <tr>\n",
              "      <th>12</th>\n",
              "      <td>1480.10</td>\n",
              "      <td>1480.266736</td>\n",
              "    </tr>\n",
              "    <tr>\n",
              "      <th>13</th>\n",
              "      <td>1250.25</td>\n",
              "      <td>1254.728224</td>\n",
              "    </tr>\n",
              "    <tr>\n",
              "      <th>14</th>\n",
              "      <td>2420.05</td>\n",
              "      <td>2422.671379</td>\n",
              "    </tr>\n",
              "  </tbody>\n",
              "</table>\n",
              "</div>\n",
              "      <button class=\"colab-df-convert\" onclick=\"convertToInteractive('df-874caf70-c98a-4bd9-bb18-3c88e64c142b')\"\n",
              "              title=\"Convert this dataframe to an interactive table.\"\n",
              "              style=\"display:none;\">\n",
              "        \n",
              "  <svg xmlns=\"http://www.w3.org/2000/svg\" height=\"24px\"viewBox=\"0 0 24 24\"\n",
              "       width=\"24px\">\n",
              "    <path d=\"M0 0h24v24H0V0z\" fill=\"none\"/>\n",
              "    <path d=\"M18.56 5.44l.94 2.06.94-2.06 2.06-.94-2.06-.94-.94-2.06-.94 2.06-2.06.94zm-11 1L8.5 8.5l.94-2.06 2.06-.94-2.06-.94L8.5 2.5l-.94 2.06-2.06.94zm10 10l.94 2.06.94-2.06 2.06-.94-2.06-.94-.94-2.06-.94 2.06-2.06.94z\"/><path d=\"M17.41 7.96l-1.37-1.37c-.4-.4-.92-.59-1.43-.59-.52 0-1.04.2-1.43.59L10.3 9.45l-7.72 7.72c-.78.78-.78 2.05 0 2.83L4 21.41c.39.39.9.59 1.41.59.51 0 1.02-.2 1.41-.59l7.78-7.78 2.81-2.81c.8-.78.8-2.07 0-2.86zM5.41 20L4 18.59l7.72-7.72 1.47 1.35L5.41 20z\"/>\n",
              "  </svg>\n",
              "      </button>\n",
              "      \n",
              "  <style>\n",
              "    .colab-df-container {\n",
              "      display:flex;\n",
              "      flex-wrap:wrap;\n",
              "      gap: 12px;\n",
              "    }\n",
              "\n",
              "    .colab-df-convert {\n",
              "      background-color: #E8F0FE;\n",
              "      border: none;\n",
              "      border-radius: 50%;\n",
              "      cursor: pointer;\n",
              "      display: none;\n",
              "      fill: #1967D2;\n",
              "      height: 32px;\n",
              "      padding: 0 0 0 0;\n",
              "      width: 32px;\n",
              "    }\n",
              "\n",
              "    .colab-df-convert:hover {\n",
              "      background-color: #E2EBFA;\n",
              "      box-shadow: 0px 1px 2px rgba(60, 64, 67, 0.3), 0px 1px 3px 1px rgba(60, 64, 67, 0.15);\n",
              "      fill: #174EA6;\n",
              "    }\n",
              "\n",
              "    [theme=dark] .colab-df-convert {\n",
              "      background-color: #3B4455;\n",
              "      fill: #D2E3FC;\n",
              "    }\n",
              "\n",
              "    [theme=dark] .colab-df-convert:hover {\n",
              "      background-color: #434B5C;\n",
              "      box-shadow: 0px 1px 3px 1px rgba(0, 0, 0, 0.15);\n",
              "      filter: drop-shadow(0px 1px 2px rgba(0, 0, 0, 0.3));\n",
              "      fill: #FFFFFF;\n",
              "    }\n",
              "  </style>\n",
              "\n",
              "      <script>\n",
              "        const buttonEl =\n",
              "          document.querySelector('#df-874caf70-c98a-4bd9-bb18-3c88e64c142b button.colab-df-convert');\n",
              "        buttonEl.style.display =\n",
              "          google.colab.kernel.accessAllowed ? 'block' : 'none';\n",
              "\n",
              "        async function convertToInteractive(key) {\n",
              "          const element = document.querySelector('#df-874caf70-c98a-4bd9-bb18-3c88e64c142b');\n",
              "          const dataTable =\n",
              "            await google.colab.kernel.invokeFunction('convertToInteractive',\n",
              "                                                     [key], {});\n",
              "          if (!dataTable) return;\n",
              "\n",
              "          const docLinkHtml = 'Like what you see? Visit the ' +\n",
              "            '<a target=\"_blank\" href=https://colab.research.google.com/notebooks/data_table.ipynb>data table notebook</a>'\n",
              "            + ' to learn more about interactive tables.';\n",
              "          element.innerHTML = '';\n",
              "          dataTable['output_type'] = 'display_data';\n",
              "          await google.colab.output.renderOutput(dataTable, element);\n",
              "          const docLink = document.createElement('div');\n",
              "          docLink.innerHTML = docLinkHtml;\n",
              "          element.appendChild(docLink);\n",
              "        }\n",
              "      </script>\n",
              "    </div>\n",
              "  </div>\n",
              "  "
            ]
          },
          "metadata": {},
          "execution_count": 105
        }
      ]
    },
    {
      "cell_type": "code",
      "source": [
        "graph =dframe.head(10)\n",
        "graph.plot(kind='bar')\n",
        "plt.title('Target vs Predicted')\n",
        "plt.ylabel('Closing price')"
      ],
      "metadata": {
        "colab": {
          "base_uri": "https://localhost:8080/",
          "height": 298
        },
        "id": "h5H1glOhtBgM",
        "outputId": "24a5426c-e7d8-4750-d557-0ea12f844586"
      },
      "execution_count": null,
      "outputs": [
        {
          "output_type": "execute_result",
          "data": {
            "text/plain": [
              "Text(0, 0.5, 'Closing price')"
            ]
          },
          "metadata": {},
          "execution_count": 106
        },
        {
          "output_type": "display_data",
          "data": {
            "text/plain": [
              "<Figure size 432x288 with 1 Axes>"
            ],
            "image/png": "[encoded data removed]"
          },
          "metadata": {}
        }
      ]
    },
    {
      "cell_type": "code",
      "source": [
        "import math\n",
        "from sklearn import metrics"
      ],
      "metadata": {
        "id": "gaV0fy9btQqJ"
      },
      "execution_count": null,
      "outputs": []
    },
    {
      "cell_type": "code",
      "source": [
        "#metrics to find accuracy of continous variables\n",
        "print('Mean Abs value:' ,metrics.mean_absolute_error(y_test,predictions))\n",
        "print('Mean squared value:',metrics.mean_squared_error(y_test,predictions))\n",
        "print('root mean squared error value:',math.sqrt(metrics.mean_squared_error(y_test,predictions)))"
      ],
      "metadata": {
        "colab": {
          "base_uri": "https://localhost:8080/"
        },
        "id": "yZfi60irtRdJ",
        "outputId": "3cec45ff-b46f-4af7-8229-59338e504f94"
      },
      "execution_count": null,
      "outputs": [
        {
          "output_type": "stream",
          "name": "stdout",
          "text": [
            "Mean Abs value: 2.9112734923236356\n",
            "Mean squared value: 16.37522588394652\n",
            "root mean squared error value: 4.046631424277051\n"
          ]
        }
      ]
    }
  ]
}